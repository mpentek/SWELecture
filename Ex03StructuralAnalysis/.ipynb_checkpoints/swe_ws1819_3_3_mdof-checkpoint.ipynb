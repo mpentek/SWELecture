{
 "cells": [
  {
   "cell_type": "markdown",
   "metadata": {},
   "source": [
    "# Tutorial 3.3. Response of a MDoF system "
   ]
  },
  {
   "cell_type": "markdown",
   "metadata": {},
   "source": [
    "### Description: Structural system may be modeled as a multi degree of freedom - MDoF - system for finding the responses under various loads. Static, eigenvalue and dynamic analysis of a MDoF system is presented. The response of a MDoF system under dynamic (wind) loads may be computed by different direct time integration schemes. These are presented here. Some exercises are proposed. \n",
    "\n",
    "#### Students are advised to complete the exercises. "
   ]
  },
  {
   "cell_type": "markdown",
   "metadata": {},
   "source": [
    "Project: Structural Wind Engineering WS18-19 \n",
    "        Chair of Structural Analysis @ TUM - R. Wüchner, M. Péntek\n",
    "        \n",
    "Author: kodakkal.anoop@tum.de mate.pentek@tum.de\n",
    "\n",
    "Created on:  24.11.2016\n",
    "\n",
    "Last update: 17.10.2018"
   ]
  },
  {
   "cell_type": "markdown",
   "metadata": {},
   "source": [
    "##### Contents\n",
    "\n",
    "1. Structural response of a MDoF system under static and dynamic loads\n",
    "2. Eigenvalue analysis of a MDoF system  \n",
    "3. Comparison of the performance and accuracy of different numerical (time) integration schemes "
   ]
  },
  {
   "cell_type": "code",
   "execution_count": 1,
   "metadata": {
    "scrolled": true
   },
   "outputs": [],
   "source": [
    "# import python modules\n",
    "import time\n",
    "import matplotlib.pyplot as plt\n",
    "import numpy as np\n",
    "from scipy import linalg\n",
    "from matplotlib import animation, rc\n",
    "\n",
    "# import own modules\n",
    "import structure_mdof as s_mdof"
   ]
  },
  {
   "cell_type": "markdown",
   "metadata": {},
   "source": [
    "#### Creating the time instances as an array"
   ]
  },
  {
   "cell_type": "markdown",
   "metadata": {},
   "source": [
    "The start time, end time and the number of time steps are specified here for generating the time series. "
   ]
  },
  {
   "cell_type": "code",
   "execution_count": 2,
   "metadata": {},
   "outputs": [],
   "source": [
    "# start time\n",
    "start_time = 0.0\n",
    "# end time\n",
    "end_time = 10.0\n",
    "# steps \n",
    "n_steps = 100000\n",
    "# time step\n",
    "delta_time = end_time / (n_steps-1)\n",
    "# time series\n",
    "# generate grid size vectors 1D\n",
    "time_series = np.arange(start_time, end_time + delta_time, delta_time)"
   ]
  },
  {
   "cell_type": "markdown",
   "metadata": {},
   "source": [
    "### Modeling the structure"
   ]
  },
  {
   "cell_type": "markdown",
   "metadata": {},
   "source": [
    "#### The structure is modeled as MDoF system with masses lumped at floor levels. Only the translational degrees of freedom are considered at each of the floor levels, so that it behaves as a pure shear-type cantilever beam. "
   ]
  },
  {
   "cell_type": "markdown",
   "metadata": {},
   "source": [
    "<img src=\"example_mdof_111_akchopra.png\" alt=\"Drawing\" style=\"width: 500px;\"/>"
   ]
  },
  {
   "cell_type": "markdown",
   "metadata": {},
   "source": [
    "The picture is adapted from from example 11.1 A.K. Chopra (1995)"
   ]
  },
  {
   "cell_type": "markdown",
   "metadata": {},
   "source": [
    "##### The mass and stiffness matrices of a 3 DoF system have the following structure in this case"
   ]
  },
  {
   "cell_type": "markdown",
   "metadata": {},
   "source": [
    "\\begin{gather}\n",
    " K = \\begin{bmatrix} \n",
    " k_{1}+k_{2} & -k_{2} & 0 \\\\\n",
    " -k_{2} & k_{2}+k_{3} & -k_{3} \\\\\n",
    " 0 & -k_{3} & k_{3} \n",
    " \\end{bmatrix}\n",
    "\\end{gather}\n",
    " "
   ]
  },
  {
   "cell_type": "markdown",
   "metadata": {},
   "source": [
    "\n",
    "\\begin{gather}\n",
    " M = \\begin{bmatrix} \n",
    " m_{1} & 0 & 0 \\\\\n",
    " 0 & m_{2} & 0 \\\\\n",
    " 0 & 0 & m_{3} \n",
    " \\end{bmatrix}\n",
    "\\end{gather}"
   ]
  },
  {
   "cell_type": "markdown",
   "metadata": {},
   "source": [
    "where, $k_{1}$ and $m_{1}$ are the stiffness and mass at each level. \n"
   ]
  },
  {
   "cell_type": "markdown",
   "metadata": {},
   "source": [
    "Interested readers may refer to:  \n",
    "\n",
    "[A.K. Chopra, Dynamics of Structures: Theory and Applications to Earthquake Engineering, \n",
    "Person Prentice Hall, 2014](https://opac-ub-tum-de.eaccess.ub.tum.de/TouchPoint/perma.do?q=+1035%3D%22BV043635029%22+IN+%5B2%5D&v=tum&l=de)\n",
    "\n",
    "[C. Petersen, Dynamik der Baukonstruktionen, 2017](https://link-springer-com.eaccess.ub.tum.de/book/10.1007%2F978-3-8348-2109-6) \n",
    "\n",
    "for detailed descriptions."
   ]
  },
  {
   "cell_type": "markdown",
   "metadata": {},
   "source": [
    "###### 3 DoF with given stiffness and mass matrix "
   ]
  },
  {
   "cell_type": "markdown",
   "metadata": {},
   "source": [
    "The mass and stiffness values of the 3 DoF are from example 11.1 A.K. Chopra (1995)"
   ]
  },
  {
   "cell_type": "code",
   "execution_count": 3,
   "metadata": {},
   "outputs": [],
   "source": [
    "# stiffness matrix of the structure\n",
    "k = 610 * np.array([[ 2, -1,  0],\n",
    "                    [-1,  2, -1],\n",
    "                    [ 0, -1,  1]])\n",
    "\n",
    "# mass matrix of the structure\n",
    "m = 1/386 * np.array([[400, 0, 0],\n",
    "                      [0, 400, 0],\n",
    "                      [0, 0, 200]])\n",
    "\n",
    "number_of_floors = 3\n",
    "level_height = 3.5\n",
    "z = np.zeros(number_of_floors+1)\n",
    "for i in range(number_of_floors+1):\n",
    "    z[i] = level_height * i"
   ]
  },
  {
   "cell_type": "markdown",
   "metadata": {},
   "source": [
    "z is the array of height coordinates."
   ]
  },
  {
   "cell_type": "markdown",
   "metadata": {},
   "source": [
    "### 3.1 Static analysis"
   ]
  },
  {
   "cell_type": "markdown",
   "metadata": {},
   "source": [
    "The response of the MDoF under a static load is computed.\n"
   ]
  },
  {
   "cell_type": "markdown",
   "metadata": {},
   "source": [
    "###### Static load definition"
   ]
  },
  {
   "cell_type": "markdown",
   "metadata": {},
   "source": [
    "\n",
    "Point load at the top "
   ]
  },
  {
   "cell_type": "code",
   "execution_count": 4,
   "metadata": {},
   "outputs": [],
   "source": [
    "# initialize with zero values for all DoFs\n",
    "static_force = np.zeros(len(z)-1)\n",
    "# assign to the top DoF a non-zero value\n",
    "static_force[-1] = 1e2/2 #-50 [N]"
   ]
  },
  {
   "cell_type": "markdown",
   "metadata": {},
   "source": [
    "###### Solving for the static displacements "
   ]
  },
  {
   "cell_type": "code",
   "execution_count": 5,
   "metadata": {},
   "outputs": [],
   "source": [
    "static_disp = np.linalg.solve(k, static_force)"
   ]
  },
  {
   "cell_type": "markdown",
   "metadata": {},
   "source": [
    "###### Computing the reaction at the bottom "
   ]
  },
  {
   "cell_type": "code",
   "execution_count": 6,
   "metadata": {},
   "outputs": [
    {
     "name": "stdout",
     "output_type": "stream",
     "text": [
      "Reaction at the bottom for static force:  -49.999999999999986 N\n"
     ]
    }
   ],
   "source": [
    "# stiffnes at the lowest (bottom) DoF\n",
    "bottom_k = k[0,0]/2\n",
    "bottom_react = -bottom_k * static_disp[0] #-50 [N] \n",
    "print(\"Reaction at the bottom for static force: \", bottom_react, 'N')"
   ]
  },
  {
   "cell_type": "code",
   "execution_count": 7,
   "metadata": {},
   "outputs": [
    {
     "data": {
      "image/png": "[encoded data removed]",
      "text/plain": [
       "<matplotlib.figure.Figure at 0x1cb439537f0>"
      ]
     },
     "metadata": {
      "needs_background": "light"
     },
     "output_type": "display_data"
    }
   ],
   "source": [
    "plt.figure(num=1, figsize=(8, 6))\n",
    "plt.plot(static_disp, z[1:], marker='o')\n",
    "plt.title(\"Static displacement\")\n",
    "plt.xlabel(\"Displacement [m]\")\n",
    "plt.ylabel(\"Height coordinate [m]\")\n",
    "plt.grid(True)"
   ]
  },
  {
   "cell_type": "markdown",
   "metadata": {},
   "source": [
    "### 3.2 Eigenvalue analysis"
   ]
  },
  {
   "cell_type": "markdown",
   "metadata": {},
   "source": [
    "Eigen value analysis is conducted to identify the mode shapes and frequency of the MDoF. \n",
    "Computing the eigenvalues, frequencies and periods of the MDoF."
   ]
  },
  {
   "cell_type": "code",
   "execution_count": 8,
   "metadata": {},
   "outputs": [],
   "source": [
    "# raw eigenvalues and eigenmodes\n",
    "eig_vals_raw, eig_modes_raw = linalg.eig(k, m)\n",
    "\n",
    "[n_row, n_col] = eig_modes_raw.shape\n",
    "eig_modes_norm = np.zeros([n_row, n_col])\n",
    "\n",
    "# natural eigenvalues, eigenfrequencis and periods of the sturcture\n",
    "eig_vals = np.sqrt(np.real(eig_vals_raw)) # in rad/sec\n",
    "eig_freqs = eig_vals/2/np.pi # in Hz\n",
    "eig_pers = 1./eig_freqs # in s\n"
   ]
  },
  {
   "cell_type": "markdown",
   "metadata": {},
   "source": [
    "Normalizing the modes. Refer to [slide 23](http://www.colorado.edu/engineering/CAS/courses.d/Structures.d/IAST.Lect19.d/IAST.Lect19.Slides.pdf) for the normalization of eigenmodes."
   ]
  },
  {
   "cell_type": "markdown",
   "metadata": {},
   "source": [
    "The following checks are done for the normalization. \n",
    "1. Generalized mass should be identity\n",
    "2. $\\theta^T \\cdot M \\cdot \\theta$ should numerically be $0$ for off-diagonal terms, where $\\theta$ is the normalized eigen modes and $M$ is the mass matrix.\n"
   ]
  },
  {
   "cell_type": "code",
   "execution_count": 9,
   "metadata": {},
   "outputs": [
    {
     "name": "stdout",
     "output_type": "stream",
     "text": [
      "Generalized mass should be identity\n",
      "norm  0 :  1.0\n",
      "norm  1 :  1.0\n",
      "norm  2 :  1.0\n",
      "\n",
      "Multiplication check: The off-diagonal terms of \n",
      " [[ 1.00000000e+00 -2.77555756e-16  2.77555756e-16]\n",
      " [-2.77555756e-16  1.00000000e+00 -4.99600361e-16]\n",
      " [ 2.77555756e-16 -4.99600361e-16  1.00000000e+00]]  \n",
      "should be numerically 0.\n"
     ]
    }
   ],
   "source": [
    "gen_mass_raw = np.zeros(n_col)\n",
    "gen_mass_norm = np.zeros(n_col)\n",
    "\n",
    "print(\"Generalized mass should be identity\")\n",
    "for i in range(len(eig_vals_raw)):\n",
    "    gen_mass_raw[i] = (np.transpose(eig_modes_raw[:,i])).dot(m).dot(eig_modes_raw[:,i])\n",
    "    unitgen_mass_norm_fact = np.sqrt(gen_mass_raw[i])\n",
    "    eig_modes_norm[:,i] = eig_modes_raw[:,i]/unitgen_mass_norm_fact\n",
    "    gen_mass_norm[i] = (np.transpose(eig_modes_norm[:,i])).dot(m).dot(eig_modes_norm[:,i])\n",
    "    print(\"norm \",i,\": \",gen_mass_norm[i])\n",
    "\n",
    "print(\"\\nMultiplication check: The off-diagonal terms of \\n\", \n",
    "      (np.transpose(eig_modes_norm)).dot(m).dot(eig_modes_norm), \n",
    "      \" \\nshould be numerically 0.\")\n",
    "\n",
    "# modal masses and modal stiffnesses result in the squared natural frequencies\n",
    "modal_mass = np.zeros(n_col)\n",
    "modal_stiffness = np.zeros(n_col)\n",
    "check_eig_vals = np.zeros(n_col)\n",
    "for i in range(len(eig_vals_raw)):\n",
    "    modal_mass[i] = (np.transpose(eig_modes_norm[:,i])).dot(m).dot(eig_modes_norm[:,i])\n",
    "    modal_stiffness[i] = (np.transpose(eig_modes_norm[:,i])).dot(k).dot(eig_modes_norm[:,i])\n",
    "    check_eig_vals[i] = np.sqrt(modal_stiffness[i]/modal_mass[i])"
   ]
  },
  {
   "cell_type": "markdown",
   "metadata": {},
   "source": [
    "Sorting the eigenmodes"
   ]
  },
  {
   "cell_type": "code",
   "execution_count": 10,
   "metadata": {},
   "outputs": [],
   "source": [
    "eig_freq_sorted_idx = np.argsort(eig_freqs)\n",
    "# extend eigenmodes -> needed only for plotting, adding value for fixed/bottom node\n",
    "ext_eig_modes = np.zeros([n_row+1, n_col])\n",
    "ext_eig_modes[1:,:] = eig_modes_norm "
   ]
  },
  {
   "cell_type": "markdown",
   "metadata": {},
   "source": [
    "###### Let us plot the first three eigenmodes"
   ]
  },
  {
   "cell_type": "code",
   "execution_count": 11,
   "metadata": {},
   "outputs": [
    {
     "data": {
      "image/png": "[encoded data removed]",
      "text/plain": [
       "<matplotlib.figure.Figure at 0x1cb46491438>"
      ]
     },
     "metadata": {
      "needs_background": "light"
     },
     "output_type": "display_data"
    }
   ],
   "source": [
    "# plot eigenvalues and shapes\n",
    "plt.figure(num=2, figsize=(8, 6))\n",
    "\n",
    "if n_col >= 3:\n",
    "    n_col_to_iterate = 3\n",
    "else:\n",
    "    n_col_to_iterate = n_col\n",
    "for i in range(n_col_to_iterate):\n",
    "    plt.plot(ext_eig_modes[:,eig_freq_sorted_idx[i]], z, marker='o',label=\"mode \"+ str(i+1) + \n",
    "             \", eigFreq: \" + str(np.round(eig_freqs[eig_freq_sorted_idx[i]],3)) + \" [Hz], T: \" + \n",
    "             str(np.round(eig_pers[eig_freq_sorted_idx[i]],3)) +\" [s], omega: \" + \n",
    "             str(np.round(eig_vals[eig_freq_sorted_idx[i]],3)) + \" [rad/s]\")\n",
    "\n",
    "plt.title(\"Eigenmodes - mass normalized eigenvectors\")\n",
    "plt.xlabel(\"Eigenmode magnitude\")\n",
    "plt.ylabel(\"Height [m]\")\n",
    "plt.legend(loc='best')\n",
    "plt.grid(True)"
   ]
  },
  {
   "cell_type": "markdown",
   "metadata": {},
   "source": [
    "###### Let us look at the animation of the i-th eigenmode"
   ]
  },
  {
   "cell_type": "markdown",
   "metadata": {},
   "source": [
    "select the mode to be animated: "
   ]
  },
  {
   "cell_type": "code",
   "execution_count": 12,
   "metadata": {},
   "outputs": [],
   "source": [
    "mode_i_idx = 1 # for naming modes - 1 to n\n",
    "\n",
    "# shifting mode index for python convention\n",
    "mode_i = mode_i_idx-1\n",
    "eigenform_i = ext_eig_modes[:, eig_freq_sorted_idx[mode_i]]\n",
    "omega_i = eig_vals[eig_freq_sorted_idx[mode_i]]\n",
    "period_i = eig_pers[eig_freq_sorted_idx[mode_i]]\n",
    "n_period = 1 # number of periods\n",
    "simulTime = np.linspace(0, n_period * period_i, 20 * n_period)\n",
    "\n",
    "# first set up the figure, the axis, and the plot element we want to animate\n",
    "fig = plt.figure(num=3, figsize=(8, 6))\n",
    "\n",
    "ax = plt.axes(xlim=(-max(np.absolute(eigenform_i))-1/10*max(np.absolute(eigenform_i)), +max(np.absolute(eigenform_i))+1/10*max(np.absolute(eigenform_i))), ylim=(0, max(z)+1.0))\n",
    "# line, = ax.plot([], [], lw=2)\n",
    "time_text = ax.text(0.05, 0.9, '', transform=ax.transAxes)\n",
    "ax.set_xlabel(\"Nodal position Y [m]\")\n",
    "ax.set_ylabel(\"Nodal position Z [m]\")\n",
    "ax.set_title(\"Nodal displacement plot in time [t]\")\n",
    "ax.grid(True)\n",
    "\n",
    "# data placeholders\n",
    "xd=np.zeros(0)\n",
    "t=np.zeros(0)\n",
    "\n",
    "# set plots\n",
    "lwf=2\n",
    "displ_i, = ax.plot(t,xd,'b-h', label=\"mode \"+ str(mode_i+1) + \", eigFreq: \" + str(np.round(eig_freqs[eig_freq_sorted_idx[mode_i]],3)) + \" [Hz], T: \" + str(np.round(eig_pers[eig_freq_sorted_idx[mode_i]],3)) +\" [s], omega: \" + str(np.round(eig_vals[eig_freq_sorted_idx[mode_i]],3)) + \" [rad/s]\", lw = lwf)\n",
    "ax.legend([displ_i], [displ_i.get_label()])\n",
    "\n",
    "# animation function\n",
    "# this is called sequentially\n",
    "def animate(i):\n",
    "    global x\n",
    "    global yp\n",
    "    global t\n",
    "\n",
    "    # plot the time\n",
    "    time = simulTime[i]\n",
    "    time_text.set_text('time = %.2f' % time)\n",
    "\n",
    "    displacement_y_i = eigenform_i * np.sin(omega_i * time)\n",
    "\n",
    "    displ_i.set_data(displacement_y_i, z)\n",
    "    \n",
    "    return displ_i\n",
    "\n",
    "# call the animator.  blit=True means only re-draw the parts that have changed.\n",
    "# interval: draw new frame every 'interval' ms\n",
    "anim = animation.FuncAnimation(fig, animate, blit=False, frames=len(simulTime), interval=100, repeat=True)\n",
    "plt.close() # prevents inline display"
   ]
  },
  {
   "cell_type": "markdown",
   "metadata": {},
   "source": [
    "__ffmpeg__ is required for the animationplots. \n",
    "\n",
    "Download and extract for (refer to slide no 18 in Installation guides for details)\n",
    "1. [Windows](https://www.ffmpeg.org/download.html)\n",
    "2. [Other OS](https://www.ffmpeg.org/download.html) \n",
    "\n",
    "__specify the path to ffmpeg in Block 13__"
   ]
  },
  {
   "cell_type": "code",
   "execution_count": 13,
   "metadata": {},
   "outputs": [
    {
     "data": {
      "text/html": [
       "<video width=\"576\" height=\"432\" controls autoplay loop>\n",
       "  <source type=\"video/mp4\" src=\"data:video/mp4;base64,AAAAHGZ0eXBNNFYgAAACAGlzb21pc28yYXZjMQAAAAhmcmVlAAB9k21kYXQAAAKuBgX//6rcRem9\n",
       "5tlIt5Ys2CDZI+7veDI2NCAtIGNvcmUgMTU1IHIyOTAxIDdkMGZmMjIgLSBILjI2NC9NUEVHLTQg\n",
       "QVZDIGNvZGVjIC0gQ29weWxlZnQgMjAwMy0yMDE4IC0gaHR0cDovL3d3dy52aWRlb2xhbi5vcmcv\n",
       "eDI2NC5odG1sIC0gb3B0aW9uczogY2FiYWM9MSByZWY9MyBkZWJsb2NrPTE6MDowIGFuYWx5c2U9\n",
       "MHgzOjB4MTEzIG1lPWhleCBzdWJtZT03IHBzeT0xIHBzeV9yZD0xLjAwOjAuMDAgbWl4ZWRfcmVm\n",
       "PTEgbWVfcmFuZ2U9MTYgY2hyb21hX21lPTEgdHJlbGxpcz0xIDh4OGRjdD0xIGNxbT0wIGRlYWR6\n",
       "b25lPTIxLDExIGZhc3RfcHNraXA9MSBjaHJvbWFfcXBfb2Zmc2V0PS0yIHRocmVhZHM9NiBsb29r\n",
       "YWhlYWRfdGhyZWFkcz0xIHNsaWNlZF90aHJlYWRzPTAgbnI9MCBkZWNpbWF0ZT0xIGludGVybGFj\n",
       "ZWQ9MCBibHVyYXlfY29tcGF0PTAgY29uc3RyYWluZWRfaW50cmE9MCBiZnJhbWVzPTMgYl9weXJh\n",
       "bWlkPTIgYl9hZGFwdD0xIGJfYmlhcz0wIGRpcmVjdD0xIHdlaWdodGI9MSBvcGVuX2dvcD0wIHdl\n",
       "aWdodHA9MiBrZXlpbnQ9MjUwIGtleWludF9taW49MTAgc2NlbmVjdXQ9NDAgaW50cmFfcmVmcmVz\n",
       "aD0wIHJjX2xvb2thaGVhZD00MCByYz1jcmYgbWJ0cmVlPTEgY3JmPTIzLjAgcWNvbXA9MC42MCBx\n",
       "cG1pbj0wIHFwbWF4PTY5IHFwc3RlcD00IGlwX3JhdGlvPTEuNDAgYXE9MToxLjAwAIAAACVuZYiE\n",
       "ABH//veIHzLLafk613IR560urR9Q7kZxXqS9/iAAAAMAAAMADhIIszNu7bARC4AAAgJxLfxGP8OI\n",
       "A5GfpGrBkQ1P/Y+X+oaoAcy7bXy3euxYiSTfkKzFyc3etCYCCfTJAZEEQDYf4kC1+1rcVFZGGERR\n",
       "oSPuLKLuv1+v5oidNQdgSe5g5XoOtnu1WoUmbNMMxxJlWD4kWuBijmfv+wnW0sh+fZwTMW8a2kjk\n",
       "DP/7Ntg0bTgmdf098FMTAKHSxlW/BZBn2xRV65peHQl804lejWmhBaXvETXs56QPVaNg3p9Vgc8L\n",
       "RzHI7y/X4jTXSR5r0HoRhOuz1luufMyXkb2wXgdYveOjLjs+H7n3z136fXYtAGj69jpQiwDMN/Kc\n",
       "uiLdFCmeqvu+MXCZSMt3L47q4du31ky4i/rzwUhwZAe4+yrwh4gqEM1JYJ9a9PdfE6ER/oViqwB7\n",
       "p7mzgZEnzcOMDEa9IAW4TOUFNLPVIH7+iBJeYcRXatkNVqQvZqiEH5DhtDy958wtA+PIOqleVo7Q\n",
       "/PhWtjIfvcaVf1QMRJ1sc+HZmSsREVH9Q8KlBrx93tD0FNLuChqEBefmkXI6vK1x29mzVhH6dlih\n",
       "VLT2/TQFangyhgKmxlhjHcu3ZkclldzxVBbnqYUlsqMPeuGAQAnPWYddQOYfX/juhugI3VYavfHp\n",
       "Sn4FrAjWSRqPU0tIcgF5LYDBtxSRVww0D7v6y46p+gY2+rkvR/Y+AqEWMx51i8oKNZwSzqPJgLqw\n",
       "8dTWjMJdKd4w8JMDZ+3Q50pXytkh/z4oQ9AHNcjwt+IfmVsTk1p0Z5MlcFyR5+GPqTxddqcEFxCY\n",
       "X7YHeMq6xgYf5Q1j9hVAphHKRvSGQC5gLkUlj6teKcaNf5oeTMmgqP9cvHvrsUAVrjMVjFLUH0RU\n",
       "oMnxjIcajfLga7UYJVPsOHp7GuB2NclPRd/qsGtSxFvt0c7UA+z/RGSyMcBVvMLoowQcN1y+25mE\n",
       "WValnoa7aWiB+8+ILAEzYaCj6sC+Ix47YDQPQ5jh0fdzeGq8D8DGQhxekxDGVZ+nV+/K686iUWPJ\n",
       "pry3h1LdUWlFrB6XnEnIAN20Y2n0r0Db7VR03SoyOkpDMRAiWnXe0P1kXvsNfoxhI3GtP/PUdcgN\n",
       "6PNXlBNYQrlsyGsO1nVC/eyndqZtm5QKVRyqHsmqmCBBQDe9aABEitkjV84oxB4AjY23ZU8Br1MQ\n",
       "wy3tYjl2Q3WLeYQ3jsE/4qfCPtvr+DWpTM1+RKK+f6Gf3uJF5Yr+Z0DYt9L/fLNmIj+mvVN6ipCO\n",
       "skCUfglfSysdT/6GfAwc3804OHagZnZTBOcGZLwWpWDZMeuQnaEmlGrqy7V52dBKVUdR+rVp1YTX\n",
       "lxZDJ+gaPeltjyWW7/STOEIa/UF83YdgF/WdQi6YX50bh+rQKRLMCjGpdjrOXJMAlohw4TBsMRMz\n",
       "3nHX9p5zH87osLOX7EDg2eE5wK4L0OAvwdzPI7ijOB7V/PbAgdKOXInQQGlOAuvPlynTnXdK3r6k\n",
       "WgEF/3THMOhlrL7yhRzfwScXa6kKD9s/np2JPDYT/8bj37BUXCYtnPr2elnbKiIy7xkV3368eyRx\n",
       "iv0VqxPaxIrUHFz8VXKR0oH38op09cGP0FnlpjasG5VG43+9zyQOJDgtiztHlVEE+NSddSeX089J\n",
       "L/S3k9BrCVDadoew+uNNwd4wkA4OgVrS3yi6/0jwqp9PqeOR32a8XS5A3PhdJgmjhlyBeK26sRAH\n",
       "3KnsQA5ahsjC/nRyfr6XKDzOCUWsRN7eX0sMiFBHwos/8lYUHYejyjO8UTdsXJNTAb3H2a1m53+c\n",
       "MuRLtLMcGNTpikDx/8LyJ9ofTjOMIqXvATO65JyaVEhLZopNrbslheTzTf3AK5Eizn83qawzDJwT\n",
       "pFitDW55saJga4VrvW+FkwUlZn6oZ6tdojrv1n9wCKVuGszDPm9bQnX5yt6R02jOBpT3JU+OTWjb\n",
       "TaQelEOQOUccBKDbSyUmob+1jN/ZVH/BSsdoeES96eXy5z/XQwccJClcMXfGnJQ8i/ANTYDwSyBX\n",
       "VtUX4ibLw0GH/8KqpTUxzoyu8EAlUO/n1Zrx3H9OHvV4h2bLkpjPwAX//SsimjfZbhJXgIra5t5V\n",
       "Cpzky/td54NtUaaxbJBfQG6bWkNBMqqdkGiZtp+JkbZjMzrnhxkzjRzruZG/VDh0Fal4aZezCY3a\n",
       "6fRnajTc8IMWdhiI3KhwFAOwyfK8y1rfsYEyHIHFTZsQ7yeoIgqSVcoB8QhMKs+29+vwIRFvNhMo\n",
       "g8ZnAVosuw/lJ4zMA/2kRWyE1+WzQfkaQ5bDl75394GpubC7AL2GTftXOtck+yJZe3O3tEiICGK4\n",
       "7a/Zsp+Qms2wJdRybAQbEMtgqaTZj+yvfTwGNDkZf40mjUEFM6asIGVnSRr7GFCUXNcCYoiLsOXL\n",
       "PzVLSFx2l4Ir3/TDMU9jJ6L+AlbMou2/HTi7rHowyEQZAHazSg0X0n7AsWq3AB8CCfdydTpfN9A9\n",
       "UpsTobwRf0xgX9w9QGBjVii58Wvz0Ue9fVuAQe8kUht7z/9x2lsrDoG7b//vtzqe5//0f5XIMKzD\n",
       "jWRWUbi/lAtQmPnitf/QBhhCt4HGMZIrmtUcnbLZC+9rBRWgROaj/c0GOk+H/vjf80DLqxdFDdWW\n",
       "vLK91r5Wzk4uiBX1Ad05hcCrN2fsTmrivx0G/1dbpjlRqWcxWk33DNBwlXFgKgMm3qW+EasekPSz\n",
       "181yAip+1DTk7GYaHuP4CkkRpm9t2jZQfCnyEUFfiwYX7IKxWR4qyAHqSGqSmVDWIPc8c8+QhWGf\n",
       "ble8fvj0fOXx90zjn/R0Av5E+Vmg9zpm0s2Z0zSpqP4a9f8Nw7XKf0oz6x8b2ygcEphHEAKBkLPG\n",
       "ZxwB4xqZeAdLuYwdLMvCAucCk3YqKwd7puPlglZU6W3ll/ZyRzhS0jqeLP9wkcHZANLcYJHSPRI8\n",
       "gbbreKU3ZG1x4Wbi3decf7pCDHnx4x1USOIJthmRpwM2oM8Eu8YQQ5E7nBGjZytUgDEFTcOSAlqm\n",
       "RBB/frgHRftYiST3MYXmagFmzLpDwcjov9BMnJ9sYCM6goyxCQSfSEW0Ro6rIFWh8fhVdMePsX2w\n",
       "ZL+4+sw29WPmCoF7jjP3Uw4FeKvfKxpm+SkpSc0NGDstYFdr5+x/cK0em3aYo8IztrW0up+DdyKj\n",
       "4+teb//+FDz18L4v/8kOl3sstJlKbR9I093A8mOBDd4aFx4B+afIAJ7ZK3SucIS4mbw/QhlmFK1T\n",
       "BXtPju2n7Kr8MAi3DKQR0lx6PMOgBW9K8OEgY2OXO9XxcH5QXwkIw3fc122lAajFi+PZjrDwh1IB\n",
       "BLiqCEguXloO4gAEbcyS7ur0iXJ67KKY2dr4150MovQzQeKqdvphoCe+QhrsMr0jP1RnPrIot/G1\n",
       "JuY+oPXkn61GpiALl6AqP17Etc7nvTNrcv2bu5TEASP/NdZQKx70WiS8HOLpbKdayAW+X6I2/GK0\n",
       "+kBqvclQDP4KLSGqZFXZuPyyncledXPvEmS1MdzyaJrrqBs6Pl5IT1ivHp0fongSkxFZguFOHgH1\n",
       "tLdulQ3yGq48Q/jvoZZq6JD93QLjPPZdNQ9dOSJf9jXjA7aLgzAxyxgn+raaTsf5QNmmxfdBdu+E\n",
       "nZgyAHKCmJDVOUUzlFvgHKDOO8jDe3+hAaOle+B929+EMLxI6sMp2yWdhLy3FF5vTXJBcx4TB9Td\n",
       "lB5L7V7n4uc/x2g+6uCfDfKLZivxldZxYikStnWmTSH94WJzUTFuhWfaFBS+y1VR7SF3P+fxN1jk\n",
       "R2bFkdw+8BOKcnHeRs5lwkl8FMRn3jVzFeknxa6rGUv2lBKRgQaXh872mQmjjRLtiArP2pq4oura\n",
       "iz0rQ3JosPBdQGdIGezSbrQbFTDpZ8FtGIpn8KxS/kufT09B8PDu9wTN0kZnxnBq7b+XZvni6ANq\n",
       "tIPLZ2KJ3OW9oVBkzMcj+OiDs1r2E/anv6eAN8hPbBZXaUQ0LqCIjylZJgKJvo3f7yeqlNM69hQl\n",
       "5oSW09YP68eS7FS6Jol5XIqLdntJ8WYASq1CG1FmdrTP+XGtZov3ByTkh68/XGTVoewK7UO+Sphp\n",
       "Ddiagto/LdLAJKgVa5NS0c8GzoONyM0DTF5FkD8x7KDam01Ux73Z5b6J660H0c1rXTmhBLafNBas\n",
       "0tYxS3Hszy1p/Kboc2ZnLoA1M2bImF4h+IbIqIlaFqfStWTp7Y1l/4hHowQqh4wnws87DR33qyEZ\n",
       "W7mnCJ+ywNL4c2KR1Jia1wkEu0prHRCkMIvQWckZK6xC7Lf9dLEssrKCzCbcgWK8T1YtVBzkrzuq\n",
       "Qbkx74NRDQmx6lfad7HyISdTY7YU1ahAipeKSbYw5Jp0LeutmrBIgQe75LjyatOiCPAK99OPwO6k\n",
       "WhJ5pVimub9hHFJHiNqlbJOiuIH4QdhHV+eqHoKF9LFy9s+v6nRpk5uoGwKg2dgu9oCCkaZiRs0k\n",
       "VQiI7n8oEgolRvypsM76WXiO7DxV4LuYsxTxVm5DlfTRLNz74lFtaJPkuuyL5EAVHN6suZKXqvPm\n",
       "kpxlZeeNlNkLVy2INLPrCI/h4S26lnAquOK3EBOtPypFVouCxb/vpN1iyYQ/IeG+gvvsNscKuakk\n",
       "vXJdJldbOEjKn99UlW4vGBs46gtTUwwKMJ1E99sUEzds3XyhwuCVAVlVAPCnmnWxjRKQvW1KUXUe\n",
       "rMdn5K0iCaa50cyn2fqVduAVhE1dsJp/rAXFs4a4g+Evmsln7mMWVmImHdBzOXMuYzXW2y6Bi2/d\n",
       "kFAf0OPzdV9/rWt7+AMC8aNMHJnWzXT0P8bp+4hpmMpKtKJKnVbJfHsMFeQeZHeg1ZeFc5D2by/l\n",
       "beg9EA4wHLrTdRa5rMC9aajMzEREFf92EtdZOPvAdXIP/N+LgXI/tZvk0G7KM1KXwj///x6SLB+J\n",
       "SgDGG107bU57IG15OG5O5WEZWAPs68fIWch4rlC6IltXKvj21/xBdbpykwZ3iOnLir6TdmnHLxzK\n",
       "AjhY+JkWlWcpA/1/9oJzRmnEk/NA1xEMtoh5+4e37ToCvutN1fVdciICYtTkwr3JtOFG1L2DidN0\n",
       "AfxArvgV/u+f0dKzPDWFMPvVNMSEQUiuipKsuAnnbW70Cj9lY1QWBYQHCn3HCxim5tkqzeot19ni\n",
       "Mj2I1BCrbwUSO0xV+lBAeY2v1q+hQAu78Iq+94g7lilIN7n7Hud5M3//Orz+zPgBW31XMkUJ/C7z\n",
       "57cyHUPyc+YMStYFmUrKdpyoRqsTd1ovG5n/FONnV0xWgA2M0tBeAyHevOHdlkl/bckFJ6ug2YTq\n",
       "bpLBXUGVigynl5BsT3i/oyyyFyWr614EH3dBGH8LztfgCpN3iGEE1NKvLHL+TT9xql9XvQosdc1s\n",
       "IXnVY8d4bYtRcaV41Oo6nRhusBBVTXRInOEumtGb+Y74avUZeaybsRWdJJe/0cHur436rrpiQqAe\n",
       "ujGVWqfryBkDkZMV3lWVXljQJ+fTvN9RQbup+wR04etERD9KJhyBsrJZOq6ySej0O57JYew7DmxW\n",
       "vB0np6b0XSs7+3oaSx0SUYbIaQCV475eZ6dIu0DoPZVrycQwxME9qwvgkz0fI3+wmkq5rqF5u5ef\n",
       "epkbfP/R0UwdhYUao3zpIl0faIsyF6BuQW1MORHTvvjB3Akg9Uort5XzxO8+Bj3piIrzStEfduYV\n",
       "3gJWoz8iIlXSpaBLaDLR9+CoVaGAG+s/QrrNiyHHCVHTTvn1f/7W7/2e84TqdtjwQIXgekx8D7bR\n",
       "uLuzOEi1aaLLBVXTv5fEdOM3QcEGh4E8cjdNi1RejuonZ88VsEwV147JcbXnGsjRag2+zm9Zlx6c\n",
       "0IRlN9IFWcSsnhVVaPpEEfL5o3dWiWJI5PCcr+vnZfMx5puG9MnNvW97uTMtpIi/KXikx0P8zfpc\n",
       "JdL4DNEGAg2eb3YPiNEk3Xs5yENUzWieJrROTUu1GtqKYT7EbZAES3GqaCcb6HJ1OwjHSotcAny3\n",
       "77gSxOd7jZuDS1Ki+bhZ+JydnWY6mFGFNCcQBaiAbdTAwH1y2kUAERrqRhDk3+O653U0DH3zW6Zo\n",
       "BKHScNXyXNJRV4sD9PNJ9JEfQkh1YrJHy8zShJpeJ4tFBj1noWHjo9agShsn9DFVWHxO+QRV/0OZ\n",
       "8N+dgx5StimuMuC4tEvwCpv/KchpdJmJQxKckWt6dZb4gHJ9O3fR10hJxsgRr7zS7XQoK7qx4tCy\n",
       "o597wCpFC4yrSd7NJbtJJFyn+MdcOx15t2p/TggbXR8xPb6YG/Q/oyVr7InXDAcPtd8NZEcycsz7\n",
       "U0mirry05ZmkN7C2VtUvXPiHJ/56VRQcwT41pNdvs+Iu+SFPZNx7gMS083JbxIeHo30Gb76x3Iji\n",
       "KpBDTZCvH4/UWSBpIPuXFPRQMIg/LJFg5S7pdhD8KXLu3IPifPSb98w2Eg2Ai/J3fxj0ABKF9yB3\n",
       "FPoS+xQaqMUa39MJBQ6fWXJV0Nh6fMXLYkMG6yvugSrzobL3+m5//Qd+Qe7yg2XauF82r9bQBESD\n",
       "wZaioUzDcy8Bu1icFymiKVZpmEmH/knKta9AccIO23D1LBV51t3+tg71rjlX3ZPqXZaPorPSf0K4\n",
       "PQmhWZRfynkz2codWdvDcEEYuleWIqo1mYgf1c98ADt6wDGmG5IZ6VIeTmO4fbPa+ZKa6cwW6n/m\n",
       "SPvD7HbvoL4gcAryphhjrMQc3vbWXVHGZWOkmC0AX7GO3ieQQ3ZHgiBVXtfGRo0ISiz5wh0kyDmu\n",
       "rV+ZOe1EtE8v/dghir4OVUJPfpQVeShaeGH23MwLy0iWUs9+asFu4qvz4SxA+yXtWHGE/7JZBB8W\n",
       "/PZ5+64FXi1gym1PI550hCEb4n+hWjKegVFVlG1nPGoQH2b56tmSCICfEXUqcoxDJ4ZqNsOjg0O8\n",
       "2JPGtGdKOGJlxQz5w7T+BOqVy0L9Ia8JrruW/mHTt1/f9rht8ZICb+jn6EX7hL8ujfzmkjcmry3b\n",
       "gH9dGuJ/eeWu4HDNnr7nCdXuq2AcnSrQfCtu2yhAnlcdIh4zlTO46ncLV89vMF80M2hVPFu5/jlv\n",
       "Kzw0ELrdMISYJMW+7qO0EV/pJ9JKsnL++DfF0UJPCReuNl9DWpoPwLmeYcxM2UYopsHusFgcpz4b\n",
       "Bd9/R1BoeF/sqiEG5C0IqDcAPWGPHsD5afmVRKCvP825ln92bb6VY41Ha1XgNMVwCRr44FcH+8Wn\n",
       "xGL+EDjz1B+XI6V2A0fSymN9fusBhc8PN195DbxDVgAJhkEfqpfJqmtjlt+F50SNWo7e0Xej1tMg\n",
       "TIpN07hJ+DQre884Ok3pTzj5pFDQBNonXd+HmF+J5luk6V5P2MMP9wawSHMRTjOanqRWfVJM6yhf\n",
       "l81/n9GJkhTpMVwXhvbNbBdpXn84cZ7G38Net1ZTUTvJIDt4r0EEh4IFPxKMuEpQLhELsgj/MxJb\n",
       "HF4pkrRXPNCUEvTqPfJNrycn9QtO+j0cjQIkFNNSwgx14k226D09DHDVaLyuZrw9L0p/Is1kryDl\n",
       "dcYh6qsRVTWsyOglhq+Xavqbb5DkrEnCUld9A1PpdL+igc9bYReDzTzJxplNnQTYN3XPllbjg4DG\n",
       "iNSFvP6xVVxS+LMTs1oN4Zr5GNSd9Ph8uqpfsiLaQJFP/hlf19zShxzXJCNjC+ow7CjmSAoEMAka\n",
       "dYPd9qWiP7vfczVABX6qxLLV8gZUqsJcaXRJhsZy2vKl7H8+of8J4CRH6/75dLi77qi/Ts2b4xU0\n",
       "i41NmENj9vezuRIpEFAbbi+o6l1sY284e3m2kwWORkQ282r9U3R9LmbyOBeA3WKGJVa+ApQqmRHg\n",
       "/YIYG8EohiQd5K9Arm1ZM/Z/x3B+FR57Y/HvFuE23PwVooBUl2Dv4RGF6IZ3d0vkUxtrZD9ri6n0\n",
       "kCCXIeD/Jf1nIsr5AiF5Ez9FiDe1XNJDEPR/x4/OFOejq5b6yyOunF3asnslcmf9/f9Nx4G8vMJZ\n",
       "lVemXx0Yv01SbPc+qh41AXXVyA5yELgtARBCM7Zz61qgCTV6W0St1qw/X+lrK3SdMuY/kig0aZ6Y\n",
       "Ui5q9dTSwOZAzz8mp1xATWwSrAgVL1Mz5+GMudasQ/5xzbXIObFuazIzuCm6DY5fFzxZIj7hf8f/\n",
       "Tg0UoO5dZPhw7AJDoJc4cg737CwwYLSSKzaUjHUhYNq8Ha5zz9i3n670aJZHAMQfx77VclF/dFP9\n",
       "UFTuBqTGh2MqokxqudM8G89l5xfGCbE9tdPL25VjG0AHDklfmfFc2XWfaZAEze5Vn5pfV26EFL9t\n",
       "6IA4DuR824zQVvecqhtPg6j/RqxGk4Uz1s6eaOvdqp4308jil/ouuMUqXoe1fYO6mAEJhZ9GPkPO\n",
       "o62YnvgebhIvzId9kCGq4WgTWS8x8GJs6mbrKFH/ROStSjGUrwL1CpBvv78xwrGsqSpIUexrs2VK\n",
       "UykGLAWYUk5+WKPEeKyTyO9xvS6XjH+mu/mVOPOZCr7ACoQXBIPNiEYYcucwZ/XPnfnRCBovqXmF\n",
       "Uqdfy9ELifsCJq6fNtsocwGv9ReIj3Td9MD0Yv+UBO5XkRoxGlq690ZBxCJSGi5sOiRHFKhMSZ0y\n",
       "BRcK8MmASykZAYYGR83w6VDFtPWlT43Uvt89xP/Yz0TYL2tu5p1VbS+b5xQ2/yIvUXMbIwovAMWi\n",
       "ej9AM82kD+Vb/Of+yKb8BNJBkYIg6zwbtO7pP00VkxbA3ZPX6R6xBjV7Ez6jaReRh/M6ZaPUPKrt\n",
       "mUq3RRZy9CpzMPqgnI+okwPm/jna+fqsMZwFdpterUUzGJUolELNzYNq+FkvBxxJ8te93lR/j///\n",
       "YRs6zpH8pzBMl/kiCqoHwTpcKQDQBr9+m6XesxCRMdrdcMwPfIbdlfm9xnnwZAhXZUMHz7vgqSCu\n",
       "yM2u5jO6sJIkrU6qmKxgerDAOx95OjcGXtyoMLj2l1bk5BEObtffg65kpVg4++YXmEDsb7BgO4YC\n",
       "vxPyCirOQ6S7yZJYopb/Fqz6/khJgBangTx6Y48nKW2x8o5J15PlLugq75sbwx+E3ciLvIGz3llj\n",
       "SDn8aHG9p5DpMVo8aI/XEO3TmccywskXzoYd5o/JI46mLd7EJwBs+eWo8iVtIB3XkZlKfstcMA7o\n",
       "eN+yqo+tfuVE6+HXy4Z8+WqUDBnZ56/9ilbG/1lfYdLrLvXD0PMl7thaKE/vgZgAAbNzZxxq+iuw\n",
       "Zy+2CV2Tjf4cenOcXWihHmc2Nv37k78uCArcsTOfmvh/+bc5/6GJbXCLOUbphUtq6wazIJOzI6G2\n",
       "02GcIY58B3jCSfHJKePGQliLMMpW9jcjxzoNdriJwXyEEwH9DJHIfhALBWKhsxSedtk3/eEFpoEz\n",
       "WsuEvka94TVweaJdy4ZGCCFgtDV60ptxE7QqF/58mSRWOwiXVLkuGFr1poQWci1VB/28lVgpEhAx\n",
       "NZ7ORSfJSpJCKrE58jdl29mP2NKEFVEohs5Y////WPQNcZPe7946N/KU3zE8R2Kl6xMtLHVKa8It\n",
       "GkCkA9m8hEuDt4Sa/fib9Pb0pkOFLLk0Tst1rd2Byt557+Po7BL9RqhpPoRSXtz1roxs1rrizFYR\n",
       "eGDQRg/zWFIgcUovo6hS1oZDDl0JcgKSrZgAPieGtEaoZIAWwcSVwHYYJ6OnN5YNlsZU9+pkIRtN\n",
       "giG/74gLkRJanPePh5Zqw0Id3xU06hTQUfCKqwh6EG+5r1bBLvtda4hCJp6SLbHM2iAjdA2BXxCH\n",
       "WA6kFXhnsROCjgvulOUYT+aAk6nXeGHeYuLSLdFDZyviTBmQ5e2SnTU+7g2bNayx/634SDXV8kWA\n",
       "Y75YT7xrZr76BOs5n+cpvkrernYeY7f6oxkrEcnZje+SSiNLApFPcYt5A5//w3kYNugl0lqN4fQa\n",
       "TpFr21w265A+ri20HXTPqdMcImx1emINyIwvfaUB5Y0J5CVyPFxubWOUVlQDUlTU6ugZSIxQLxSb\n",
       "HjmrRRimP8H4JuaT6wSfHRawWyxeq3HZ/aZYKljwKfz1fJzzPQONmlOGSqvQURwpU2nBHr9evZEp\n",
       "P3nr4wAW7yVq9v4rihnlHTycc30/GgynVdep6sOL1+3An2kvQvnByp+SDSu9BXxYqrWwLlyrqury\n",
       "/3Kw4k5hLtRLKJb/NIUF6UA+XlR6o4led+6vqHIjYm00GBbW43n6wGyNcfDcVQx/aARjWjApuujg\n",
       "Ada5br5f2xVUeUvX1iSgYg3rY8UZYgEpRl1Ad6wOAYrWjB0Vr+ZS3qBE5tyB6n0x2CcAJj2G6aaU\n",
       "u+1A2FZH0blEeo/G+WUyzo42Nw8Z5DLiD0cLr3pjPADdb+HDJLi9Ua7t+mDa43diZeu3xklUCdTv\n",
       "Y9xrSciIL56VI8lCV0o2uVBvJNeO/9LH0LZNJLF1aS+A+c+dwTIZX8PV3ggbaBgwiF8ANboKXhFM\n",
       "LySnOgiL5Tw1WBv6z/YPMrPN7JS0tvFxnWS9i0mtSQ37dKuFAXYSgmAIv9D/P3RX5msjtl3rDH6r\n",
       "fKFjR4VtfcoMO0T4U7VQDutSpI7/eqDk0Akv8lQ/CbXI+ZBdOXpXhx+Ml2h3kZhTWAL6rNsXDBGg\n",
       "F+wme8mj4xKNHN6z9a5/7V1Bmj6tBSIudBLGJCXMfbqP5kVFvjiwujkgrhjLa//awSRtE2Uzg8kD\n",
       "SZlSRjt0HYL/mlFn1YkspuhyngEAHqKHm4YFsUemOFbMGhmiZFCPgPi1gFg3blhKCTbAp/Rgz2cK\n",
       "1gaP4uNSBCKv3j7SRix6Hxk5zQILQPavwqjX7ESYygHhiKP3gxV9ilgPJtF75XkBDzOSWRHAON4w\n",
       "4aitF3KpkLdLe1RvOezAnj+7znXTINGbkshy2WKjz9fGNGJIVnEWIhHYZIA+Q6zOgXsi3cQFmnV9\n",
       "3UhhFnzPQ+JnepGjKU7H/YHu7gCSZ1+NoJm4yGx5un9CEZ5s1l9HFjMqwqVdJtcywePiiavgh/QX\n",
       "GuhldsHfJ17L40qyp6vU6fZ4bCmZQHQpjfX/DttX5YvBh3sISKyo5Ocji0SQfrpH+ZJULVvPrvcI\n",
       "s9FHEzbyg33x7Ed8Z4ysGsPZ67zi5irn2fkg3ZcYmJ8TUAKSczvCbA2b6Ufmb2va96a0GH2oDECZ\n",
       "yhIGSOwdVswvJqAv8l3sYK0ofOsX23VJA4gle0fRNYtdermVQ43suOvGH01Ge871qMCO8OebDhCz\n",
       "WbsqnZSR/F7Is1c11Nk3Yj47G1Y8pNC2iMC0SoKoyN+jWEmEyFLTU4lF13w12gw3WsAVfmqyDFzE\n",
       "4h9qe+Ug1kk2BVpdLvbjrncScEVFV9KYq0rA4f1uQImslOfu0WgxEey60UTB0nlHT73QjYDSWXaR\n",
       "3IjLd14OTqUH0yO+nr0ceYGigyJ6IQHUBYgjX9sg4Q2tRT7RKcwzmLcCBLxRUrKVy0WFIm9xheNc\n",
       "bBjh+IghZRa0z6GLySAp3ELrXO2oIYTNPA7Pw9LcQW+q2vgkrtJYGXnUKu0KHJuXbRPtCBvPXJ+G\n",
       "RafNzxnWq4bd/BeBrlCeakplNFXz7kcsCmeVeu35Cg5M+loTB5UcnP+EhSNnA2RUx01VqC9ERuqb\n",
       "2geuBcshho3ZffPCENjU6u0wWrPpEEilwHPtUULGhPhBx08qyE/EwYa1gvNQ+UtGWyTUXkqu0bTH\n",
       "4Q8kjP3FVT3CXN9pCn2a5Aw0yXU47xhdt3KjtRtVQ7Pb5MbgRd59XoEDl8Sowx5qgR3WhfVlpT4R\n",
       "BfF5atE+IHZ/yiZNrlRt1e8oXpkAhVzwMPaha007PgdJrPRa/Bwt5f8hBw7GGVpyPIyjt2MMIr/k\n",
       "9hokBSMI0DiGTm5GZuPZQ706HW49+a/Cbj+bbwPbI5c6FLAmyNOyK0opx2Y79C26vLXGDeOmidYc\n",
       "Y35jFYeQB0AitVUftugF1HMqC9IzRkVuzcKSe57P6+suf74uuOHTpNISvyJkwrS/gWp9k/rJnVrb\n",
       "4KrlV264/bA7BLwMxamW8kJC5ank0mDUTZdXm1HQDZf6IP0TsfSba+st/7wF3kttwALGbxP6hqTE\n",
       "s772uPcPjED6R1qMY2pj7W+E1RcT7e7u/CeAiuWX9STlxNNjZSYGAGWlhRsJUBruPqpXkyN/d18N\n",
       "z9qwTgYA1sExoiWukhAYK5Kjt580udY+sC0OBC/PrhoyD9tAm6a8azdfKkBTuciopX6tSiZSNFNh\n",
       "225M1ezJV6fUqWHP/MDwQDo4okahbTUUolqRXZon/Tim+4db5bL4IWy/twkmxVV9cpirAEQ5iuSC\n",
       "Hspnye23Sv7jm6fiYJb/mD5GR8D6e2R+7JLraTlqxvWXuUZpXD7Dcqv7ojcbwZhtl+l816IM2DYj\n",
       "7qE7S+z+Bcg98Mgey3yEYfdqxIBmGMew84q4Fj+UvcEL9yWo1EbuEwUInd7+oQemO26M04INoItp\n",
       "fbP//+6z0IMrVSxzD0cEqxlqq0d5Pym48c3wQzSt4w8hrn5GSVvUu1trR/yR/+ulIyJjQtN4wgJ2\n",
       "1X2UkxHRdT+bn4+wC6yQbSu0bsxW0x3qBk+Ikt6iuPWIq42+qdbBipy4mZJcnrtAM4uQRRrBBzkH\n",
       "IiAAGf9X2c+X4AMJY5Q89UcPVppLvGRQdJegiojIjvi0LDCiZCfw6827Rdr/2yXAttYg388UG0F+\n",
       "h2MQuYOuOfl9t12asJ/jYtLWyZ0tj7bWrKnVhaxSJWautYtqSMPmQyVz90RrA0ftYu+h3kJ89hqv\n",
       "0hddv2AegLBAIzn4BohE8ClM5CAq8vj61J8W/pIRf0Fs6Id5D1DJC1yPp06YO2NHcW5AU/GDoAAA\n",
       "AwGXAAAIwUGaJGxBD/6qVQAVMm7AACwW1qfOKPYW2kgWtmpMdBdLUU2q1vK53wpgrXbVB3YLYhek\n",
       "VJdck0KCnfRIbVwa9ABe7aaZFH/g/agPde9qA1ieuwFotNjncthwvHuLHp83G7smZB8+4w0YeoZQ\n",
       "q8xkJYam0auBIcfEMjunxfvS6f7Jm8eMiiGywjSH1jqdjaZnEL8tUdlQW8XJV0YCTPQ6/onh38hM\n",
       "Wu3cSmupwGGqyGKXy4m/UQoyjk3HPZRrUlhwnQs5WjPViBpXxWvn4urNWgPKS0hj/MsXj5S32C1P\n",
       "3cq+mj4sS/ceZV7YJ33cgausEb1hiMjDjLY6lmau6mWOjg/hiHZrqOdOMJs3xOnyGnoZ16SPhrH/\n",
       "/D0ubG8GOe+58upL2WRu5yT8I1G6VNscq9tq5rTj7wV8kZGAGF6YdMHixX13WeekprsA4GmqtQuW\n",
       "WRWa6UirsuwuUaOl0s2+LzsPVsoHBFytOQE2KjXq/nQ+8S+W6eDTSfIMKQQvhr1y9M0v/40o7bwu\n",
       "Q/gZTN7iE3+APNIii6o6EUBsydWzd9ucY5Fmzp3uhPYz6vZ3fO2Uu1wuyItSSLnaulThfHm9NXOx\n",
       "RQ2Nf7RmQvOhl8oXeviwPjbGSgtnwK8gqqw0ws9Hw4amGdOkPLgV6bJYZIX3ZFgU4Bvi+0+4A99r\n",
       "QOXGxBshHHjTUOw1zx+jWLucfp3mD+O8P3HrItjmEuVLFMKw+I1IA3FqKrSXNYeac+Ji+NfHz7ce\n",
       "u9rqsJ4cIFMwsrC0ew/BcEqQ7LHi+PTaqweptfnf5WNUaLEb996Hw3ac+4H0dfhyva61zr+VNcmy\n",
       "KAQhsP2TIs1nFzmonFevgaDaWiJ7KLuxZKHkpjZDPEF8DjykUF7ckK8cw3rEzXfNqz8J6Fl4gVWl\n",
       "TBSjIi7cUZF04jQimhrvwhIHQeCikb1eFKw+p1R+WRzQNJHu3qYKFnAhwz+9poJ23+Q6h4TaW4tg\n",
       "k98RkgQtkxS4fPFKgaYTLFC0sWCXnJ3kxa5vlYCdru88c8rxeCAKg3mMzQFBDAnNrzCEEIvVx70L\n",
       "cV2dXivFrXTAzCSL8r0mRD44UiCAdj81uTqQOr3Y+o0c7C0TUMpakLCxjxr/rPfDCncdR9BavvSN\n",
       "lsaRMSqbVzPdlla5ahzFLD2L/uFGFlCGPlrtfzOvYe4/EgOhc3HPlnuJLtIk0g8UTHuBkMcsaPFz\n",
       "X+Frb+BzOx66Fy0fY1ME95tE6NIsSn0Q3Vw2tK65akI8u+7MyJPmkRmU5z530gmDjtpuwaqxB/V9\n",
       "184/ZgU6QAAGTCYB/zPT125xIT5fricescjidCiB0EN6Qhb8KZ42zUeTRLBW9xP///2F/Bz2vIdt\n",
       "Asmi56eJCzzpvnxYlHKOodruZpF3z0sX6z4f+nNxDwk/XIw9hKk1QrJmG03mi/51Q11ZihDzdKRa\n",
       "gcFXbGkfYMDQA+9oHAPLTFetwvzfD0F40+MD+6pC5Y/HjqFp6KUs8qnm2+Q1pri+MyW3WtS3dYND\n",
       "VhhUSLZ72L3v3PXYz/hFUtMymXZ4a/FUrYtGz/WEoiZOYhBj4F3p4xJK1CHTWoKtFP0ZSuHHesYm\n",
       "jPwMg68F4M4w1dUVdkP2Z38KbcKNHyIm5SRrfrl1SE0Wc2RweV8kFpxletnJX2PvznOqA+AlkCzd\n",
       "9m1HGymbbSJlaeATGOmpiL+LSkJmOVW97y5AHpoJrH2+Se5iFZkEMaUznnDwHHeGbtCq478Q8ajf\n",
       "FOw+0FI72rIOzXmu04hoCez+1Tpg6Hr5JRCJqK7OWG+YGjcj98p2QdUBBsLiV6e4HZXa1GaFs4bB\n",
       "Jwoh18OmUQO41nj7RBJPFdsa8slu9n9I/aIrAZzh9JVjHdDiGSbzp+R6SlALwAOXw9JnKVlON7r/\n",
       "NLi473rcyg1IBfgLw9qiJGHFyZHEvvSdssGUN5lsLZewujdOo2bhxZj3016rCk3uFKQqCishly2V\n",
       "nAsmAQ3AAtGO8kJZ1xKFwXiIJ+6KSL6Jb9SY0y6Hl3CT+JLkEURXQkkw7Bu4I/akhqHhP88d/jqP\n",
       "mmSR2j1xqnJqVRhC+sJi9pQdAH+iqO8YV9sTXfGLHhIsbmOA7ce1mK/U4BqfQIkM5ulE4qxuqdkA\n",
       "yXM7uSk9FkMNIzFHZFhACS+xAveJiJ3hFrXsg7z/ig9iPTmiwFcPe+6z/LfqnspCgs6zjGEbdnpd\n",
       "794I/5tBA+PLjeCuUE7SsWY0XNv0SpfDs8bIVZAu5N9CQr5BDBuIIJoDelm1Wgv3pgmt++SfvGi2\n",
       "rJKYyoABeo7h5OdwGgaqgQPO9VIuxtmvzFA2MVXxnGT14hgrg4L2HPfEH1e6K0OdTwudbFQ6NxwQ\n",
       "E65xRM3o9H7T+gELZk8vMAiLu3DqLi9uv8OM5+VvP+vaTcldmh4ckVzDgu5o2Q3o51mn94gQ7tf0\n",
       "fSl////qdiW9DOOOIvybHxN2r/JNrMGdKxJBDloBjMS4am8OuwgrOrXyeZUPhaxKpCF472DnJmxy\n",
       "8eYpBZRmW7MEarnpAwaERviXLO4KvRLWnWkAQcSO190gB2KflZRhKjgW2tOaW6H3tID1pX3xhCxY\n",
       "y2aTFq5ljlzfnehbfBzAubaOpqJKThvdBfxyulMjNsGdXCHIg9FaR/tuwF3kjHZCyiHhfs5u53Yp\n",
       "xTnS00U0CPbD58jheTb9yc9v2lU37Ps0yHtEozRdJ2NVLAYBoSqhfiKYbi61Xu8KjVTcFrWOtala\n",
       "6niUcoj6galjctv1m1rctYrBByifpbupAErYgD27rsgawvlp9Loxegw9fn8/e7406HtnM8aHWjIt\n",
       "InV5idJ6hSpKf2HuGKrlvh1gh2rt4064smY3XNTQlR53wtzTqocCKTSwcCo5uEIkhmBVwkgGNMWX\n",
       "U1vJ8Uo8u9Ip66SOApyR2lxPYLqxbMgEgXIPiz/NJXZocbusnVyhFv7x/O/G6gsEh8NWsN8ZGfCl\n",
       "cQV4GaxPfDy/ZnTyPP/Di/A6Jzb1h+cMWAAABXBBnkJ4h38AKUY1bY7FT7/eutFUALdNCeGO98fx\n",
       "W+TrPkMSM8IKGkff8lSmp/nINbYXpkjxFLVREab3Qr+RY+FhQcyscvs8meJwI60uEY5AaSpQ/GxN\n",
       "DN9mcmA53gmV01+A62UPYg9n3byMtHaP/MQ49j5eHp9M7aqS3Y5NBYvVIXJYNWKKrsmsdSKu12Rn\n",
       "mc//fVS9hjhBG2V0vz5CnjV3DrpK8dIaaoWryYKtjnnzqnsaMp8a3opJpOpYjKF/mEZf+CbQZ0a2\n",
       "uCjKl2b8cWPvOTKkcevvIiejHSBzUxQQVh0JkP+Mm61ZUnsXQNr7I7M3YVK7xlxXhqoMEKhNC/L0\n",
       "lkBADc62GNULqNKTI2jinMUnFPFnKn6QoJGkur0oX5a987txvbXBtHDooH4UyARVmpkMWTHVHRQt\n",
       "KBfWFNc1HJGoYJocsZqqbKw9DC6GsZRy1tS2UrJGPEIuTtz+sZsCt9wACg3QiyplNjMrk6bFpRki\n",
       "gmy/AL5yIOdAX4nNH3nROHYi/tYr0rddutMUGguGEPzfu/p52zqJDlkI/aaa6kKGyCokTYNBrL7E\n",
       "BjIrRr1bY6IDA+eZ4YJD7tmMVGJsxIQ+eBUTPh1muDvHBsvAQFX2W9aRhY9rKteUEZv5g+UGJGZt\n",
       "bt/Gz1EET0eJCxsDdnpbnGpkP0cYolPxzYlOJWg2XDKDOVjGEcAdFb+6VgOmWBZ3TX+6zochDAln\n",
       "wV9UR7YB4b8Gm8wG0nZd+KRnsbd5m6ODyzeIxXGLxWcPM2MkUpbXjeVbzbNhyXWQeVNRNyIoGeTI\n",
       "ZWI+9I2l+X+jUBDiVMAk5NGwg2BDAoS9aXn5Rc5oP+MRsPI3YJ6N0Wgt9P1sU8b8TmmbYD7QslD4\n",
       "0hO+qbvTFGMPnCZSzyQxvS2w8rs7sAuhASTMwCYyqXndT+LDLYvR9fNkvDI92P0tZcYE1GBOX7DB\n",
       "VIjh2w3Q9wFpNF23ooOEpAUI3arZYZbk1YTy/Cb6TL/vOBnylJGg8P1LTzWMtK9zjH++uMsh9vSw\n",
       "pcw3fPC/AD2Ft/7fclpfgm9JUY3VmH+hPHYlBCGNMsbmO0z0ci6QW1ixWAlX8ace8GMfUQSPHmJC\n",
       "H1aVOgtoCoXtdC4l7kKJY3LyZmWbA97btlsgTlT5tvfIJ+1OjZCGDc7NRz7Tp0bO5O/1kuhi7M1K\n",
       "j+ibHv4s1iBZ+pI6gNOBWYBkZ754KjqTFoR1JGslO8qZMRtrTPQmbUnb3AEV8kDPa5EcNSjJdmE5\n",
       "jpsIl0ZK5wZMd0UhmKmTwpgPOC4+XYRbZvm9WWBbruHTvUbYfJZbRnn/sYYGeuLCt8cxJF9vrgkL\n",
       "Q6O6lBl5T4wameSIQ8jrf4fa54zJxNVD5dBTPDpl4baHmU5JcQIGXUwLUlGwZ7I5xGumk7JzvE4u\n",
       "NQTmRmss4U82L9ewndMOihTKB0QL7fRCfBUXbcb1z/rG/ea0Ekgsw6cmwVUGVCl43BhmWTiAykHf\n",
       "SbxUfgN3tDGyJcr8s03Nuq0FDl72D7aq7lsBoIcS54jYCohdPfKR9E0/PFsWmBDzZzlZOUe/aZQg\n",
       "exsAlKcPRyyAuO0pRv5p14ch4mZrRDhU59KWYg6yY078FPDKXEPvCyPLEHwwUIgMqx8PeV560/5W\n",
       "unAa5TIIz3YNq+UHmJ15/4dsPqv1H/gymET+PTHkE6pAbnQW0HXYNbuIPGMt1jfUjSYrA80TEYZV\n",
       "PXSuZF1Os0tWpTsxWSdMMHzbtXInMr9mXNwwMtc+p+2UufC+Oc9mUVcQLxK/86kE8oNVz0URGeGV\n",
       "QYUA4ljUFKYp6Zat45v09vLnY89LmHVUhqvfSoKT/zZo5/fCjuTiy7K8yW6JXo/eoLTLgtsAAASJ\n",
       "AZ5hdEN/ADn6ePNGG5YK+AErs8F2AvV7AZbO5cy4/yoHlHvaX2EIqPFM6jxqu9m7pVCvtvNEVAhz\n",
       "7uiZRJAPuNT3NxlqkKmgUF0IJsCAi+rwP4GQMjN6/nBpYnRljR0y/5xrAgCT/Eu/+SC7Pob0X3Kp\n",
       "9VIpeSbyFxRiM9NgoHpFFIZDWdDA8fmjoJq6F/d0UT7X+Xgu/UIDiVnvZTk54iU5juH9Sk/kQ82P\n",
       "re1Hc5WwLY3PYjJ6fDhdf4PRBfdo9MQ9QJFU8J6dXUEyknzgZEWg33tDUZlTg7lbLL9dYcifBYv7\n",
       "fw1N1Ir6OQsVHW5842dQdZ+4LxsRFmVyIpdLsVfqk1duOZxrFUJjpiFycdiXx9ES/5gq2Zxx7Vzw\n",
       "Ys5/1hf2AQWIb/JeeLTmuZSgGupMY/LEHPSQ+K24efbNCZQxv1MUGoHQ1scMsd+BCQs+xvxvt5Xq\n",
       "tLiP8SaK7OaizyBc5nBHZNfR5QJYnw03y0sjwmAXvkRA2j/iqygWcp6m7NrHLSarxbB+gRliuMS0\n",
       "sDqDErWTmckp4VqqerJh79+ilVd0JyFVcd0JiA39z6xTtrOMyMz3RKsR8wHzCLXPTWRzkNzTz46R\n",
       "jHKeJSrUpOYfpuPofc7nP3gx+RgQEfOGEAdhh1ZYQXTHy0iLg6gg7cE8eOCLtQ6ijavGmyMyPPFL\n",
       "RPQdqutAyZXAWEpOlLKE9n/0o/KjF80O8XmQZp8DzVQSQavxAmIuKZ/1F3WDh4J4V0eybFl4qDMr\n",
       "2LXvTXKisi0lhHKfWFrRnlwSBRDKZz8OYskoGCuZJqPg6ua/pY+E03to/Dk8chdrnqcXFRDElO+6\n",
       "dI3qYLGxk2t9laLVk/ZA1bS2YsErnvQf2zQ7Wf4u5J5k1hHw7uQs9C1vnMjMWXB1PaZ1wXUpC3iA\n",
       "0TNIkyAJZv9I1+h/EWg8iOlsyKq3HYTfi7DctVdAC5D+GI5vEh+VZHCk8+6ubxt/LEP+eee1wrW2\n",
       "xU5FqKiTnx9D9r2XLs/BbyNmJTEZ2MMM16lrAvckpCbh8/W11k1EZ6AJurJR9R9q9h9aaOMEWfG7\n",
       "x0rogfAMQei99twr2liX7qP0mkZ4q6QZKBbE9Y6jDmQy01uG2S0cQlbMFBgSA7se+pzznk6Q3PS3\n",
       "974QZXIU2TzOvn39TSjk/GnHOM1oKM46lz+nMAs4jZ8OJAVZVFVfKMQjm+FYzof4N3HnPjkEgkch\n",
       "d9/kwwnLAwjsOToSVuFHC4BM/x4zDWPRpm5q0WO+rgV0BJhNlXhVAf//iaoX4bv8l3YmC4QPvxQu\n",
       "V5Kfqq1oyn3WqajQgP3YVplNUav5PtvH8YXHPcRTMY1Mie5r5aZJiHLhlXJfXj/9WJDnAguxYN1w\n",
       "ksuAeac/QqaQ7eF0ISxJI69h9+Yv6ywMcskgLUc8/vBAj/DXEjILi/b1FKQOVh++IwS4O2lJ79s1\n",
       "dWsSmySuG1WqIWqs4BgxeWkfnhdNFG6FlAQRMlWPFFVHQWSEAGUxshWXGLpvH36E/cJvHOJIXBzt\n",
       "HzkrRCXh46Y69jb1RAKY9V+humFbAAAFGQGeY2pDfwAN0XSfRIATTCi4dk9I7ADqIi9EQx3vEqld\n",
       "I36vOwtAW6FMwymzc9YTy4x7yQ6CkJPSd5fdsD6qZ2ia39/7QKsp4nkcPXtBuleg/MPA/ZgP0MzW\n",
       "H8KEtO/Qhxfq7D7YM9AM16XanboRieu32EtvMxxMHUi+uF2v8knFleXIouxL5l6KpfnUCY5CTxIu\n",
       "TGOtrEL+gUU2gqYa2fOE8v4V1W/gQ/sPinvubgjUnpF03i69WT56nnKQVCZs/KtSDmnOS6lv9XLF\n",
       "mdc+dmFMegcprsLnQHB2A0yHDfefU2U1PUO1xEAB5wu81BLOohf4LPAL8HsG3lpDfJnpqY04yAaU\n",
       "YHreJ+bT4wx/Ne/qTN1oeVGRXwVodUr/Qp3GdSoyDOE/UTwpY72wTS6wluvrKPVEe/ObGE1EIiDJ\n",
       "LQo2LD7wCiMoDB/ETlO+peMb1+oI5antZjHTa2Yqj5Adp8m1pb8xp4l9hE4yYss8km2IpuJp31BM\n",
       "IYx/QvsUNRt0pRBMJaS+fxEz2LO4E94gU/S8I0mIRgpLQizy0R6qhEze8Yd377EUlrYSZsn3P0CJ\n",
       "QhzeAuCKB2eaVJP1mRxNT5N1P+OsAhVU/78lPxuktpTsS1CpVTT565QrR5vMLVd+r6uvb2zf9NmA\n",
       "NXmIgON9bjLZRt7Q7yREepvHgyGKwxs4QT8xYmpdLO/1zfxWndDNE/fvdTzVyf9eXDuFz5axtP9W\n",
       "LFcOF+axhan6CVq5YYAXzv/jQKkc580cWq/WneoxDYMHeVMXR0hQpuo5txD+CKEc56NYbtAGD2jl\n",
       "Z4unYo3HNSmnEs6l+vApP7xneX26viW3Y5JJL26KhLXCI0CfPEa0g+TiF/sbu9R2Jcra7kj+hLVp\n",
       "6nZ76NXKrr4dmsAmlxjxsIeGZgiGlrtaB9Mf4FwLnYd8FzXgw4QlmaqNQHjFZK60J14OjUEddSyH\n",
       "/EKrTnMuof68kJzOfnfTF25lXZIALw8sfQljpnngEB3HaSvetB3jMI3+noxgDuqoTLqUAYN33Qwg\n",
       "gzuNNi2ZIDQ90kxOJZOqJubTwmo63agxuLmUeYKBHFrrf/bWYFc5ZmoLoi7pyM/QFaTnjYgGfaXv\n",
       "SKH9WhCEwTr3AfiNfbUMq/tb+ZNqVK5vcZoHVJS39Qa4WajHCk7cko1jE5fwBnHAc9S8KIi8/4SZ\n",
       "ccQm7B9NZxnKcGh1faRLDqRDyDBIwILQF+yDlMLw1G006Ml5CskpKDbEthLneRdcl9FU5f7cxB0N\n",
       "Rk/b5Vrb5woORzCM6QF1R34Ya2Q/tw0/0c5Miq0ckqlxZ2weBqPbGtMJUofHyqL1GHS3Y+9/bJ1S\n",
       "5luyPCoLLKOS4vyVho+plv4mcQV3Sud38FexQtRvOQiIQuJmdBEL5ouCPtDLgrE7eMmZ2O/OLAQi\n",
       "Tl7g/980tXax4vFB0ldjrPaUEby1j7Hi/XVxQa/yYRcqaQgn01wn0LyO9ymZWy3zVTa98HSTh/7m\n",
       "zrIe4IZPsLAa3j1BodLXIUfyRRPYe9RsH1fmt89Alc0XAfPM+C+tX/N6dHRauuQgHT+Gxg1lbswO\n",
       "SgerJ9HfmB/bi73ZHaRYagyaRl/jwBkNN/CxjKbBOcD5JJdBHpRB0iJfr+9iogZrrB+2dhH/ECcH\n",
       "YD7gJ26BGFuSbdnFrbpCgF/FTSHSa5wiROMtd1WIIu+aSeALtbnZTiMoytW5/XVU4jFyQYac0xJa\n",
       "jY9qOd3gVhs/9Gmrx2pBVGIB8QAAAmxBmmVJqEFomUwII//+tSqAAnDgPAATV9KdZO5hQfZZ3/Ni\n",
       "VEoxYt3Ggsq/b5jsqo6WS3D3f+hTgDLr3nt62FQKuX6GM+tv+XlOvW50RwAROgio8JXUSwcX21hn\n",
       "n0jaki3G4SgsBqoULoyvhMxWNXj6QG7dtMQ/bWY25qPkoxPmKk3yB6By4+ifJY0C1XCibxn5f99j\n",
       "WMjncy9ey/rYSo/svv/5nwd2dx0WWl+fRQdTwa3hgC4NjI2s+rfY/i/G0Tn+ryVr8no3hO/TF+om\n",
       "WnRtniWkHY2yaKLNh5h7Ip+fxZbKyXwSiybOA3BqegByfHMKGUrZB9nUYbUqrmCTlnd+AyP7REZ6\n",
       "fRr5aJK8dtZJktiXrss8x1M0PhFtP6jPKAuWQXSiyu/n1c+RDmtlROKEJ0oobCZRXrSiilcBWHS7\n",
       "rrtPzz7aa7oa1xQuVyzXrijbhXG+4cHKURiA83ANJpgVrFHpZpqHXBt1kc8fydca+Qd6nPjK5CJ2\n",
       "X4VukrRnExzc7Z5TyxXKGW7nV0pYZIOiA0qioVYQz5vz3nN0xhnFqTxcw4uB4myIqeOOVE5r488H\n",
       "1LHZ6ZspFfrH6Oh6uD6p+k9u8Xytfd70O9yoWq+5l7lObPMVIk9nbRR0FZIAgWOxvFrL8HSWQa72\n",
       "1xKgxZ1BfTO4YV+hpKSZn8kblKR72C7Uybii0E6sWbstMDHQqHv9Kk5hBGCni3i776D0OGVZp+MA\n",
       "8GzKB7rRWivKapQ9tkfzsOUIjXLWkJf15gckm/8QlgjnHTZMXSmuwWCJwqcvEfadLCP+rq61vAiI\n",
       "Gt7o8iFdvDfs9tmgAXW7aQAAA/hBmolJ4QpSZTAgh//+qlUABQPHwABYfniNoZr7yg0ppGZqA91W\n",
       "P401lEY2jq3fCTms0YKjDTuzhyWRgmDIHyXpeUSFT1FdRdtBVH0oyxWkkEobW+Wz2r80Jy3+GtU1\n",
       "XQ2/fB3IRJ5VW5H2y2l/4ANIzgIrXkCSYqLoJt+SAXTMN80UnMOFy2hKZJFWnajI/k03ZfNWYtPZ\n",
       "LGy6UiiCBhsT6uTx+6pUUh79DTM5wA/vbKUI4l5yiHShBv8tOl7LZF7FQhaTjET6qZPFOoAecjLM\n",
       "DAlg/NSLRqDKA4ULwj3XFj+0hhUqfwy8rD1UWTDAHoCqa3SjU/xSDQ34prDfyz7fVcmOPav+1X6d\n",
       "U2R+0o0S9ZDHNz0wfQZoo3i+6VCLSxWQGE2SYChyrnvGPHx8uWIEcGatL1MgkNE3mCjoWWW04wAo\n",
       "EJuFAsjuGokQEmzliPLdKkSuw7Jw76JRF814zVP3StZWT5JQvwXp1Sa7bqgdpDyJbAlqsMOzGWyQ\n",
       "NIBh9pYoEPN8nR6sy7j7wtrVXQWxb4ctmm/21PEzQro/CZ16ITMu6FT9jyLBCPiXYqPrdx2Zr1R9\n",
       "EiVXuHhmP2goV9C+oheiE/PR3Dc6ANT4odyWe6Houpvbr4qREICIxsYmyjVo79tvLuCfVhQXpTjd\n",
       "b/pe0sx3mViU1PG8kB51pX1LzXIiE3CY6G9jAGUDP844EcO5Z1DVyDAXSNJp+9vAShZu7CTX5dmx\n",
       "Oj/86RshgNuLD34XMFB1IJ719CNFHo1gqOKCq+lUUsPmztde0hFbDEeHEbQDBby224y0HNmCdKFJ\n",
       "M+qUiy1DOWKj8IxGWMyWPdGIcsyS7VgDaUcezNwW53XOGW8d7k7Kk7MeQjXqh14DFmGqqrkDcJai\n",
       "4/+7qWCB4wmHgpRCvetlSRDcX87etSXPg2N9xCUbBhOhFogD1r+kBZScchloAHCxeZLIfnt8sirA\n",
       "PIMYZRh5wSTZko0PLScrd/hsJtr0quqGOorDrIMI6LpnI5A2kMCgzDHOMlnGZHT1u55j+at24G7g\n",
       "piKGNQX+XKAr5voTbOUnAdj6keEtxXfpd1J6iii5givKqiUpHAxFUaDCPkjBmdvdKitK5T430OFB\n",
       "wWlPlpOCqOuO2A+zICgNXdc5S//SC4dACTNgcwKmktd3RaYsRXaYJZ0NaDquv1PR9N3sAHxIYBFA\n",
       "nxOEdFHTe8uIZXqFwmkLQSe0G4yBKgEeAdG/3Gd5+gV1WdErbYzio0PwK8bkr0o/TFo1drHJXvId\n",
       "EDV1dWsvTS6xbxUwMQH5RjW7muFEYKhKjDE9vGbRYZzyR1Exg+9kUn7/O0je1xDTnm8i23VIxM0E\n",
       "4aLF5wkWpe/BOQAABTBBnqdFNEw7/wAJxH9ggcAJZFHUr+JqqPkzOSxUZpnhkfu6vW6t1+u54MeZ\n",
       "z7Q8hgniQeRjUkoB/OjFf5py+/y7FibuDK+de6DqUUhStKWk75hGkI0o4AcgXZZmGkPZfMIv2IQt\n",
       "XFTm4vTWLbIcbLLS0Dm1kusJ0R+P4w/aCbXzsKGLks45dfwTRiyzLocx2Guoua9a3Kvnn0uTmesB\n",
       "uUtK27HAHXmtJ8xcMVOKOovI4c7/a8M/2NQKOAt7HeMUA5xf8ep5AQLhzuC+l3fZ/4f+3qPFHCKW\n",
       "x4/fyJJOeEXbGzIMEs8cZdNnvz5R9XbgwWHoc71uqdEW4GlhY7uE7eiq+PtqisWzjgwyPuXJH4jc\n",
       "B4woG4d2zwpySlX97850N3uvcJYetB/6j6T5Xz1lTg3VxMYMXdaTF0cc9cyLeTBMEQojx3ZaBqNj\n",
       "g6tf4KvHjsYBe7pVTDTaKmLFosYQFcUXfNJNx6jByxNcyW3NEIejOUEnX/DSH3tCPbToZrW2kS3e\n",
       "r/Q58TTSjVugeE1rQe64+RCWXuebSdUarvrJTZ4RF3LyB9nEdvzz7I1YD8RKCUz2Wg6n3tc7VDmF\n",
       "Sy/Ox2V/exLkqobrgpHxQOBjn0Ah6uvYixFP5G8iKtkD/R8UFtE2cugTv6U9HaUIRnncigJMZyGA\n",
       "rXILQ+C27nIHgMrWLv364RX3mtu16DmiJlPHd1cRjcn25DAE52eM8WRP11I5cxpUq2nyWBwAa16H\n",
       "U9JZqYCr3OcWBn/g6qKgo8JhVJlUGH4I6A9nNPhkB20xQfvjSkH/M2E2GJ9/uUG7AmDeZ/tvm7B1\n",
       "X0d5mjj5so10eTK2H8Fsv9tLoHQMXopZt+3EA1pNpOgT4n4hN5wm/CeEy+8dCPs37RfOkiCBwQEQ\n",
       "JC9GWddCgCRuEcgsxdYZHQDwy+KzWblpCSVjzjlzzoY4YxvGmqjL9CKu0hLNLWKQQ5PHBtXfDGR9\n",
       "3wt8G2Ew9SVuoaFB2tTvYiCGGKE2Rmb58w9E8OCr2HRD2qRkbna7rha6GgK66DxDlZhgLwDcU735\n",
       "MUwdGCLZWnwgs8bgAsYgdx+6UAz9L4MYVdTTb+G+WQdFUgIWPgu5JvSURsEv4+JalIGbFms5U3iZ\n",
       "gRjgoK0kgpWXZn0hT8At1ov73NoW/9bUtY3VlAKNe/EsymzVr8E9lLAME/mhP49h6XJRd7oXj9tY\n",
       "S4lDq78EkpUnoP8e+0l1HVI2MraLTut+35OHP8gBCm1Xmc4gC5Rc3SHxQcs5l5z89crv7Zq+Kpcw\n",
       "dkH5kjmBiStS2lLtMZw8Tgkj5j/v9shWeZecavuQ/hOsmSyDYG2NNgRBluPoa84Mz7KCJ92rx1nh\n",
       "pe4k/WiLvOqC8dlG/JrmK5wduId+BmbD4AJAPMqIcKS9tzVRpZVuc7TgPz3wdSFbYIZicE/Ubvw4\n",
       "j8ouX98XiGfxMyDU/vB3oOCRYxb9iQnPbmXXBxNLEdrWxmxcwDpJAEwR6IE8oCLES0omOWr/dhfO\n",
       "aGxCrcGzz43DB4x5+QHlvxSVpxPt3Tkt0RAx+gB4gLJTwALUM+gNgAr7HKBtZXg4gmL5ku3Crcmz\n",
       "aKXuZPzLnV84V7k+g3Ys341PO9Ak3kOISePXU+jHBhO5McDl7QkHERhjtWFCWn5dS50OLQQqr7DO\n",
       "027Le8IQJ3NBqrDXz7O0VVhfyFJLUQUgiLyftzfThhxeewEr/yoq3S7Tfy9yVfi/12YxFri1ayFj\n",
       "mAuaxiZlzcMxRjWhHBPc7t6qyPKkx76cVcimC7oDUwAAAqMBnsZ0Q38ADYlrgBbY8eoxovyJd7HC\n",
       "DIhIjzDiLtV7G+ddj5MJd7/0cQ+tItHXBP1hPLjLS/Sp437T7ejVWi8A3aLHhCuvKPOl8cUC2QcU\n",
       "IPIBuDcWEb0H0DUrbdPhcXwimFoB6iq/ycakv9uUQ8kE0HuGVB2LWjB1ereznxl+RjpqfcOf6hyV\n",
       "hPA/l7goYfnyc3F6VDiLtMV0eV8ng1Yq0vMbGiwustzvInQ5YJGMZOKFr0M8AtGrJ7I9z7+X5r4E\n",
       "9uE6mW5TbvjLU5QSfVIKk+eP+NUVKMXB5mgOM6donLCHqSn81M+0jqtDJzcV3JQ3F7wpELWzbUeT\n",
       "g9jK3oHCBVqxTTcUEGl2KHhgmyyFaxoYgx13+8x6K3zCuj60IqIPjK3wTyNfXrXoW9OH8diNEAOR\n",
       "GO7QQ3HyHjoK3g5Gttf5/FAdHre8G5fytjXckysb9vjFwZU/fRjUDCk4sKU9GcCMiS4mp/4X+EB6\n",
       "h1PCPFGKjATgMeQBAMQdcceWupnC9lPjU6+WAHleXk/E0eFE3F/NdC/KZPojqaF9G5Y2j7YcsYec\n",
       "USAPzeSLUxoUBVU/aXF3IdmCk+Hab4N1UzSDyBXauOI1XRRUvbRkctecyY/+/bGy1f6z8iN8Qfdq\n",
       "YYzs4wQj21ERLR4iEICAqzaXSROSGqcr3zqUp+H/LLunTKtdO/a2vqC0edg/3kdz1JcRy4w39/cG\n",
       "qgpvRhGnmiRIG6Yh6KD6ZNyy7eb6TIV7tunS0R1aiyWUP1V/LmBYhocJvDgkMgVQiBVDrRt8YQrt\n",
       "8QQBl/9i8Elwxz6epFysm55GA4OnXN/xL16PcE7DkZhMsfekvL0BbFFIuNjEs8yyoowk30PiyWoY\n",
       "IcKV3OLSgjriPAafOFJA8fBYRI7ibV9eNWAAAATiAZ7IakN/AA3QAqoEgBLVyXdcd+fJi7mMvvsL\n",
       "RfC55FqcORTEDkRt3p7FHUqGtuGf0UgooKzcTQ3gWOZyhXTWTLY59HXXXaj7p2FxF/T+3XCfva/r\n",
       "TbXIs1rS4+XfepyHY9jYr1VHnkMwd5hguLrycBTbXQa2lSX3Q+9VPgR49nqR4UDfJUL5Og4pJxUA\n",
       "+tSxxVnDE8Op5b9SZaRNuTDBbvXjklDfL7SelICwbmxv4aPcpghjR0CxFTBNbGwL8nENKBG6r3b0\n",
       "ao5PASz31xPsIdQk5PAI3kq0vPVcHCwTxn0ls9CYEy7WM/w7TEewI8P0+LlMTdcZgV2vtuZFuFJe\n",
       "dINB0U8Pih/xb4VDmoUFOe6NmiE4h5TGduAQVX7bTK70YeM882GVRqPPrNaDQbAJys/oAzWNLPTq\n",
       "UJY0PRCtFbULQlewZTFNRapaE2bt6/+mRZGQO5vi/y8o23yw3u5IeE+b1nDbAViks75H47fcP9ZP\n",
       "icN0ViMB0W8qchLdhDQCjg5m7z77+BqHAyRtuWvx60eNtwrZDKlMpGPeIlQ+5MxxzrJEm8Pr8vvn\n",
       "YnkPqU6W07hlH1Aq+/C7GNABFSUa03yBo9OaWoG30EEvFWXjRcLmMieDk+ebWT2pcdfzMWb25RhH\n",
       "gwx45Ap92xHsO2epLm2VKwzBRG3YXdHNASSosRGCikrpebS7wGozYcCTHXCJkg64qcI83AREvYnG\n",
       "/vwz1Iky8FK/gbGKILr1zlZTBUHrElnxzcA3Up2iY6dDJ1umTIRpLLxifSJkxUkiGANcF1hIM6TF\n",
       "GcCZiM+fWJccUA3pHyCSbGJmKdFgD0w8axo4WnAslnRmLuffF2mY5VIxNwtNGsEBqbh1MfXj2KHl\n",
       "5Dbd/86fuYCa4TjzQwed7DF3ojWquJtIzd/8LOrkmHLlhrgT9y/dxxr+lO7ce0ovt5giU1rE4sIT\n",
       "nl8tis7dnayYR8j3v+ruenAJCJ92JVy2pE+P83wLCmrw39dQ2GOS5heQxEoAL/onZ75TtDE8CHOF\n",
       "ISMLjHyQ65D2Sclrb+j91IaJ5Rd1CoYCs9t7dypBKdmwyfC/DSsPYvwbXvfe/qYulvHktVT3r29T\n",
       "8R09K2AEorArq/KMWrAbbqnc5QGsKWNiOpGK0JMhv6ka5ytR83frFo65XuMUo5ZyHdNsmNuECMhB\n",
       "91vT+9w1hAfxE5RlyEMp82ERu3d63HxqYhqetdFZeL6tkIXJz8UMyrSeKAU4M1GGZa4lWNxAuEym\n",
       "xFhkNcbc1klfkF3Z3K0QZpcy8Pumk1AOdUpfVedt1favFr6SbKBA4eEod/jVNmLHBwf9bZb0W/DA\n",
       "c9n5TGkrpgThe2AldIDpdKSSfEM9YdVY52S2TMxV06NXc2r6mYSfxMdGT8f0t5UTo+ifXqegrqXt\n",
       "8YxxqYnQCybiPVnJHuva7kL9xr6y0Qt7weYf7h9SIV6Jxd8KMjx82Une8a+gXDCsADgnlstlUU6j\n",
       "lxOvYejjSSWzlgfqEWZii4rsClPzltFQsWSxwJ8Gh0QRlO/Za9Ob342tbrI7ykPDGL553WvA5ntB\n",
       "6a5mS3gCzjuAKQ0Q9mcWJDFmq7ou4ViWMnHnaCVOtDv+3lohMbsW93cYw4cFGfNVF/UlVkpZ+fUN\n",
       "PO+9Bzn3cpEKvlaHeykknt4bRpp7cbKFEYMAAAPVQZrKSahBaJlMCCP//rUqgAJw4DwAE01Sn1vH\n",
       "/nlPnfeAoalQXdqLiaq/5geHTvRQyve8c0EZT+RptTqfs1N7h77yn/8H4NPPaFdVe7oGcF9AL1sa\n",
       "+K6hvRF0DSwF+8Ztx1KNaFzH2WmPfoqyEp8gp9ci+OX0vGem3KKgJaTogQn2SDNzp5+t2PdtsDhj\n",
       "GsH9flh6LQtP+O5fTU2tAEDsAj82rP+9I1unIH//ABZNwZGSpXxH1lzkcqGEz2YbeMrES1AgJBsx\n",
       "rsT+utv6118FIgUlMsraLJNnjdYm9ffkMBGOr9eXAz7G/OChjUZZ5r7p5mYOG+ur1FBUJi76PCal\n",
       "Ptr6AyGZHDv2rIB56+7OZzE3nbJBDGz9x81iM4A/fYTl9NcIdmWIrU00mZ4Lz6T7L0x+KwOluBnc\n",
       "ea1pm6kfEtl5Ve+6AUS2D4S2N2OF+Eb3MuwCtGdzIypcPN2zwEz4jFLEOxpIZ6bZU7wMBmqEMaRp\n",
       "XQIalbuHhspxzuka08OKb1Ej+4t2EpUClk3OTP8bEM9OqFc8U28y0Czfr0qUCdf0u6e9lSqnT4+t\n",
       "co2kAAdGWGqd0vUv/xdjBwNaWUhpk7irltW+QpMsN+pr5ZxfdsvAAdJyjO/cwrojos7h5FlP0lFv\n",
       "u/eX0WeBQgnHaDH9Fymg3kqABCbGEr5nHbQ56bKYAYFNSzoGc0B2Wke+DZhsWxmbQGxAMNnfvsxG\n",
       "QU29q7c+KMYIqNStFv7IzqwklBnOhzhMIen0o/c/FgvXqkFAC2Esp+YEnuRK1jvCScvgglW8jPUX\n",
       "gw/al1wkPljVuM9HTdDroK/8EgnKvoJwqrv6w4jMgCkNOhxZraCDmiogx7h9ZVIGU3gwHMARqQul\n",
       "CCgvejJJghIFhKOZ36tT95x86C/0ZH/NbEc1yuaBd63XSQx1Sl/9Q8GG1Tqimw/xRI+eS9xDLw+0\n",
       "rViMTOWpobmw+S6aZVisfadtTc/KTEjLrfi2oTK24m0k1ujms6DpMh2J/vVSFsZLXkX+oV8/TC9G\n",
       "ieLySpT6iX6PNJ5EgiXtmpNXbnZ9mYhtNE/LHOLMCYfVJvSZ4lbGDkrlpT+zTpQj/G/Z/m3KcBT1\n",
       "2gnO9YiS/Thw0y5dYzElQ9pdXiy+TITJPmic8jUn77Nne2PRcBUxB1a90v/B7FI7jBnkaGgWyIy/\n",
       "mAYp8tqu8U+OmbFQnGUUnarNtE3zn1r9dzKXrsLO+XYx/6NTHtBS/nQYTTT6y+2/q73ZJok6Mpfq\n",
       "J5k/KmbKOM+ywi8GTqVetSVz8xF4rMN+YDewiZa9eym22eoMKfkzZ8RdAAAHJEGa7knhClJlMCCH\n",
       "//6qVQAFd4bSeZfhlABD9svYvbyjSyHQJOqc/gUmyB2e/iSddkgA9mURGW1MjtpwmHk4mio115cZ\n",
       "LgK/9vWgTRS95XTBM9PvkouwoyFzyvFWWrDMeo62Hc0h5w9kttnwIk9FU82JacNMwcpyapPhpTTo\n",
       "Kt9ziZwF3uwqAkzrXfkiL/eLAiAu3nNJJoMgwqxuzTDlz26AaZ1M8u7U9N3G1PPbGOmKFfy02aZX\n",
       "KzxNNmqDEJ7jnsK0ym/gofITXoLP8nLqu6KbJsQejPUk7PfONrlIoUJ+FIHfTvSdxY9rcU4hnruW\n",
       "nG5H8NA1IOHHrG2RhdGgZl6ql3ZTuee4Ei7+5X2yFs1eKAOxI8czAIDA/WL8XV+iweBom2Ntv74/\n",
       "ngXNFkCM57hGRXfZ0pue1nwm3fGrHBy5rWjrPiV+S2EpCnEs12CXRWwc/fOe/T85Nfjgj1qpoPYp\n",
       "ZEuMtQTISy6O4w/DmWOVUudvalVmoTqNayKQ8mohs1t25IJ0VlCzOwwlHb04vc1VqslZ14hNGW9O\n",
       "JX30C1NTqXc5y0qDlgg6jnoYU8YS/JulOGYnZ/IBd4G55ug8fm4F0u4HSKKslAu93PkPZa4shktv\n",
       "ds+aJQe3vI0ShSKUpmURLYi1fZn4XMywRVSTDqVz5gS3S4bB0Asl4/SvfPtde6OP9L1ORCMXmR3R\n",
       "WFSB9py/r5p4M6wtObAbEmWIix/tYlnlD3LGX53FrqKHZO+4wqfGVI5lYsrtJVOUUjzFcCHiTNtW\n",
       "8vS+4gY37Oz9bFuvSyp/Bto6yi7KsG5COixK3nKD0wgYQ7iEc4UXmvRh50aAGchnmXtVXWp3y3Wo\n",
       "YlifbGb8zMzGOycJiRobJQgYVw2rPrml+bdkoaFAMCzvDXfG2jK1R7fxbimA7/GNIJqMYPWoaEsc\n",
       "tzXsbLd2UjVrqOSc/GD64iUSwLG9emNGGsIjqCkNjFS7E4xuIxEcPE9MueadsVcWawYfZRMHAzbz\n",
       "pjrYamCWacNBtcmmFE9/+3EgePUBNXEC47rSFapGk0Jy73TrVzURE2QnZG9YtOI/MKZ2KS7iZGjE\n",
       "3xEIix28lb86KYmsdiR3umngJ0uimK/fjg+d9GR+rlpEoC1ZoSYBcVE2+QtIzxx2P5gGfv5Rb+xn\n",
       "Rni+Wl38wgGfy85PIRX73euHbtS9w+28snKU0K2YJ2UYVxcCt891wD+7oSLputDTGEjHA3iWA2V/\n",
       "X6OhZqNeZl9nb5IGau5bgt927FOTWRjLeNEqe0BERvGCg6BEGkhexC8GW+YxX3P+o7eROkC88otO\n",
       "1/nW1s46yTt3u6KNONY317In7ojOf3rfSrNN/7sbEh0PJwLn5kZBPVU1E++/8nO51xKapYbkZG97\n",
       "Q6G1Dz/c7R4PiOlfqmsqlPcw9mZR5NlQRaHS5akSFlX9wh+ePzjgKY2Ljmtptp+dDrZOtOdAzQQJ\n",
       "319KJslxKIemRZKrmSyK2lTlLEjq/1SYXkYPmZOB0aRvcoxhKfpexXIEe2NveS/KExofmKy7BQlS\n",
       "CXS7z/IPvfqUL+fOUVD72ksUOynliP/s46MUIOaI5Xa7JIgBH8USqZo1LW328kADpkBkkG9T04TN\n",
       "DV9gC4CIuI3fzUDPM3uFJiEnQ2mzxYjANsXZLmdOS9ZagdgPlySu1bBSCHH4ontlKP7Dbogf089e\n",
       "x4M/MLxfv6GMoqh1vAQbI8b5lnmdeYlefrNkGQBc7J0HhoA2t5ucA71j3C0ydSXTkESsgdOmSHGK\n",
       "vERJo4p5+JTt5xmyjA6czoEbsYHaZUvsjc/RONgHp47j7c7kV4i/hL3dNsjc5ifhknbhiEQh/NXh\n",
       "klQDSovOkSk2gczdasNVm7vJcjckeuuW943IS0avnQ8yDYKDWyupy2aFn8LboJ/vvhuj6bPLfj61\n",
       "bmWI/O69qIGROFJ8AdFrQMkFOf/LxajvbBzFGKQ7bkad7ziP2X28oy8t34kENQPqZHzRjwefTsb+\n",
       "8OV2VyG1Z0Od35oJ+fM0T8OTsjAwEOuNnbIcULQID10Je2l7RN+++kVqSUm3EOJaGGny7/sbgGrB\n",
       "cTwWnbihWPIeuYCj8DgQAxE6rEmj4KoiAGE9RA1G7R8WRl6016lZNvRRodRqMPYKbt1wyz0XFTHv\n",
       "OIYKUtBrOlYVoRIor54fNuH0RbAUypZFfEokD+UVqo7WN1AHfJI/lvpPzjQYNsJnEHdkKt2eW7lB\n",
       "qZwVX1TzMhWhofeK7YBKS7siLFUmDNP5p9xIKYwmk0Xfg5qH65bpSA/H4k/JMwD7lTrhg8m7UXfp\n",
       "qvvyXi/oRC8rjYfXciCfYf49dg6HXlLJa0ZGO/Sq/tcNbP6KuYMWVPPrSY51VVYaY99Thh/BW6OJ\n",
       "yZ2aJMULy4yJzca8xxyH9ACdMKxU52UvvxLmol+rCYf9Wl7dO/e937b/ctnW7//X3vQAAAVtQZ8M\n",
       "RTRMO/8ACneW5OJkJMr4XaACH67uT/NuGi65t27bJTVv+qAe+77DD7QNdgyXYurS4jFDb6TQnSns\n",
       "j0Jroni1OJSw9YDFwiLdJkyTxrmqNbzZarkdk+9LvXRYL60NF/RIpLHS7GIkx74ioD2bXuP1PLCt\n",
       "hc4jgMAg/KuyzetHDL+PX3SpriNhTCFxwLsArLow/yGG1cq8wqXJnrmvZKkqc6IUbVNTTlHPCZlw\n",
       "YeGbm+VvHggrZXC87g0PNiLg/dHSUZIn2/s2fpUxZwdvIgQxs8qsu3VDhoIFUZI6Tp9vYontescn\n",
       "lgrM9WLHHhOEtuA5k3ITt7wXmAVWGHzHQdAuvHTm3FDcRnPKgZxqaN2584BlzcGQ35OFFNkA+Gre\n",
       "JIG/A81db4YlsUYT5EGP26+PkxvV507z9SVYmEkKpwKpEm+nxAg2InglxBq32xlc6L5aC8Bb86zt\n",
       "hTyiym3vi8Gm+9uaHXqOhIb9WafqSE+nVtzI3JzbwnQJsrv0ibbtGvAr6qHeKrPMH1QCK1AiVZRZ\n",
       "ri+rObTcHs01M4R1Xr7I9sAGx4iNQr5u2ez4TlLyPwErTss0VsoT+OVY5sSsh6DnsJggy5gGbDYJ\n",
       "b82uJR+J/GA18jHYwss600To2hCQkIL3qv9Y/j/WEx1gwoE/0QkvWe2iGJB4jvQ6L4cnSXUaBYGs\n",
       "chFvsHJWuw8x6Tg+JUSTxe2Wu+QFf5oDaM95GdEfOeclED0lPZBGCorinGiqL63ZTgK/eJ5VssF1\n",
       "Yfbvf4zREnq1Cy90zuy9RHyz1lwCKNiZW76+8UvRJj6T+X7kC7bEIF7R5w7NhtHF34zTVeUGKMua\n",
       "hfDHbKPy8swkKcxFR+7E+UBMZOrH1RZrLpaxfkuMwCeRpgmCQfw/pweZHj0H0QdhXimCI63rzqg1\n",
       "6ZGjkpKOitT+jxiFMQJko/v09vlbpCCvl5mRe4kffKaPrRx8cjfW5RKDSDm9kC7gT1n2VANwo/A5\n",
       "hP8iiRWKxinuaLzDS9Fm/Hidv9aCEF86LBB21hxc8d8rMFp3SJV2y3kRC6uhbhwa9ANouAWWb1fA\n",
       "RWK1+LcWrk07Ch/1Gx8wUdktHy/yzi7zvCZTrxA4fmf6CJSCWnbCxVupMD2Dg0IURJ/qG5tSw4H4\n",
       "iSoUoMVAlbD1wWni/XYw2gkjT93LOXKOiSg19RPqqSi1RvfwwLwTXK81Kdyj2rYpxu4SkIKbQWQI\n",
       "gN/Xv9C5Tqfz3zPjdFmcIpzoZXSqYHWKUUk/vSnfxTPPskxA68+VoI3RmfG0pjyE6eSmZ90V+R9I\n",
       "6e+y967ERxwIhQfBirkJ2llVhUKvwKM8+Y6kWAS3Z1G+nEW6KpO/JQk0WEfVXSctScR++ImOHSsm\n",
       "cLIBRPcnjwx3d9wwHwpPsgsHhtIXXmhqTFdLHvhvJ8ejkxsjYvJ/B4s3YbWLvaekMYMUn8adhJ0J\n",
       "K/50Lqr7iO+R5oMDGFeztn99rpsr0FdcelKb3MZ7HSNOmKWQXBerL7Umtdf37STQMx4rW2opb0HZ\n",
       "GqHflIsmGv4bbKjSnkv22VrU3CHh/6hnuCFUmor12p/5x2F4GHYsPKHpEoFxCyBGk178W24s4BX8\n",
       "C5gBoqegbEY6s8XB2HnuYl4TXWs+r+kzx93Kwu3RQtgzEVi2SdU0F8kayqaRi/++4dNKkgB997ka\n",
       "deleHGPsqlgoBJX8h19rMWHNsKzC6r5CYcZgFhFG+m3gNNjFCqXY38bNqLm/iZ7eINGVqH5rhiSe\n",
       "KzvmdE/GnpqCWY3k/bXRtew2LC6rHGqwvPCDRPRavHx2qxGis0xckNXYvt/bSTXBnLQNYUsD4drc\n",
       "dcviXaA3Qarp6KfcHTkhFsTgAAAElgGfK3RDfwAN0g0qUzzXtAAud0G7X2JT6C+/bc58CSgp955I\n",
       "+X53F3JVw1Rt23M8c45/+wO1R06apAxP/NmhS89aYfpWTnetFwyusbnQr/I/iwvS6f4YbcJi4cC+\n",
       "wafkKu+tioYSCOjTaLxQi8xM9B3LhpfzJA1qILJtsm4SnjwVWAyzBmeKrllK4YPzPJnThHkEVCt7\n",
       "0xkCqjUldXSwcH4ripeK6q571qunmKsX9R3UcXUnKgKhUo6P97gjuMAo48W3Vg7s0bxBebiAAL9J\n",
       "tmrbk+EzOHpCJEGbq3KGeeMsnHnj/YUKlKopH/kVbI/7qWKIqbF06HsD93ip4fcMA+I4SV8/LUDG\n",
       "S8IR+PCHvHfQaMvKMom9Pg5NMCaIhPXQSchWACLgtSjYigrrzGWhjF6B9t9gokEJq/J4TRXjx045\n",
       "BCjg98EBaRMinXswoBugpD+JLMH/+W42AYKNEnqeoTfCWYb85un/Kdu/7wz+gNiyH3HJo9GtBDFT\n",
       "uXZmAOLB6xnYXLhSuwL6HdBq0O7lSsIBq187+v3mMO80dRGn6ECt3UqTT9TMsZzgAPqGOkEqwHIc\n",
       "wNzA5DE3YnRGSIxs2+rJM1KVus0Ljk3PA8T8m31BYklyd8Te4ELp/05c7qnnaqJzlfwcsD6pgAM5\n",
       "Wh696hyB/E/Bt9s8UzxogzZWfCS8inorRoZO1RbVyJX3OV3EBn6dL90NurfMBvrdYqe0uvyHOLP7\n",
       "NDkdhfHFyi5ydKdw623bGNSQoCC5ClZFyIkM+940SN7SJvJjDA8rD74fmB4I6ByS9yhw+G+9NWHm\n",
       "0g8U8NBDTi0shNzu+ktYwAhVpEShqhf3RlKN2KlHwnodzUy08s2TOXxDZtfbqLoVkhTvVNcFAMt/\n",
       "nbRYEY93kxCEOKS0Hj3mNwH55FOm6j7JSFll4mKBjiGmYPvE6gf+1k/X5WreeQtEH7dVUW7hcJ8E\n",
       "/ewCfNg3bjmt7EcJxOkA+k+YYiLB0n8nYR2tVZPnL0tTkjy+Hovu9anVIeNdJTV0kkTcd6GAyduR\n",
       "nxhnw4Ed1GwHRmf9Vx5rAgTWtXHDs+XkZxa6sj6HTyrd4xC/MRphJXJeMNFpjkOeH0KS+ShAEX8n\n",
       "gX3zHxsdDVa9ep0Pjwmr/StHTicyM3NoC7yG4JCO4J9rzUp9DczrQOgqIWlqyOkzL4H4/eR44qXU\n",
       "XZpFRORDI/7gJyvltuCS2/RXJMSdr4yp+OWj4ksloMLR9el/RPTbcp78MhSMY99G9lvp2bY07Rqr\n",
       "7pKweAE7YEQrQ00TO8ftFdpjVPiLY8k8ZSTSIcB1YJ4hahWCvYPlaSyNCbM/R1/9q1vln/7M3Bnu\n",
       "dwk2YhSv0h/cAYePtc6nKHAXbpMt05HEAX/YBY1Mj00asYGKSUCGemlRqD5QqRoNwunn76g6PgI2\n",
       "pkyYZcdTUGy72Gb8ZGEvUeekCcRsIN7Y42pdUWNWBAbePSEZz3P4OUpZhSt37dppn0BedJ9+WzXc\n",
       "aJ8mdpndkoTVMaCWCY3NyyWwtWRqifwURIj4Vh93LiMj0Jn8zmq84pPEfPI417R3AZKyUynD/NEA\n",
       "AAO8AZ8takN/AA7ZQgx5ABD9aD0t+Ljtaz8pl5WXoOOvtqLbM3fI6L901y5OUaQbwgAf8ZD4Gq29\n",
       "3A40/bW82vB3qWJG6IeKTd2dqovCALangoWx8HI/UcBpCCyp3KVDWgf4TySatTcTiJAE47vEViaj\n",
       "64Y3EHEVn0PpB8QsgnZ3OO+gLAZDh7vpJ+zl3hDt/ukC+ph161CustaNCX6p0hXg3cqXVCd5aTZr\n",
       "3X48Z7MSQW/dSi0snyU29gquy+cSEsxZMuHZoCkfPLOcWTfp2efeE6a3gJ4ae1jROR2QqhekdNrh\n",
       "slw++ixtIm3RrXfyzN3nV6eqmrzzuOsvMJnNqWymsd9fMwZFvtU46CQrm1UPaDVpX4TtRkBTOijf\n",
       "OuLfRhwfo+koWltjxfF4sIJBAUfCHNX5O7kky9QJ3rN0g2wFwEftKvVjhzvhnzan8D2JLQJD7cIk\n",
       "VY8mit310CejjUeOJRjDYskeQI+uoGTnoC3X4LZWXIfEglZX/Ss/rh8ZrmvBa6ftljrSCIEIPfpY\n",
       "yS2ZFyiiHtVKJ6lE4hSugBlCj2H40GjGTXKb67O8kLiUSpxAyg712G9UW+vnP2SjYnmX8OoElfPb\n",
       "6ptba41V70yWkeyaIgrw8AlBAv2UW4nca0GsWq9Cxx9xUFp+1Mzl6T+843M/yczd8fVlTCweXmC0\n",
       "LbUhQMEz2pC6kBIKLhveTCAygEWYUDLkb8tvlgrlEwc/5t2JeZ8OfIePQpWEWdJPhIvk5IMbt/tz\n",
       "oXHElx4sZsl3fYP//kc43ZpdQ8QI5FEMx0rEF3+DTeqYoodPUZhZqN06Cj7g4f0LX4oj6MQc1eJD\n",
       "p/J5xbLuQRXbC66etO2524jjdpG8ZomijXg0/VF2PX5VMSIKRUs0uiQj3AmFmSt6ZN96ad5MSbeZ\n",
       "r7y736TIoT71j5/ZdXjiEqznAXGdBJwcFtQOU3qRH8PsI3hit1P+NIx+PfG5876/RntAclv64e5U\n",
       "d/YoEMPLLeglZGzBCZxkgs5c65ZjGtpsUhUC13xyi538iCURiVJUAIFtbe5kuZpEVWeXtGzx6orU\n",
       "a75jeJTR3iw7SBf/5NVFVxIhTGqewb5oY3BF+hBHHt6o7n5v8pkFHTecDEe/RmYSbTwtW0QNAf8X\n",
       "EvnZCGbEbu0RlGfbm0De3j7lt6UCkb+2bpqPQLb1oW/mRLx91jMbA0pp5fPr1uixVVLyJhgcKrAb\n",
       "82sGgUkQ65Jqgwa8uw/tCq9T2cfEKDwEpUiHw+Mlfy+9HXppaxPwSlG2pfTA2YEAAATlQZsxSahB\n",
       "aJlMCH///qmWABUwmCMDkbdABxtegOhvzi3dVG2iLM4h2wKNRrBaSxckzB9i/MWkndgSX+7a1HJa\n",
       "LPlbaD1B2teTjasM8yvjwItu74OnKjOcXBApArdGUmKl9MBKYV2Fi2hhcVcQOOkdv2A0ZE1c23tR\n",
       "vS884yFimaxQKAYRpJaMLjkAhTvVfJ0Yis9o59mQ7Now6C8BeOJIrKPK0ka2KOViiYitEB9/eJsA\n",
       "KKxPa4NsF307Qh38mN5KT7/CIMiR7fNppcgpELtbk/Ng7p+YI8k8pRMBDvj6PKITh0x2MLCo2QZ8\n",
       "NFCEYDuIz9HCbG00CIJhOD2Fn3H/zV3acFAVSSX8AzcF2u99RvLxgXsSCBnQuvi/Xp1upTFPOWNo\n",
       "7ufs5ZVY7jfAwF6605s1pu5e4kT1EXan9NZVnzBxUfrYcuLh9Yv5MiMKZk1tOwU89j/bxDCh7akv\n",
       "44Q7CNYXLD4Ggk2CGxtF9EhBV1kodSN4GY6aE99lIA98u/jCdac06/inZkjwl9GGnp+Cr0SUc5fh\n",
       "Df97X2zP5jTbZ8jQ8+OsTE5R6epQrXxcKhanqy3KONJegS5VI/KGVqghztLyjZqaRWPzsJtIJHCZ\n",
       "32ZEutkm4okVWF6hyzTcQ4ia/hgxFEWDd3Uf+WqmvVjsj+GjaEqDJ6WQpmxNGZeq8wfCZHmwKcBw\n",
       "o8euyMa84HRs90G91PyuwqmWa4dJOOYbkX8dN5yGiuW1hsFyXzy063Y/ew9wpfY7D5LWvDjJCVt6\n",
       "7905sXKMqjhdnwOI5YowLaH8MR2OuEe56FXrQJ00uDBalZMhbKoTSjzTAcTuolYZnbeAPM8BNW+b\n",
       "kDCB5eIPaxsUcFy33Sdpk8vrrEkweB+6kuPTojw2wm7U8Ye6hv/5wJzuiDDdY6nNnY1rpEvclgai\n",
       "h5fhd7pgfZnfXMnSgcoU0XPP1W6uHYfMhZ/qLW9IIWuZD0rYkXayi4uWJsghMM28j3mWT67Z1y+b\n",
       "aoh+gFtQ7C/mQ95pBYLhafO1b93tUvPpfVGsC5VPaeHUDKmB8AgeS4cmrvdgXWOMhxWh/1sP/Ru+\n",
       "ITku6lwy/81+zUnFvonBfBcNzSMy5zCik511le4bI+L/1zPT5hvmCrKo8wtIGqCnu4lYUDADedTM\n",
       "RMDyt2KUQLySMECCKEYFufnfptR8/3WbzT/AOsihXOBm5ugIZZh1ScCmULBadedzK0IpOwHfae24\n",
       "IkAFc9iswR0+JQs9HylJYj39dKfU88NGXsqa3W4zgHGVYCm8ku7/mHqwBet7aKf1Ob/dAX7SODpk\n",
       "JZgs/wZWYZb9JHBObHSvjpB1f/5F0g1Ia0lqCDuCz9MgvOnlg44IcmR7YOOdVo1aFh+6Uau28Pip\n",
       "27MB/i7hJfusdTqpIYQOLY260j13WGan1Ig9be8g3uED/tsC7VI3iIpcCX4k6Jargc02NEkW72WI\n",
       "Cq6tRF6EkPN+iY8RF90qpEiSVm3fSskr/k8LGepue4fBs+rKwxRTjoTX9lHQGkEYFu1iYyfBUPjC\n",
       "Mb/P+hLRnRSVYHFKBTwk9+2HZwR5vBCunueH6LLQ0dVcZTkDpDxvQA2ldPcU9Wp0bSD2V7Bj9EPL\n",
       "51jRVBqr32ah+GrvrBD7tzseoTQ53BjT5uzQU15PBytqUYYhUFp1AqWVZmmuCNOTZUEAAAIpQZ9P\n",
       "RREsN/8ADtdoT1heADaUBnK+DDHD1GseyHJ7QmK7Xp1GqebNO+2/k7QDUsIsI87OGi//nodtM6sh\n",
       "FMfvRLFlbqBURXFAx9P9j3ctHnGMPogVbF/6uLB9qFCYbU5Dn1S7Ac8eku1BeFc/Yia3nAFxn4JQ\n",
       "RHMWbeszydHk0BvFPUFs0HtBSParbcvlK+Smo46Gv982C46cfoTZVYw48nhJ1XcsbIBqLXZvfhlt\n",
       "2l9UtMylTq6Okt5QzyqxZC6eIwdeh8XOu39npFnqroPyr4FKSr6eR3bk9FgaMcdW2GLs+uswYzxX\n",
       "NEfR5wKGXFk211mKYemES2wjJAl6NwMHwxIeYlJz3P8+XGB8GgCtMsXefp8UQ0FSiyb8hbL5cZtD\n",
       "qYNDBuFRF/aQrbTeGGRSI+bqOQ2iAdWDyGD8t/uZpEi2rlHPs1cROIB0AhPcoNrTW2hPOx1ftCRV\n",
       "eMH6ckA17+UxKiaXmgM7R6yWY1EMv9w7jCx1fVKX0zY5dVHeZTYgKvjWRATk4OUXU8JpHnhkETgU\n",
       "7fsccoJiIciuQJcMQLZf/KHETqWc1LerYdfY0KRP+KXw0Sy53ui3tV80Tt0y0d+H1+s9RFt5/aku\n",
       "O2Ln7tfffeAtTdIiDYrVqAKRB+tfq+5hwqmqKuUrN8IRJqWfwta0/Ay4bcEAfbl0GBOVLUwS5VjN\n",
       "YBK1X0OzbEJPHMAZnVFjW6+Vk1WSlGTrFhV22GGLjLm2xnksqAAABFcBn3BqQ38ADn9tkBABOtaE\n",
       "OhYzDwxkd+VTZgVwKeR641c5TuAbvqO409hu4E6P7rEJIvzwNse6ZOAQ/x8UlddXHwbcV3uvA7Cu\n",
       "kJutAUn7TFUBrUjKuTLjnlERb0cVIRn12pkHnzayC319RGm7jGn4bvBdV9ZQuuxoijRFnlR5RMKC\n",
       "ytQqLbIs+YGYwiyby+80J1mf/sKYVkeI+PKt6FIPm14Gh2BYYN8MSUsb7tK+39TdhM/wj9akNM56\n",
       "KH+fhkh1m6XuBqPDGMBKe6GZGjPxdnbjZSPgYOqoMHJe46YaBycZU9/YeqxjJ6oDA2e63nv4lkkB\n",
       "leNL66ScDxgHKrYalxj1+PHsYgLaKDrvKvp2YX7Yo8LbdJmeggPwMyu2zbOS+G/O1VCOwKwEg24J\n",
       "KATpMHQEenskESifF/6MXqvPrUOWM7DVgsKfgfuBesxRCZs4DEVTvcuZ54ADBJJCyN6rY1SEEjqq\n",
       "bEmCFeeNcqSphFrJvTDMA4RH/yPNz/e7obPpki/SaX9cprOGwFXkKqz4aYbfYGRwFbOtPzxAyYp9\n",
       "Ylhv3PyB1vhTWMTlO1uJYjyk85befvh09a8aRIZpQ5Jzg/7MUQP4iM2IBrPryZyTZvNAUsh5OmAY\n",
       "XysX9fbFWvUKhUsp0TRK9jCiYiz4oZJytSMnJGCR1N0UZRlYFWkq9K2wVSUTxSAHbYnQ5gHurZN6\n",
       "oyPKDx/xwBWTYVTfkQy6j874Z8PLAxD3Q8y+QCHSOkordrCN407zE0XOx3pktwa6LskTS1ncSqTn\n",
       "ZtArCO79KZ465871oDbYIE4ulmBFwdyXqn2+yO8g43KRAq7VO5fECN9dxL0szH/CGVIoQSiMjTSK\n",
       "EOinQQnEej8KHrAcQFQgL82DBkoHkrFb5s57DEPqtF/SPy42U65LZD5g3KR6MzJtl/903/diKy0j\n",
       "tDG3d+cc1tiNpEIw8trpiJLoPwWwxKSDq/Qsy2RjuuOIWWzhoNuUZot1i9YHH+oyA9rXH5Nnl3Tc\n",
       "VTuBDRZMgDJetDxQMHPkq/DxGF/cHR5Ero0O3nZEGUyygEYPBezd02NvKuX277OjWU8dMVxM1L1H\n",
       "uKIMVUYxogmmoSZvWWTcbGhMU7bk8Z1P2GHOnoKnHGq0cKpx7tenCqxls7G63Sdzncxz6gfSIgtp\n",
       "nWGCuP0jspDUFI1bbQ5VqUKrSpAALvQKuUuPXlTWGe7RzbSyUlgJR/jXcePwAb8jXVsmi0+Qxi+R\n",
       "jC9WL5uUa9YHQHZTV2U2JZDHJ+5wqnuiob7pZ+ouVFClk6GgNoQd9QAfKel3Jv3p61IM9PeTN4x8\n",
       "9TVDqO4YCFPTNawNshNa2CHTqOuTz2XO/XGoMo998YGjIZVbxZ/G6YNhTQza27zBcoz6sFSfH37B\n",
       "uyg+Zxa0ThWo6Qq4K/Gw2RvENeJmkGMzfzjSbAB4oRa7AREgVgLwuyaNC9cv1JnDGmEoxU6r/Iv+\n",
       "tQ0DwqthKYuxvCh4AAABtEGbc0moQWyZTBRMN//+p4QAJqoc5ACavaBGdUAw2elr6MyS82kxzpMF\n",
       "gqy6+RSD/3+VbfhsOYnsZSEnNiWvZNcwER9hWIlahRF21dz2kiuMJLoAXNWo7DdJv2G3/HL75u5T\n",
       "sfm3zjxUeFJYNHa9hBOLwjyog3wOY1zIhW+nf7211l7iNjTeqx5Pv4HeEBfplHQxBxhMhzW94WIl\n",
       "nVyD+rXxf+rflUskF5EkSvsLdBQz4uoe/icuWLrCAt4MyIYVy9dhQc7KAaZ6AqCD9m4QiC9N5sg3\n",
       "PhTAqN3z9RuCY9pyJp7XDxr/XAfOb83E4erpN73yi7LsUHXaf37J7jn2/Zvi+APSz8M10k1bqZZ7\n",
       "Xak/sKHZxPlFgNaQPt413r5wG66iqNLxsE0vpIG83oE1EzoAUDFdWrnvwvA9GxNWmkpKw+lgoBLQ\n",
       "35hdu9V1Ab6FX/kMDU4dcUxr5OK246vsan3xdjOVfsDmogjabzxFcjASocqn8kLdl63Gursd3ImP\n",
       "ZFa9CZqDqOy3dIcaEHZtR2BoxkNerP9vojG8tenQ2PNddDgM+v6lgEPYTGKAvLUlsk/9KpkAAARe\n",
       "AZ+SakN/AA3RbkKCOJaABdIws+yj+kbWcO5cUeqoySB6NJXHrP1Sll0I8V2ZnQUq/MTrw+5Ex/1Y\n",
       "GuD2aKLt9xogH1EYPsJp/vuGJXTIFNUfoJlR31X/J3/Ln/m59e0VniUkntZ6dSnqWrJ3aMxBRYQs\n",
       "nG9qKQ8mBBhz0mNWSfxkmQ6C/EiKNX0a/P0eqoV69AiyXElMCNjgKkmEP9d9l18AMF8hMLF70DSc\n",
       "DhbtOFni/sZj5LIW2uCnS15ccSCR23IuspCwBP3AfLX+dxv9edNW1aUkoT2HwqYcvQY+bmQzZ5EW\n",
       "8ShjL70v/QNzP8oyE2yAGB5k3qGMCBKsfSIvVh0xjJpU3OK3AIBBGwMQnXAdr4g89r6cIxBmt7VS\n",
       "T1EXFT8rZJY0dcWYgekvk83U/sId4DQJ7sEpLNDIITdUGMWYh6EnHRUUwyI4Lg2VgtfweNOAdrDe\n",
       "6/3Akr38TITtXnZAMKREn9vJsYv5c8qKhwMgVX5OfyPs7dg+Eva7wSF5+9LIOJ5vPNzos1flYo8a\n",
       "oCcKI2lWG7b2HyKc05KmaX08heAR+E+kT5G6jRi4ey6BpCS/ZotlyVZphnBItB95/4uR3LBU8nTe\n",
       "Fqv0JYUXcJsHfTOxeIy8/b5cFgBDKdl0w20rboYZV0cuwuXtalaPIEdHRsrC9KODPRmmsmP6OTIg\n",
       "FWYUOxUMOBEDZwf4PHQVeHlVULqVzsAiYpe6nFZEAGmHj8/67tjqv4GzQrgSfQVudLKr7b2lQYJq\n",
       "3YZFx6Qg1HlEnj3Hj3jYCW3P7SjuHvD3cBLMt5+Bs7YFqmSydpJgB6s4KJzWrGs/hBYcbxR3V5+Z\n",
       "auWezx2e5rOV+CMbcgqIw9e/jse7gYFIUYnk+q526dBLYZj+hSNb/WYJSFrqRp1ntbdID7wfhthF\n",
       "vX5dmWaj2RXtkmyc+yhNctvubPoTRlAli4vyF5sysdkmzMGkgM5pvZFmHfMjvnhq3kkIFc/XXLWn\n",
       "AOrHduIC2FvxcjEiBIi9JAeAJdfoyxJrbXOXUjCIfyBaKkSFTGB2sgKcjTlQGYYJqlBNnS6hff2v\n",
       "a1j22vPUdrwK1fiO6p4RPQMceYaWH0x4UiaEUJ7Z90eYIMCPyhO/1pRvEAbldc+FCLB5BpLEU7cw\n",
       "ruByUEGpNF8fkoVXjFKbLWXaFjxLXXCYkO3/sbQHgXswbNUTdIWd0UFLw6TLQd/J9Uv17pFN1tWm\n",
       "aieK6InXwYwUXUFEap2tGdNJR85NFDIviufNNEYx46tKkGyr2Urs1sMh5EArW1mXsX8/C9cYVdz7\n",
       "SIW6C5WkRHBvCiy0HWtzO4eo00KyDe1FdqKxTqXLnRgS/hcJjTShLy1IgBqUji9tGjeKQLMsBe47\n",
       "aJ0p2cufeNj6z1eYu7UgceThyD5z/3qBSfsNQo4YNyEFGf0Bt4soFIyBB2ySCEvh6Vp12ISSEiXu\n",
       "Mu/oHfQtCUduRv3FM+PQWcOr4SDFqWc34rJFVHG6Ya4dpuAAAAQWbW9vdgAAAGxtdmhkAAAAAAAA\n",
       "AAAAAAAAAAAD6AAAB9AAAQAAAQAAAAAAAAAAAAAAAAEAAAAAAAAAAAAAAAAAAAABAAAAAAAAAAAA\n",
       "AAAAAABAAAAAAAAAAAAAAAAAAAAAAAAAAAAAAAAAAAAAAAAAAgAAA0B0cmFrAAAAXHRraGQAAAAD\n",
       "AAAAAAAAAAAAAAABAAAAAAAAB9AAAAAAAAAAAAAAAAAAAAAAAAEAAAAAAAAAAAAAAAAAAAABAAAA\n",
       "AAAAAAAAAAAAAABAAAAAAkAAAAGwAAAAAAAkZWR0cwAAABxlbHN0AAAAAAAAAAEAAAfQAAAIAAAB\n",
       "AAAAAAK4bWRpYQAAACBtZGhkAAAAAAAAAAAAAAAAAAAoAAAAUABVxAAAAAAALWhkbHIAAAAAAAAA\n",
       "AHZpZGUAAAAAAAAAAAAAAABWaWRlb0hhbmRsZXIAAAACY21pbmYAAAAUdm1oZAAAAAEAAAAAAAAA\n",
       "AAAAACRkaW5mAAAAHGRyZWYAAAAAAAAAAQAAAAx1cmwgAAAAAQAAAiNzdGJsAAAAs3N0c2QAAAAA\n",
       "AAAAAQAAAKNhdmMxAAAAAAAAAAEAAAAAAAAAAAAAAAAAAAAAAkABsABIAAAASAAAAAAAAAABAAAA\n",
       "AAAAAAAAAAAAAAAAAAAAAAAAAAAAAAAAAAAAAAAAGP//AAAAMWF2Y0MBZAAW/+EAGGdkABas2UCQ\n",
       "N6EAAAMAAQAAAwAUDxYtlgEABmjr48siwAAAABx1dWlka2hA8l8kT8W6OaUbzwMj8wAAAAAAAAAY\n",
       "c3R0cwAAAAAAAAABAAAAFAAABAAAAAAUc3RzcwAAAAAAAAABAAAAAQAAAKhjdHRzAAAAAAAAABMA\n",
       "AAABAAAIAAAAAAEAABQAAAAAAQAACAAAAAABAAAAAAAAAAEAAAQAAAAAAQAACAAAAAABAAAUAAAA\n",
       "AAEAAAgAAAAAAQAAAAAAAAABAAAEAAAAAAEAAAgAAAAAAQAAFAAAAAABAAAIAAAAAAEAAAAAAAAA\n",
       "AQAABAAAAAABAAAQAAAAAAIAAAQAAAAAAQAADAAAAAABAAAEAAAAABxzdHNjAAAAAAAAAAEAAAAB\n",
       "AAAAFAAAAAEAAABkc3RzegAAAAAAAAAAAAAAFAAAKCQAAAjFAAAFdAAABI0AAAUdAAACcAAAA/wA\n",
       "AAU0AAACpwAABOYAAAPZAAAHKAAABXEAAASaAAADwAAABOkAAAItAAAEWwAAAbgAAARiAAAAFHN0\n",
       "Y28AAAAAAAAAAQAAACwAAABidWR0YQAAAFptZXRhAAAAAAAAACFoZGxyAAAAAAAAAABtZGlyYXBw\n",
       "bAAAAAAAAAAAAAAAAC1pbHN0AAAAJal0b28AAAAdZGF0YQAAAAEAAAAATGF2ZjU4LjEyLjEwMA==\n",
       "\">\n",
       "  Your browser does not support the video tag.\n",
       "</video>"
      ],
      "text/plain": [
       "<matplotlib.animation.FuncAnimation at 0x1cb467de940>"
      ]
     },
     "execution_count": 13,
     "metadata": {},
     "output_type": "execute_result"
    }
   ],
   "source": [
    "# on windows\n",
    "plt.rcParams['animation.ffmpeg_path'] = 'C:\\\\Users\\\\ga39med\\\\Downloads\\\\ffmpeg402\\\\bin\\\\ffmpeg.exe'\n",
    "# on linux\n",
    "# plt.rcParams['animation.ffmpeg_path'] = u'/home/username/anaconda/envs/env_name/bin/ffmpeg' \n",
    "\n",
    "# equivalent to rcParams['animation.html'] = 'html5'\n",
    "rc('animation', html='html5')\n",
    "anim"
   ]
  },
  {
   "cell_type": "markdown",
   "metadata": {},
   "source": [
    "__Try to visualize other eigen modes of the structure__"
   ]
  },
  {
   "cell_type": "markdown",
   "metadata": {},
   "source": [
    "### 3.3 Dynamic analysis"
   ]
  },
  {
   "cell_type": "markdown",
   "metadata": {},
   "source": [
    "The response of MDoF under dynamic loading is computed by different time integration. Three time integration is presented in this section. \n",
    "1. __Generalised-Alpha__\n",
    "2. __Euler First and Second Order__"
   ]
  },
  {
   "cell_type": "markdown",
   "metadata": {},
   "source": [
    "_THE OBJECT-ORIENTED GENERALIZED-ALPHA SOLVER\n",
    "Implementation adapted from I. Hanzlicek (2014). Original implementation by M. Andre described in: Formulation of the Generalized-Alpha method for LAGRANGE. Technical Report, Chair of Structural Analysis @TUM, 2012.\n",
    "See J. Chung, G.M. Hulbert: A time integration algorithm for structural dynamics\n",
    "wih improved numerical dissipation: the generalized-aplha mehod. ASME J. Appl. \n",
    "Mech., 60:371-375,1993._\n",
    "\n",
    "_THE EULER ALGORITHM USING FIRST AND SECOND ORDER APPROXIMATION\n",
    "Implementation of the well-known finite difference approach, theory also\n",
    "described in J.L. Cieslinski, B. Ratkiewicz: On the Simulations of the Classical\n",
    "Harmonic Oscillator Equations by Difference Equations, PY 502, Hindawi Publishing \n",
    "Corporation, Advances in Difference Equations, Volume 2006. An algorithmic description\n",
    "can also be found in H.P. Gavin: Numerical Integration in Structural Dynamics,\n",
    "CEE 541, Structural Dynamics, Department of Civil & Environmental Engineering, \n",
    "Duke University Fall 2016._"
   ]
  },
  {
   "cell_type": "markdown",
   "metadata": {},
   "source": [
    "An undamped system is assumed in this example. Interested students may refer to the __Version 2__  of the code provided for detailed implementation of \n",
    "__Rayleigh damping, \n",
    "Cauchy damping and \n",
    "superposed damping__"
   ]
  },
  {
   "cell_type": "code",
   "execution_count": 14,
   "metadata": {},
   "outputs": [],
   "source": [
    "# for no damping\n",
    "b = np.zeros(k.shape)"
   ]
  },
  {
   "cell_type": "markdown",
   "metadata": {},
   "source": [
    "######  Initial conditions"
   ]
  },
  {
   "cell_type": "code",
   "execution_count": 15,
   "metadata": {},
   "outputs": [],
   "source": [
    "# for free vibration - starting from 1st eigenmode\n",
    "vu0 = eig_modes_norm[:,eig_freq_sorted_idx[0]]\n",
    "vv0 = np.zeros(m.shape[0])\n",
    "va0 = np.zeros(m.shape[0])"
   ]
  },
  {
   "cell_type": "markdown",
   "metadata": {},
   "source": [
    "######  Plot of Initial displacements"
   ]
  },
  {
   "cell_type": "code",
   "execution_count": 16,
   "metadata": {},
   "outputs": [
    {
     "data": {
      "image/png": "[encoded data removed]",
      "text/plain": [
       "<matplotlib.figure.Figure at 0x1cb4680d3c8>"
      ]
     },
     "metadata": {
      "needs_background": "light"
     },
     "output_type": "display_data"
    }
   ],
   "source": [
    "plt.figure(num=4, figsize=(8, 6))\n",
    "plt.plot(vu0, z[1:],marker='o')\n",
    "plt.title(\"Inital Displacement\")\n",
    "plt.xlabel(\"Displacement [m]\")\n",
    "plt.ylabel(\"Height coordinate [m]\")\n",
    "plt.grid(True)"
   ]
  },
  {
   "cell_type": "markdown",
   "metadata": {},
   "source": [
    "###### External loading  "
   ]
  },
  {
   "cell_type": "markdown",
   "metadata": {},
   "source": [
    "Two types of loads are defined here. \n",
    "1. Free vibration case - no external loads\n",
    "2. Harmonic excitation"
   ]
  },
  {
   "cell_type": "code",
   "execution_count": 17,
   "metadata": {},
   "outputs": [],
   "source": [
    "# for no external force\n",
    "ext_force = np.zeros((len(vu0),len(time_series)))"
   ]
  },
  {
   "cell_type": "code",
   "execution_count": 18,
   "metadata": {},
   "outputs": [
    {
     "data": {
      "image/png": "[encoded data removed]",
      "text/plain": [
       "<matplotlib.figure.Figure at 0x1cb43999c88>"
      ]
     },
     "metadata": {
      "needs_background": "light"
     },
     "output_type": "display_data"
    }
   ],
   "source": [
    "# plot for force - for top dof\n",
    "plt.figure(num=5, figsize=(15, 4))\n",
    "plt.plot(time_series, ext_force[m.shape[0]-1,:], \"-k\", lw=0.5)\n",
    "plt.ylabel('Force [N]')\n",
    "plt.xlabel('Time [s]')\n",
    "plt.title(\"Force component at top node\")\n",
    "plt.grid(True)"
   ]
  },
  {
   "cell_type": "markdown",
   "metadata": {},
   "source": [
    "##### Time integration schemes \n",
    "\n",
    "For solving the equation of motion at each time step different time integration schemes can be used.\n",
    "Here in this exercise three time integration implementations are available. \n",
    "1. Euler 1st : The acceleration is approximated by 1st order Euler of velocity and the velocity is approximated by !st order Euler of displacement  \n",
    "2. Euler !st and 2nd : Here the acceleration is approximated by 2nd order Euler of displacements and the displacement is approximated by 1st order Euler of displacements. The forward, backward and central Euler are available for the velocities ( check block 12 for details)\n",
    "3. A Generalized alpha method for time integration.  "
   ]
  },
  {
   "cell_type": "code",
   "execution_count": null,
   "metadata": {},
   "outputs": [],
   "source": [
    "# numerical parameter -> only needed for the GeneralizedAlpha time integration scheme\n",
    "p_inf = 0.15 \n",
    "# create an object: structure - to be used by the GeneralizedAlpha scheme\n",
    "structure = s_mdof.StructureMDoF(delta_time, m, b, k, p_inf, vu0, vv0, va0)\n",
    "# structure.print_setup()"
   ]
  },
  {
   "cell_type": "markdown",
   "metadata": {},
   "source": [
    "##### Tip: Have a look at \"structure_mdof.py\" for details "
   ]
  },
  {
   "cell_type": "code",
   "execution_count": null,
   "metadata": {},
   "outputs": [],
   "source": [
    "# data for storing results\n",
    "# using objects \n",
    "# standard python dictionaries would also be a good option\n",
    "# create a SampleData class\n",
    "class SampleData(): pass\n",
    "\n",
    "# initiate objects and labels\n",
    "data_euler12 = SampleData()\n",
    "data_euler12.label = \"Euler 1st & 2nd\"\n",
    "\n",
    "data_gen_alpha = SampleData()\n",
    "data_gen_alpha.label = \"Gen Alpha\"\n",
    "\n",
    "# lists to store the results\n",
    "data_euler12.disp = []\n",
    "data_euler12.acc  = []\n",
    "data_euler12.vel  = []\n",
    "\n",
    "data_gen_alpha.disp = []\n",
    "data_gen_alpha.acc  = []\n",
    "data_gen_alpha.vel  = []\n",
    "\n",
    "# ===============================================================================\n",
    "# computation time for each method\n",
    "data_euler12.computation_time = 0.0\n",
    "data_gen_alpha.computation_time = 0.0\n",
    "\n",
    "# initial values\n",
    "data_euler12.disp.append(vu0)\n",
    "data_euler12.vel.append(vv0)\n",
    "data_euler12.acc.append(va0)\n",
    "\n",
    "data_gen_alpha.disp.append(vu0)\n",
    "data_gen_alpha.vel.append(vv0)\n",
    "data_gen_alpha.acc.append(va0)\n",
    "\n",
    "# more initial values for the time integration schemes\n",
    "data_euler12.un2 = vu0\n",
    "data_euler12.un1 = vu0 - (vv0*delta_time) + (delta_time ** 2 / 2) * va0\n",
    "data_euler12.vn1 = vv0\n",
    "data_euler12.an1 = va0"
   ]
  },
  {
   "cell_type": "markdown",
   "metadata": {},
   "source": [
    "###### Time loop: computing the response at each time instant\n",
    "interested students may refer to [J.L. Cieslinski, B. Ratkiewicz](https://link.springer.com/content/pdf/10.1155%2FADE%2F2006%2F40171.pdf) (2006) for details on discretization of Euler time integration "
   ]
  },
  {
   "cell_type": "code",
   "execution_count": null,
   "metadata": {},
   "outputs": [],
   "source": [
    "for i in range(1, len(time_series)):\n",
    "    currentTime = time_series[i]\n",
    "\n",
    "    # ===========================================================================\n",
    "    ## Euler 1st and 2nd order\n",
    "    t = time.time()\n",
    "\n",
    "    # solve the time integration step\n",
    "    # second order approximation of acceleration, first order for velocity\n",
    "    # version 1 - eq. 5.3\n",
    "    # LHS = m\n",
    "    # RHS = ext_force[i-1] * delta_time**2 \n",
    "    # RHS += np.dot(data_euler12.un1, (2*m - b * delta_time - k *delta_time**2)) \n",
    "    # RHS += np.dot(data_euler12.un2, (-m + b * delta_time))\n",
    "    \n",
    "    # version 2 - eq. 5.4 from J.L. Cieslinski, B. Ratkiewicz or eq. 6 from H.P. Gavin\n",
    "    LHS = m + np.dot(b, delta_time / 2)\n",
    "    RHS = ext_force[:,i] * delta_time ** 2 \n",
    "    RHS += np.dot(data_euler12.un1, (2 * m - k * delta_time ** 2)) \n",
    "    RHS += np.dot(data_euler12.un2, (-m + b * delta_time / 2))\n",
    "    \n",
    "    # version 3 - eq. 5.5\n",
    "    # LHS = m + b * delta_time\n",
    "    # RHS = ext_force[i-1] * delta_time**2 \n",
    "    # RHS += np.dot(data_euler12.un1, (2*m + b * delta_time - k *delta_time**2)) \n",
    "    # RHS += np.dot(data_euler12.un2, (-m))\n",
    "\n",
    "    data_euler12.un0 = np.linalg.solve(LHS, RHS)\n",
    "\n",
    "    data_euler12.vn0 = (data_euler12.un0 - data_euler12.un2) / 2 / delta_time\n",
    "    data_euler12.an0 = (data_euler12.un0 - 2 * data_euler12.un1 + data_euler12.un2) / delta_time ** 2\n",
    "\n",
    "    # append results to list\n",
    "    data_euler12.disp.append(data_euler12.un0)\n",
    "    data_euler12.vel.append(data_euler12.vn0)\n",
    "    data_euler12.acc.append(data_euler12.an0)\n",
    "\n",
    "    # update results\n",
    "    data_euler12.un2 = data_euler12.un1\n",
    "    data_euler12.un1 = data_euler12.un0\n",
    "\n",
    "    # elapsed time accumulated\n",
    "    data_euler12.computation_time += time.time() - t\n",
    "\n",
    "    # ===========================================================================\n",
    "    ## Generalized Alpha\n",
    "    t = time.time()\n",
    "\n",
    "    # solve the time integration step\n",
    "    structure.solve_structure(ext_force[:,i])\n",
    "\n",
    "    # append results to list\n",
    "    data_gen_alpha.disp.append(structure.get_displacement())\n",
    "    data_gen_alpha.vel.append(structure.get_velocity())\n",
    "    data_gen_alpha.acc.append(structure.get_acceleration())\n",
    "\n",
    "    # update results\n",
    "    structure.update_structure_timestep()\n",
    "\n",
    "    # elapsed time accumulated\n",
    "    data_gen_alpha.computation_time += time.time() - t"
   ]
  },
  {
   "cell_type": "code",
   "execution_count": null,
   "metadata": {},
   "outputs": [],
   "source": [
    "# plot results\n",
    "# select Nodal DoF (for this case equivalent to story height)\n",
    "node = 3\n",
    "dof = node-1\n",
    "x_axis_end = end_time"
   ]
  },
  {
   "cell_type": "code",
   "execution_count": null,
   "metadata": {},
   "outputs": [],
   "source": [
    "# plot for displacement - top dof\n",
    "plt.figure(num=6, figsize=(15, 4))\n",
    "plt.plot(time_series, [row[dof] for row in data_euler12.disp], \"-.r\", label=data_euler12.label, lw=0.5)\n",
    "plt.plot(time_series, [row[dof] for row in data_gen_alpha.disp], \"--g\", label=data_gen_alpha.label, lw=0.5)\n",
    "plt.xlim([0, x_axis_end])\n",
    "plt.xlabel('Time [s]')\n",
    "plt.ylabel('Displacement [m]')\n",
    "plt.title(\"Displacement for top node-0\")\n",
    "plt.legend(loc=4)\n",
    "plt.grid(True)"
   ]
  },
  {
   "cell_type": "code",
   "execution_count": null,
   "metadata": {},
   "outputs": [],
   "source": [
    "# plot for displacement - top dof\n",
    "plt.figure(num=7, figsize=(15, 4))\n",
    "plt.plot(time_series, [row[dof-1] for row in data_euler12.disp], \"-.r\", label=data_euler12.label, lw=0.5)\n",
    "plt.plot(time_series, [row[dof-1] for row in data_gen_alpha.disp], \"--g\", label=data_gen_alpha.label, lw=0.5)\n",
    "plt.xlim([0, x_axis_end])\n",
    "plt.xlabel('Time [s]')\n",
    "plt.ylabel('Displacement [m]')\n",
    "plt.title(\"Displacement for top node-1\")\n",
    "plt.legend(loc=4)\n",
    "plt.grid(True)\n",
    "\n",
    "plt.show()"
   ]
  },
  {
   "cell_type": "markdown",
   "metadata": {},
   "source": [
    "### Exercise 1: Dynamic analysis under harmonic loads"
   ]
  },
  {
   "cell_type": "markdown",
   "metadata": {},
   "source": [
    "Apply a harmonic load excited in mode 1 with no initial displacement. Observe the difference in response.\n",
    "\n",
    "Tip: \n",
    "1. The inital displacement needs to be made zero. Use the appropriate contents of block 25 in block 15 \n",
    "2. A harmonic external force excited in mode 1 needs to be defined. Use the appropriate contents of block 25 in block 17 \n",
    "(use 'Ctrl' + '/' to uncomment multiple lines)"
   ]
  },
  {
   "cell_type": "code",
   "execution_count": null,
   "metadata": {},
   "outputs": [],
   "source": [
    "# # initial displacement vector - set to zero for zero initial displacement and forced vibration case \n",
    "# vu0 = np.zeros(m.shape[0])\n",
    "# # copy the above lines to block 15\n",
    "                       \n",
    "# # for harmonic excitation\n",
    "# scaling_factor = 1.5\n",
    "# # select mode to excite harmonically\n",
    "# mode = 1\n",
    "# i = mode -1\n",
    "# for j in range(len(time_series)):\n",
    "#     ext_force[:,j] = eig_modes_norm[:, eig_freq_sorted_idx[i]]\n",
    "#     ext_force[:,j] *= scaling_factor\n",
    "#     ext_force[:,j] *= np.sin(eig_vals[eig_freq_sorted_idx[i]] * time_series[j])\n",
    "# # copy the above lines to block 17                       "
   ]
  },
  {
   "cell_type": "markdown",
   "metadata": {},
   "source": [
    "### Exercise 2: Dynamic analysis of MDoF model of a high rise"
   ]
  },
  {
   "cell_type": "markdown",
   "metadata": {},
   "source": [
    "Import the MDoF model of the highrise provided, and compute the responses . \n",
    "\n",
    "Tip : \n",
    "1. Use the mass, stiffness, and damping matrix definitions of block 26 in block 3. (use 'Ctrl' + '/' to uncomment multiple lines)"
   ]
  },
  {
   "cell_type": "code",
   "execution_count": null,
   "metadata": {},
   "outputs": [],
   "source": [
    "# # import or read-in -> sample data for a generic highrise\n",
    "# import mdof_model_highrise as m_highrise\n",
    "# # stiffness matrix\n",
    "# k = m_highrise.get_stiffness()\n",
    "# # mass matrix\n",
    "# m = m_highrise.get_mass()\n",
    "# # height coordinates\n",
    "# z = m_highrise.get_height_coordinates()\n",
    "# #copy the above lines to block 3"
   ]
  },
  {
   "cell_type": "markdown",
   "metadata": {},
   "source": [
    "### Exercise 3: Modify the time step delta_time "
   ]
  },
  {
   "cell_type": "markdown",
   "metadata": {},
   "source": [
    "Modify the time step delta_time by changing the number of timesteps 'n_steps'. Comment on the results."
   ]
  },
  {
   "cell_type": "markdown",
   "metadata": {},
   "source": [
    "### Exercise 4: Modify p_inf"
   ]
  },
  {
   "cell_type": "markdown",
   "metadata": {},
   "source": [
    "Modify the numerical parameter p_inf (for the Generalized Alpha scheme), observe and comment on the result."
   ]
  },
  {
   "cell_type": "markdown",
   "metadata": {},
   "source": [
    " ## Check Point: Discussion"
   ]
  },
  {
   "cell_type": "markdown",
   "metadata": {},
   "source": [
    "#### Discuss among groups the observations and outcomes from exercises."
   ]
  },
  {
   "cell_type": "markdown",
   "metadata": {},
   "source": [
    "### Assignment: Apply wind loads"
   ]
  },
  {
   "cell_type": "markdown",
   "metadata": {},
   "source": [
    "Create and apply a static load case of the wind profile already determined, also apply a dynamic version of it. See the notes and exercises related to Bluff Body Aerodynamics.\n",
    "\n",
    "For example: The wind load for a wind velocity of 28.7 m/s at reference height of 10m is as in block 27. Use the snippet in block 27 to adapt block 4."
   ]
  },
  {
   "cell_type": "code",
   "execution_count": null,
   "metadata": {},
   "outputs": [],
   "source": [
    "# velocity_over_height = 1.05 * 28.7 * pow(z[1:]/10, 0.2)\n",
    "# static_force = 0.5 * 1.2 * 600 * velocity_over_height**2"
   ]
  }
 ],
 "metadata": {
  "kernelspec": {
   "display_name": "Python 3",
   "language": "python",
   "name": "python3"
  },
  "language_info": {
   "codemirror_mode": {
    "name": "ipython",
    "version": 3
   },
   "file_extension": ".py",
   "mimetype": "text/x-python",
   "name": "python",
   "nbconvert_exporter": "python",
   "pygments_lexer": "ipython3",
   "version": "3.6.7"
  }
 },
 "nbformat": 4,
 "nbformat_minor": 2
}
