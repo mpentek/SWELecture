{
 "cells": [
  {
   "cell_type": "markdown",
   "metadata": {},
   "source": [
    "# Tutorial 3.2. Response of a SDoF system "
   ]
  },
  {
   "cell_type": "markdown",
   "metadata": {},
   "source": [
    "### Description: In some cases a single degree of freedom - SDoF - model can be used to model the structural behaviour. The response of a SDoF system under dynamic loads may be computed by different direct time integration schemes, which are presented here. The results are compared with the analytical solutions from basic structural dynamics. Some exercises are proposed. \n",
    "\n",
    "#### Students are advised to complete the exercises. "
   ]
  },
  {
   "cell_type": "markdown",
   "metadata": {},
   "source": [
    "Project : Structural Wind Engineering WS18-19 \n",
    "        Chair of Structural Analysis @ TUM - R. Wüchner, M. Péntek\n",
    "        \n",
    "Author : kodakkal.anoop@tum.de mate.pentek@tum.de\n",
    "\n",
    "Created on:  15.11.2015\n",
    "\n",
    "Last update: 12.10.2018"
   ]
  },
  {
   "cell_type": "markdown",
   "metadata": {},
   "source": [
    "##### Contents\n",
    "\n",
    "1. Structural response of a SDoF system under dynamic loads\n",
    "2. Comparison with analytical solutions \n",
    "3. Comparison of the performance and accuracy of different numerical (time) integration schemes "
   ]
  },
  {
   "cell_type": "code",
   "execution_count": 1,
   "metadata": {
    "scrolled": true
   },
   "outputs": [],
   "source": [
    "# import python modules\n",
    "import time\n",
    "import matplotlib.pyplot as plt\n",
    "import numpy as np\n",
    "\n",
    "# import own modules\n",
    "import structure_sdof as s_sdof"
   ]
  },
  {
   "cell_type": "markdown",
   "metadata": {},
   "source": [
    "#### Creating the time instances as an array"
   ]
  },
  {
   "cell_type": "markdown",
   "metadata": {},
   "source": [
    "The start time, end time and the number of time steps are specified here for generating the time series. "
   ]
  },
  {
   "cell_type": "code",
   "execution_count": 2,
   "metadata": {},
   "outputs": [],
   "source": [
    "# start time\n",
    "start_time = 0.0\n",
    "# end time\n",
    "end_time = 10.0\n",
    "# steps \n",
    "n_steps = 100000\n",
    "# time step\n",
    "delta_time = end_time / (n_steps-1)\n",
    "# time series\n",
    "# generate grid size vectors 1D\n",
    "time_series = np.arange(start_time, end_time + delta_time, delta_time)"
   ]
  },
  {
   "cell_type": "markdown",
   "metadata": {},
   "source": [
    "### Modeling of the structure"
   ]
  },
  {
   "cell_type": "markdown",
   "metadata": {},
   "source": [
    "<img src=\"example_sdof.png\" alt=\"Drawing\" style=\"width: 400px;\"/>"
   ]
  },
  {
   "cell_type": "markdown",
   "metadata": {},
   "source": [
    "### Dynamic analysis"
   ]
  },
  {
   "cell_type": "markdown",
   "metadata": {},
   "source": [
    "The response of SDoF under dynamic loading is computed by different time integration schemes, three of which are presented in this section. \n",
    "1. __Generalised-Alpha__\n",
    "2. __Euler First Order__\n",
    "2. __Euler First and Second Order__"
   ]
  },
  {
   "cell_type": "markdown",
   "metadata": {},
   "source": [
    "_THE OBJECT-ORIENTED GENERALIZED-ALPHA SOLVER\n",
    "Implementation adapted from I. Hanzlicek (2014). Original implementation by M. Andre described in: Formulation of the Generalized-Alpha method for LAGRANGE. Technical Report, Chair of Structural Analysis @TUM, 2012.\n",
    "See J. Chung, G.M. Hulbert: A time integration algorithm for structural dynamics\n",
    "wih improved numerical dissipation: the generalized-aplha mehod. ASME J. Appl. \n",
    "Mech., 60:371-375,1993._\n",
    "\n",
    "_THE EULER ALGORITHM USING FIRST AND SECOND ORDER APPROXIMATION\n",
    "Implementation of the well-known finite difference approach, theory also\n",
    "described in J.L. Cieslinski, B. Ratkiewicz: On the Simulations of the Classical\n",
    "Harmonic Oscillator Equations by Difference Equations, PY 502, Hindawi Publishing \n",
    "Corporation, Advances in Difference Equations, Volume 2006. An algorithmic description\n",
    "can also be found in H.P. Gavin: Numerical Integration in Structural Dynamics,\n",
    "CEE 541, Structural Dynamics, Department of Civil & Environmental Engineering, \n",
    "Duke University Fall 2016._"
   ]
  },
  {
   "cell_type": "markdown",
   "metadata": {},
   "source": [
    "###### Structural setup "
   ]
  },
  {
   "cell_type": "code",
   "execution_count": 3,
   "metadata": {},
   "outputs": [],
   "source": [
    "# mass\n",
    "m = 0.1\n",
    "# eigenfrequency\n",
    "eigen_f = 10.0\n",
    "# stiffness\n",
    "k = m * (eigen_f * 2 * np.pi)**2\n",
    "# damping ratio\n",
    "# zero damping in this case\n",
    "xi = 0.00 \n",
    "# damping coefficient\n",
    "b = xi * 2.0 * np.sqrt(m * k)"
   ]
  },
  {
   "cell_type": "markdown",
   "metadata": {},
   "source": [
    "######  Initial conditions"
   ]
  },
  {
   "cell_type": "code",
   "execution_count": 4,
   "metadata": {},
   "outputs": [],
   "source": [
    "# displacement\n",
    "u0 = 1.0\n",
    "# velocity\n",
    "v0 = 0.0\n",
    "# acceleration\n",
    "a0 = 0.0"
   ]
  },
  {
   "cell_type": "markdown",
   "metadata": {},
   "source": [
    "###### External loading  "
   ]
  },
  {
   "cell_type": "markdown",
   "metadata": {},
   "source": [
    "Three types of loads are defined here: \n",
    "1. Free vibration case - No external loads\n",
    "2. Harmonic excitation\n",
    "3. Superposed signal"
   ]
  },
  {
   "cell_type": "code",
   "execution_count": null,
   "metadata": {},
   "outputs": [],
   "source": [
    "# sine with given amplitude = 1 and frequency = 10 Hz\n",
    "sin_freq = 10\n",
    "sin_ampl = 1\n",
    "sin_series = sin_ampl * np.sin( 2 * np.pi * sin_freq * time_series)\n",
    "\n",
    "# normal random signal with given mean m = 0 and standard dev std = 0.25 ->\n",
    "rand_m = 0.0\n",
    "rand_std = 0.25\n",
    "rand_series = np.random.normal(rand_m, rand_std, len(time_series))\n",
    "\n",
    "# constant signal with given amplitude = 10\n",
    "const_ampl = 10\n",
    "const_series = const_ampl * np.ones(len(time_series))\n",
    "\n",
    "# superposing the above signals \n",
    "# superposition weighting\n",
    "coef_signal1 = 1\n",
    "coef_signal2 = 0.25\n",
    "coef_signal3 = 0.25\n",
    "superposed_series = coef_signal1 * const_series + coef_signal2 * sin_series + coef_signal3 * rand_series\n",
    "\n",
    "zero_series = np.zeros(len(time_series))\n",
    "\n",
    "# the external force: here choosing the zero_series, so no external load \n",
    "ext_force_series = zero_series"
   ]
  },
  {
   "cell_type": "markdown",
   "metadata": {},
   "source": [
    "###### Let us plot the excitation force function "
   ]
  },
  {
   "cell_type": "code",
   "execution_count": null,
   "metadata": {},
   "outputs": [
    {
     "data": {
      "image/png": "[encoded data removed]",
      "text/plain": [
       "<matplotlib.figure.Figure at 0x1f61bd8d3c8>"
      ]
     },
     "metadata": {
      "needs_background": "light"
     },
     "output_type": "display_data"
    }
   ],
   "source": [
    "# plot for force\n",
    "plt.figure(num=1, figsize=(15, 4))\n",
    "plt.plot(time_series, ext_force_series, \"-k\", lw=0.5)\n",
    "plt.ylabel('Force [N]')\n",
    "plt.xlabel('Time [s]')\n",
    "plt.title(\"Force - external\")\n",
    "plt.grid(True)"
   ]
  },
  {
   "cell_type": "markdown",
   "metadata": {},
   "source": [
    "###### Analytical solutions  "
   ]
  },
  {
   "cell_type": "markdown",
   "metadata": {},
   "source": [
    "Analytical solutions are available for \n",
    "1. Undamped free vibration with initial displacement \n",
    "2. Undamped forced vibration under harmonic excitation with no initial displacement \n",
    "\n",
    "Refer to: \n",
    "\n",
    "[A.K. Chopra, Dynamics of Structures: Theory and Applications to Earthquake Engineering, \n",
    "Person Prentice Hall, 2014](https://opac-ub-tum-de.eaccess.ub.tum.de/TouchPoint/perma.do?q=+1035%3D%22BV043635029%22+IN+%5B2%5D&v=tum&l=de)\n",
    "\n",
    "[C. Petersen, Dynamik der Baukonstruktionen, 2017](https://link-springer-com.eaccess.ub.tum.de/book/10.1007%2F978-3-8348-2109-6) \n",
    "\n",
    "for detailed descriptions."
   ]
  },
  {
   "cell_type": "code",
   "execution_count": null,
   "metadata": {},
   "outputs": [],
   "source": [
    "# undamped harmonic oscillation with only initial displacement\n",
    "omega = np.sqrt(k / m)\n",
    "u0an = 1.0\n",
    "ampl = u0an**2 + (v0/omega)**2\n",
    "theta = 0 #numpy.atan(u0an*omega/v0)\n",
    "disp_analytic_wo_ext_force = ampl * np.sin(np.multiply(omega, time_series) + theta)\n",
    "disp_analytic_wo_ext_force_limit = u0an * np.ones(len(time_series))\n",
    "\n",
    "# undamped harmonic oscillation with only external force\n",
    "u0an = 0\n",
    "# u0 = 0, v0 = 0, omegaF = omega\n",
    "disp_analytic_w_ext_force = np.zeros(len(time_series))\n",
    "disp_analytic_w_ext_force_limit = np.zeros(len(time_series))\n",
    "for i in range(len(time_series)):\n",
    "    disp_analytic_w_ext_force[i] = sin_ampl /2/k * np.sin(omega * time_series[i])\n",
    "    disp_analytic_w_ext_force[i] -= sin_ampl /2/k * (omega * time_series[i]) * np.sin(omega * time_series[i])\n",
    "    \n",
    "    disp_analytic_w_ext_force_limit[i] = sin_ampl /2/k * (omega * time_series[i])\n",
    "    \n",
    "delta_omega_ratio = 0.01\n",
    "forcing_freq_ratio = np.arange(0.0, 3.0 + delta_omega_ratio, delta_omega_ratio)\n",
    "\n",
    "def determine_transmissibility_funcion(forcing_freq_ratio, damping_ratio):\n",
    "    transmissibility_function = np.zeros(len(forcing_freq_ratio))\n",
    "    for i in range(len(forcing_freq_ratio)):\n",
    "        numerator = np.sqrt(1 + (2 * damping_ratio * forcing_freq_ratio[i])**2)\n",
    "        denominator = np.sqrt((1 - forcing_freq_ratio[i]**2)**2 + (2 * damping_ratio * forcing_freq_ratio[i])**2)\n",
    "        \n",
    "        transmissibility_function[i] = numerator / denominator     \n",
    "    return transmissibility_function"
   ]
  },
  {
   "cell_type": "markdown",
   "metadata": {},
   "source": [
    "###### Let us plot the function"
   ]
  },
  {
   "cell_type": "markdown",
   "metadata": {},
   "source": [
    "For 1. Undamped free vibration with initial displacement"
   ]
  },
  {
   "cell_type": "code",
   "execution_count": null,
   "metadata": {},
   "outputs": [],
   "source": [
    "plt.figure(num=2, figsize=(15, 4))\n",
    "plt.title('Undamped free vibration with initial displacement u0 = ' + str(u0))\n",
    "plt.plot(time_series, disp_analytic_wo_ext_force, \"-k\", lw=1)\n",
    "# upper and lower limits as straight red dashed lines\n",
    "plt.plot(time_series, disp_analytic_wo_ext_force_limit, \"-.r\", lw=1)\n",
    "plt.plot(time_series, -disp_analytic_wo_ext_force_limit, \"-.r\", lw=1)\n",
    "# x_axis_end = end_time\n",
    "# plt.xlim([0, x_axis_end])\n",
    "plt.ylabel('Displacement [m]')\n",
    "plt.xlabel('Time [s]')\n",
    "plt.grid(True)"
   ]
  },
  {
   "cell_type": "markdown",
   "metadata": {},
   "source": [
    "Observe the limiting values of the function"
   ]
  },
  {
   "cell_type": "markdown",
   "metadata": {},
   "source": [
    "For 2. Undamped force vibration under harmonic excitation with no initial displacement"
   ]
  },
  {
   "cell_type": "code",
   "execution_count": null,
   "metadata": {},
   "outputs": [],
   "source": [
    "plt.figure(num=3, figsize=(15, 4))\n",
    "plt.title('Harmonic (sinusoidal) excitation of the undamped system without initial displacement')\n",
    "plt.plot(time_series, disp_analytic_w_ext_force, \"-k\", lw=0.5)\n",
    "# upper and lower limits as straight red dashed lines\n",
    "plt.plot(time_series, disp_analytic_w_ext_force_limit, \"-.r\", lw=0.5)\n",
    "plt.plot(time_series, -disp_analytic_w_ext_force_limit, \"-.r\", lw=0.5)\n",
    "# plt.xlim([0, x_axis_end])\n",
    "plt.ylabel('Displacement [m]')\n",
    "plt.xlabel('Time [s]')\n",
    "plt.grid()"
   ]
  },
  {
   "cell_type": "markdown",
   "metadata": {},
   "source": [
    "The dynamic amplification is dependent on the ratio of forcing frequency to eigen frequency"
   ]
  },
  {
   "cell_type": "code",
   "execution_count": null,
   "metadata": {},
   "outputs": [],
   "source": [
    "plt.figure(num=4, figsize=(8, 6))\n",
    "plt.title('Frequency response -> transmissibility')\n",
    "plt.plot(forcing_freq_ratio, \n",
    "         determine_transmissibility_funcion(forcing_freq_ratio, 0.00001),\n",
    "         \"-r\", lw=0.5)\n",
    "plt.plot(forcing_freq_ratio, \n",
    "         determine_transmissibility_funcion(forcing_freq_ratio, 0.01),\n",
    "         \"-.k\", label=\"xi = 0.01\", lw=0.5)\n",
    "plt.plot(forcing_freq_ratio, \n",
    "         determine_transmissibility_funcion(forcing_freq_ratio, 0.05),\n",
    "         \"--b\", label=\"xi = 0.05\", lw=0.5)\n",
    "plt.plot(forcing_freq_ratio, \n",
    "         determine_transmissibility_funcion(forcing_freq_ratio, 0.1),\n",
    "         \":g\", label=\"xi = 0.1\", lw=0.5)\n",
    "plt.xlim([forcing_freq_ratio[0], forcing_freq_ratio[-1]])\n",
    "plt.ylim([0.0, 60.0])\n",
    "plt.ylabel('Transmissibility [-]')\n",
    "plt.xlabel('Ratio of forcing frequency-to-eigenfrequency [-]')\n",
    "plt.legend(loc=\"best\")\n",
    "plt.grid(True)"
   ]
  },
  {
   "cell_type": "markdown",
   "metadata": {},
   "source": [
    "##### Time integration schemes \n",
    "\n",
    "For solving the equation of motion at each time step different time integration schemes can be used.\n",
    "Here in this exercise three time integration implementations are available. \n",
    "1. Euler 1st : The acceleration is approximated by 1st order Euler of velocity and the velocity is approximated by !st order Euler of displacement  \n",
    "2. Euler !st and 2nd : Here the acceleration is approximated by 2nd order Euler of displacements and the displacement is approximated by 1st order Euler of displacements. The forward, backward and central Euler are available for the velocities ( check block 12 for details)\n",
    "3. A Generalized alpha method for time integration.  "
   ]
  },
  {
   "cell_type": "code",
   "execution_count": null,
   "metadata": {},
   "outputs": [],
   "source": [
    "# numerical parameter -> only needed for the GeneralizedAlpha time integration scheme\n",
    "p_inf = 0.15\n",
    "# create an object: structure - to be used by the GeneralizedAlpha scheme\n",
    "structure = s_sdof.StructureSDOF(delta_time, m, b, k, p_inf, u0, v0, a0)\n",
    "# structure.print_setup()"
   ]
  },
  {
   "cell_type": "markdown",
   "metadata": {},
   "source": [
    "##### Tip: Have a look at \"structure_sdof.py\" for details "
   ]
  },
  {
   "cell_type": "code",
   "execution_count": null,
   "metadata": {},
   "outputs": [],
   "source": [
    "# data for storing results\n",
    "# using objects \n",
    "# standard python dictionaries would also be a good option\n",
    "# create a SampleData class\n",
    "class SampleData(): pass\n",
    "\n",
    "# initiate objects and labels\n",
    "data_euler1 = SampleData()\n",
    "data_euler1.label = \"Euler 1st\" \n",
    "\n",
    "data_euler12 = SampleData()\n",
    "data_euler12.label = \"Euler 1st & 2nd\" \n",
    "\n",
    "data_gen_alpha = SampleData()\n",
    "data_gen_alpha.label = \"Gen Alpha\" \n",
    "\n",
    "# lists to store the results\n",
    "data_euler1.disp = []\n",
    "data_euler1.acc  = []\n",
    "data_euler1.vel  = []\n",
    "\n",
    "data_euler12.disp = []\n",
    "data_euler12.acc  = []\n",
    "data_euler12.vel  = []\n",
    "\n",
    "data_gen_alpha.disp = []\n",
    "data_gen_alpha.acc  = []\n",
    "data_gen_alpha.vel  = []\n",
    "\n",
    "# computation time for each method\n",
    "data_euler1.computation_time = 0.0\n",
    "data_euler12.computation_time = 0.0\n",
    "data_gen_alpha.computation_time = 0.0\n",
    "    \n",
    "# initial values\n",
    "data_euler1.disp.append(u0)\n",
    "data_euler1.vel.append(v0)\n",
    "data_euler1.acc.append(a0)\n",
    "\n",
    "data_euler12.disp.append(u0)\n",
    "data_euler12.vel.append(v0)\n",
    "data_euler12.acc.append(a0)\n",
    "\n",
    "data_gen_alpha.disp.append(u0)\n",
    "data_gen_alpha.vel.append(v0)\n",
    "data_gen_alpha.acc.append(a0)\n",
    "\n",
    "# more initial values for the time integration schemes\n",
    "data_euler1.un1 = u0\n",
    "data_euler1.vn1 = v0   \n",
    "data_euler1.an1 = a0  \n",
    "\n",
    "data_euler12.un2 = u0\n",
    "data_euler12.un1 = u0 - delta_time * v0 + delta_time**2 /2 * a0\n",
    "data_euler12.vn1 = v0\n",
    "data_euler12.an1 = a0 "
   ]
  },
  {
   "cell_type": "markdown",
   "metadata": {},
   "source": [
    "###### Time loop: computing the response at each time instant\n",
    "interested students may refer to [J.L. Cieslinski, B. Ratkiewicz](https://link.springer.com/content/pdf/10.1155%2FADE%2F2006%2F40171.pdf) (2006) for details on discretization of Euler time integration "
   ]
  },
  {
   "cell_type": "code",
   "execution_count": null,
   "metadata": {},
   "outputs": [],
   "source": [
    "for i in range(1,len(time_series)):\n",
    "    currentTime = time_series[i]\n",
    "    \n",
    "    #===========================================================================\n",
    "    ## Euler 1st order   \n",
    "    t = time.time()    \n",
    "\n",
    "    # solve the time integration step \n",
    "    # first order approximation of acceleration and velocity, respectively    \n",
    "    data_euler1.un0 = data_euler1.un1 + delta_time * data_euler1.vn1\n",
    "    data_euler1.vn0 = data_euler1.vn1 + delta_time * data_euler1.an1\n",
    "    data_euler1.an0 = 1/m * (ext_force_series[i] - b * data_euler1.vn0 - k * data_euler1.un0)\n",
    "\n",
    "    # append results to list    \n",
    "    data_euler1.disp.append(data_euler1.un0)\n",
    "    data_euler1.vel.append(data_euler1.vn0)\n",
    "    data_euler1.acc.append(data_euler1.an0)\n",
    "\n",
    "    # update results    \n",
    "    data_euler1.un1 = data_euler1.un0\n",
    "    data_euler1.vn1 = data_euler1.vn0\n",
    "    data_euler1.an1 = data_euler1.an0\n",
    "    \n",
    "    # elapsed time accumulated\n",
    "    data_euler1.computation_time += time.time() - t\n",
    "    \n",
    "    #===========================================================================\n",
    "    ## Euler 1st and 2nd order   \n",
    "    t = time.time()    \n",
    " \n",
    "    # solve the time integration step   \n",
    "    # second order approximation of acceleration, first order for velocity\n",
    "    # version 1 - eq. 5.3 \n",
    "    # LHS = m\n",
    "    # RHS = ext_force_series[i-1] * delta_time**2 \n",
    "    # RHS += data_euler12.un1 * (2*m - b * delta_time - k *dt**2) \n",
    "    # RHS += data_euler12.un2 * (-m + b * delta_time)\n",
    "\n",
    "    # version 2 - eq. 5.4 from J.L. Cieslinski, B. Ratkiewicz or eq. 6 from H.P. Gavin \n",
    "    LHS = m + b * delta_time/2\n",
    "    RHS = ext_force_series[i-1] * delta_time**2 \n",
    "    RHS += data_euler12.un1 * (2*m - k * delta_time**2) \n",
    "    RHS += data_euler12.un2 * (-m + b * delta_time /2)\n",
    "\n",
    "    # version 3 - eq. 5.5\n",
    "    # LHS = m + b * delta_time\n",
    "    # RHS = ext_force_series[i-1] * delta_time**2 \n",
    "    # RHS += data_euler12.un1 * (2*m + b * delta_time - k * delta_time**2) \n",
    "    # RHS += data_euler12.un2 * (-m)\n",
    "\n",
    "    data_euler12.un0 = RHS/LHS\n",
    "    \n",
    "    data_euler12.vn0 = (data_euler12.un0 - data_euler12.un2) /2 /delta_time\n",
    "    data_euler12.an0 = (data_euler12.un0 - 2 * data_euler12.un1 + data_euler12.un2) / delta_time**2\n",
    "\n",
    "    # append results to list   \n",
    "    data_euler12.disp.append(data_euler12.un0)\n",
    "    data_euler12.vel.append(data_euler12.vn0)\n",
    "    data_euler12.acc.append(data_euler12.an0)\n",
    "\n",
    "    # update results\n",
    "    data_euler12.un2 = data_euler12.un1    \n",
    "    data_euler12.un1 = data_euler12.un0\n",
    "    \n",
    "    # elapsed time accumulated\n",
    "    data_euler12.computation_time += time.time() - t   \n",
    "    \n",
    "    #===========================================================================\n",
    "    ## Generalized Alpha     \n",
    "    t = time.time()    \n",
    "\n",
    "    # solve the time integration step\n",
    "    structure.solve_structure(ext_force_series[i])\n",
    "\n",
    "    # append results to list\n",
    "    data_gen_alpha.disp.append(structure.get_displacement())\n",
    "    data_gen_alpha.vel.append(structure.get_velocity())\n",
    "    data_gen_alpha.acc.append(structure.get_acceleration())\n",
    "\n",
    "    # update results\n",
    "    structure.update_structure_timestep()\n",
    "    \n",
    "    # elapsed time accumulated\n",
    "    data_gen_alpha.computation_time += time.time() - t "
   ]
  },
  {
   "cell_type": "code",
   "execution_count": null,
   "metadata": {},
   "outputs": [],
   "source": [
    "# print computation time\n",
    "print('# Computation time')\n",
    "print('Euler 1st order: ' + str(data_euler1.computation_time) + ' s')\n",
    "print('Euler 1st & 2nd order: ' + str(data_euler12.computation_time) + ' s')\n",
    "print('Generalized Alpha: ' + str(data_gen_alpha.computation_time) + ' s') \n",
    "print()"
   ]
  },
  {
   "cell_type": "code",
   "execution_count": null,
   "metadata": {},
   "outputs": [],
   "source": [
    "plt.figure(num=5, figsize=(15, 12))\n",
    "\n",
    "# subplot for displacement\n",
    "plt.subplot(3, 1, 1)\n",
    "plt.plot(time_series, data_euler1.disp, \"-k\", label=data_euler1.label, lw=0.5)\n",
    "plt.plot(time_series, data_euler12.disp, \"-.r\", label=data_euler12.label, lw=0.5)\n",
    "plt.plot(time_series, data_gen_alpha.disp, \"--g\", label=data_gen_alpha.label, lw=0.5)\n",
    "# plt.xlim([0, x_axis_end])\n",
    "plt.ylabel('Displacement [m]')\n",
    "plt.axhline(y=u0, linewidth=2, color = 'r')\n",
    "plt.axhline(y=-u0, linewidth=2, color = 'r')\n",
    "plt.legend(loc=\"best\")\n",
    "plt.grid(True)\n",
    "\n",
    "# subplot for velocity\n",
    "plt.subplot(3, 1, 2)\n",
    "plt.plot(time_series, data_euler1.vel, \"-k\", label=data_euler1.label, lw=0.5)\n",
    "plt.plot(time_series, data_euler12.vel, \"-.r\", label=data_euler12.label, lw=0.5)\n",
    "plt.plot(time_series, data_gen_alpha.vel, \"--g\", label=data_gen_alpha.label, lw=0.5)\n",
    "# plt.xlim([0, x_axis_end])\n",
    "plt.ylabel('Velocity [m/s]')\n",
    "plt.grid(True)\n",
    "\n",
    "# subplot for acceleration\n",
    "plt.subplot(3, 1, 3)\n",
    "plt.plot(time_series, data_euler1.acc, \"-k\", label=data_euler1.label, lw=0.5)\n",
    "plt.plot(time_series, data_euler12.acc, \"-.r\", label=data_euler12.label, lw=0.5)\n",
    "plt.plot(time_series, data_gen_alpha.acc, \"--g\", label=data_gen_alpha.label, lw=0.5)\n",
    "# plt.xlim([0, x_axis_end])\n",
    "plt.ylabel('Acceleration [m/s^2]')\n",
    "plt.ylabel('Time [s]')\n",
    "plt.grid(True)\n",
    "\n",
    "plt.show()"
   ]
  },
  {
   "cell_type": "markdown",
   "metadata": {},
   "source": [
    "### Exercise 1: Euler 1st order"
   ]
  },
  {
   "cell_type": "markdown",
   "metadata": {},
   "source": [
    "Reduce the time step by changing the number of steps n_steps. What do you observe about the numerical stability of Euler 1st order time integration scheme? "
   ]
  },
  {
   "cell_type": "markdown",
   "metadata": {},
   "source": [
    "Modify the time step delta_time by changing the number of timesteps 'n_steps'. Comment on the results. "
   ]
  },
  {
   "cell_type": "markdown",
   "metadata": {},
   "source": [
    "### Exercise 2: Modify p_inf"
   ]
  },
  {
   "cell_type": "markdown",
   "metadata": {},
   "source": [
    "Modify the numerical parameter p_inf (for the Generalized Alpha scheme), observe and comment on the result."
   ]
  },
  {
   "cell_type": "markdown",
   "metadata": {},
   "source": [
    "### Exercise 3: Apply harmonic loads"
   ]
  },
  {
   "cell_type": "markdown",
   "metadata": {},
   "source": [
    "Apply harmonic loads and compare with the analytical results. "
   ]
  },
  {
   "cell_type": "markdown",
   "metadata": {},
   "source": [
    "## Check Point: Discussion\n"
   ]
  },
  {
   "cell_type": "markdown",
   "metadata": {},
   "source": [
    "#### Discuss among groups the observations and outcomes regarding the exercises."
   ]
  }
 ],
 "metadata": {
  "kernelspec": {
   "display_name": "Python 3",
   "language": "python",
   "name": "python3"
  },
  "language_info": {
   "codemirror_mode": {
    "name": "ipython",
    "version": 3
   },
   "file_extension": ".py",
   "mimetype": "text/x-python",
   "name": "python",
   "nbconvert_exporter": "python",
   "pygments_lexer": "ipython3",
   "version": "3.6.7"
  }
 },
 "nbformat": 4,
 "nbformat_minor": 2
}
