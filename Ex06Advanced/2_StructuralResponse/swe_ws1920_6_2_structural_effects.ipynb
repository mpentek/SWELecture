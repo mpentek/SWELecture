{
 "cells": [
  {
   "cell_type": "markdown",
   "metadata": {},
   "source": [
    "# Tutorial 6.2. Structural Effects of Wind Loading According to EN 1991-1-4"
   ]
  },
  {
   "cell_type": "markdown",
   "metadata": {},
   "source": [
    "### Description: The wind effects on buildings (or generically any structure) according to EN 1991-1-4 is presented in this exercise. Along- and acrosswind responses according to EN 1991-1-4 and German national annex are addressed. Some exercises are proposed. \n",
    "\n",
    "#### Students are advised to complete the exercises. "
   ]
  },
  {
   "cell_type": "markdown",
   "metadata": {},
   "source": [
    "Project: Structural Wind Engineering WS19-20 \n",
    "        Chair of Structural Analysis @ TUM - R. Wüchner, M. Péntek\n",
    "        \n",
    "Author: anoop.kodakkal@tum.de, mate.pentek@tum.de\n",
    "\n",
    "Created on:  30.11.2015\n",
    "\n",
    "Last update: 08.01.2020"
   ]
  },
  {
   "cell_type": "markdown",
   "metadata": {},
   "source": [
    "##### Contents:\n",
    "\n",
    " 1. Alongwind response of the structure\n",
    " 2. Vortex shedding\n",
    " 3. Instability - Galloping "
   ]
  },
  {
   "cell_type": "markdown",
   "metadata": {},
   "source": [
    "### Codes and standards:\n",
    "#### 1. EN 1991-1-4:2005 - Eurocode 1: Actions on structures - Part 1-4: General actions - Wind actions\n",
    "#### 2.  DIN EN 1991-1-4/NA:2010-12: Nationaler Anhang  EN 1991-1-4\n",
    "\n",
    "Both can be downloaded from the links available on Moodle. It is advised to have them with you throughout this exercise. "
   ]
  },
  {
   "cell_type": "code",
   "execution_count": 1,
   "metadata": {
    "scrolled": true
   },
   "outputs": [],
   "source": [
    "# import\n",
    "import matplotlib.pyplot as plt\n",
    "import numpy as np\n",
    "from ipywidgets import interactive"
   ]
  },
  {
   "cell_type": "markdown",
   "metadata": {},
   "source": [
    "## 1. Alongwind response - computation of $c_s c_d$\n"
   ]
  },
  {
   "cell_type": "markdown",
   "metadata": {},
   "source": [
    "#### Gust wind speed computed from the previous example for the location of the Jeddah Airport considering a return period of 50 years is 40.12 m/s . The mean wind speed is computed as $$ u_{mean} = u_{gust}/1.4$$  \n",
    "The building is located at an urban area with height of adjacent building upto 15m: __Terrain category IV__\n",
    "\n",
    "Let us take the same building as in previous example  \n",
    "\n",
    "* height: 600 m (note that for this height codes are standards are generally not or only with strong resitrictions applicable, here used as input value for a prototypical building)\n",
    "* uniform square cross section of given geometry and building width = 60.0 m\n",
    "* assume a structural damping of 1.5%"
   ]
  },
  {
   "cell_type": "code",
   "execution_count": 2,
   "metadata": {},
   "outputs": [
    {
     "name": "stdout",
     "output_type": "stream",
     "text": [
      "Reference height [m]  360.0\n",
      "Estimated frequency [Hz]  0.077\n"
     ]
    }
   ],
   "source": [
    "mean_windspeed = 40.12 / 1.4\n",
    "height = 600\n",
    "\n",
    "height_ref = 0.6 * height # for vertical/cantilever-type structures (Fig. 6.1)\n",
    "print('Reference height [m] ', np.around(height_ref,3))\n",
    "\n",
    "width = 60\n",
    "damping_ratio = 0.015\n",
    "frequency_1 = 46 / height # refer to F.2\n",
    "print('Estimated frequency [Hz] ', np.around(frequency_1,3))"
   ]
  },
  {
   "cell_type": "markdown",
   "metadata": {},
   "source": [
    "According to DIN EN 1991-1-4/NA the wind profile for terrain category IV is (ref: Tabelle NA.B.2)\n",
    "\n",
    "$$ u_{mean}(z) = 0,56 . v_b . (z/10)^{0.3}$$ \n",
    "\n",
    "$$ u_{gust}(z) = 1,05 . v_b . (z/10)^{0.2}$$ \n",
    "\n",
    "Turbulence intensity $$ I_{v}(z) = 0,43 . (z/10)^{-0.3}$$ "
   ]
  },
  {
   "cell_type": "code",
   "execution_count": 3,
   "metadata": {},
   "outputs": [],
   "source": [
    "terrain_category = \"IV\"\n",
    "\n",
    "a_mean  = {'I':1.18,'II':1.0,'III':0.77,'IV':0.56 }\n",
    "alpha_mean = {'I':0.12,'II':0.16,'III':0.22,'IV':0.3 }\n",
    "a_gust = {'I':1.61,'II':1.45,'III':1.27,'IV':1.05 }\n",
    "alpha_gust = {'I':0.095,'II':0.12,'III':0.155,'IV':0.2 }\n",
    "a_turb = {'I':0.14,'II':0.19,'III':0.28,'IV':0.43 }\n",
    "alpha_turb = {'I':-0.12,'II':-0.16,'III':-0.22,'IV':-0.3 }"
   ]
  },
  {
   "cell_type": "code",
   "execution_count": 4,
   "metadata": {},
   "outputs": [
    {
     "name": "stdout",
     "output_type": "stream",
     "text": [
      "Mean (reference) velocity [m/s]  47.023\n",
      "Turbulence intensity [-]  0.147\n"
     ]
    }
   ],
   "source": [
    "umean = a_mean[terrain_category] * mean_windspeed * (height_ref/10)**alpha_mean[terrain_category]\n",
    "print('Mean (reference) velocity [m/s] ', np.around(umean,3))\n",
    "\n",
    "ugust = a_gust[terrain_category] * mean_windspeed * (height_ref/10)**alpha_gust[terrain_category]\n",
    "Iv = a_turb[terrain_category]  * (height_ref/10)**alpha_turb[terrain_category]\n",
    "print('Turbulence intensity [-] ', np.around(Iv,3))"
   ]
  },
  {
   "cell_type": "markdown",
   "metadata": {},
   "source": [
    "###### Computation of length scale L(z) (ref:  NA.C.1.2 & ref: Tabelle NA.C.1) . "
   ]
  },
  {
   "cell_type": "markdown",
   "metadata": {},
   "source": [
    "Length scale for terrain category IV  $$ L(z) = 300 .(z/300)^{0,46}$$ "
   ]
  },
  {
   "cell_type": "code",
   "execution_count": 5,
   "metadata": {},
   "outputs": [
    {
     "name": "stdout",
     "output_type": "stream",
     "text": [
      "Length scale [m]  326.246\n"
     ]
    }
   ],
   "source": [
    "alpha_lengthscale = {'I':0.13,'II':0.26,'III':0.37,'IV':0.46}\n",
    "len_scale = 300 * (height_ref/300) ** alpha_lengthscale[terrain_category]\n",
    "print('Length scale [m] ',np.around(len_scale,3))"
   ]
  },
  {
   "cell_type": "markdown",
   "metadata": {},
   "source": [
    "###### Computation of the dimensionless power spectral density function SL(z,n) (ref:  NA.C.1.2). "
   ]
  },
  {
   "cell_type": "markdown",
   "metadata": {},
   "source": [
    "Dimensionless power spectral density function S_L(z,n) $$ S_L(z, n) = \\dfrac{6,8 . f_L (z,n)}{(1+10,2 . f_L(z,n))^{5/3}}$$\n",
    "\n",
    "where $f_L(z,n) = \\dfrac{n . L(z)}{u_{mean}(z)}$ is the non-dimensional frequency"
   ]
  },
  {
   "cell_type": "code",
   "execution_count": 6,
   "metadata": {
    "scrolled": true
   },
   "outputs": [
    {
     "name": "stdout",
     "output_type": "stream",
     "text": [
      "0.163\n"
     ]
    }
   ],
   "source": [
    "f_l = frequency_1 * len_scale / umean\n",
    "S_l = 6.8 * f_l / (1+10.2 * f_l)** (5/3)\n",
    "print(np.around(S_l,3))"
   ]
  },
  {
   "cell_type": "markdown",
   "metadata": {},
   "source": [
    "#### Determination of the background factor B² (ref: B.2) . "
   ]
  },
  {
   "cell_type": "markdown",
   "metadata": {},
   "source": [
    "the background factor can be calculated as  $$ B^2 = \\dfrac{1}{1+0,9 . \\bigg( \\frac {b+h}{L(z)}\\bigg)^{0,63}}$$\n"
   ]
  },
  {
   "cell_type": "code",
   "execution_count": 7,
   "metadata": {},
   "outputs": [
    {
     "name": "stdout",
     "output_type": "stream",
     "text": [
      "Background factor B² [-]  0.416\n"
     ]
    }
   ],
   "source": [
    "bg_factor = 1/(1+0.9*((width + height)/len_scale)**0.63)\n",
    "print('Background factor B² [-] ', np.around(bg_factor,3))"
   ]
  },
  {
   "cell_type": "markdown",
   "metadata": {},
   "source": [
    "###### Determination of the Resonance factor R² (ref: B.2)"
   ]
  },
  {
   "cell_type": "markdown",
   "metadata": {},
   "source": [
    "the resonance factor can be calculated as  $$ R^2 = \\dfrac{\\pi^2}{2.\\delta} . S_L(z,n). R_h(\\eta_h). R_b(\\eta_b) $$\n",
    "\n",
    "refer to equations B5, B.7 and B.8 \n"
   ]
  },
  {
   "cell_type": "code",
   "execution_count": 8,
   "metadata": {},
   "outputs": [
    {
     "name": "stdout",
     "output_type": "stream",
     "text": [
      "Resonance factor R² [-]  1.275\n"
     ]
    }
   ],
   "source": [
    "eta_h = 4.6 * height / len_scale * f_l\n",
    "eta_b = 4.6 * width / len_scale * f_l \n",
    "R_h = 1/eta_h - 1/2/eta_h**2 * ( 1 - np.e ** (-2 * eta_h))\n",
    "R_b = 1/eta_b - 1/2/eta_b**2 * ( 1 - np.e ** (-2 * eta_b))\n",
    "log_decrement = damping_ratio * 2 * np.pi\n",
    "res_factor = np.pi**2 /2/log_decrement * S_l * R_h * R_b\n",
    "up_cross_freq = max(frequency_1 * np.sqrt( res_factor / (res_factor + bg_factor)),0.08)\n",
    "print('Resonance factor R² [-] ', np.around(res_factor,3))"
   ]
  },
  {
   "cell_type": "markdown",
   "metadata": {},
   "source": [
    "###### Determination of the peak factor kp  (ref: B.2)"
   ]
  },
  {
   "cell_type": "markdown",
   "metadata": {},
   "source": [
    "refer to equation B.4"
   ]
  },
  {
   "cell_type": "code",
   "execution_count": 9,
   "metadata": {},
   "outputs": [
    {
     "name": "stdout",
     "output_type": "stream",
     "text": [
      "Peak factor [-]  3\n"
     ]
    }
   ],
   "source": [
    "peak_factor = max(3, np.sqrt(2 * np.log(up_cross_freq * 600 )) + 0.6 / (np.sqrt(2*np.log(up_cross_freq * 600))))\n",
    "print('Peak factor [-] ', np.around(peak_factor,3))"
   ]
  },
  {
   "cell_type": "markdown",
   "metadata": {},
   "source": [
    "###### Determination of structural factor $C_sC_d$"
   ]
  },
  {
   "cell_type": "markdown",
   "metadata": {},
   "source": [
    "refer to equation NA.C.1 \n",
    " $$ c_s c_d = \\dfrac{1+2 . k_p . I_v(z) . \\sqrt{B^2 + R^2 } } {1+6. I_v(z)} $$"
   ]
  },
  {
   "cell_type": "code",
   "execution_count": 10,
   "metadata": {},
   "outputs": [
    {
     "name": "stdout",
     "output_type": "stream",
     "text": [
      "Structural factor c_s c_d [-]  1.141\n"
     ]
    }
   ],
   "source": [
    "structural_factor = (1 + 2*peak_factor*Iv*np.sqrt(bg_factor+res_factor))/(1+6 * Iv)\n",
    "print('Structural factor c_s c_d [-] ', np.around(structural_factor, 3))"
   ]
  },
  {
   "cell_type": "markdown",
   "metadata": {},
   "source": [
    "### Exercise: Where is the $c_sc_d$ is used ? "
   ]
  },
  {
   "cell_type": "markdown",
   "metadata": {},
   "source": [
    "Refer to equation 5.4 in DIN EN 1991-1-4\n",
    "\n",
    "For the exercise 3_1_wind_load, recompute the bending moment and shear force considering this factor.\n",
    "Knowing the structural properties compute the static displacements for this case. "
   ]
  },
  {
   "cell_type": "markdown",
   "metadata": {},
   "source": [
    "## 2. Vortex shedding "
   ]
  },
  {
   "cell_type": "markdown",
   "metadata": {},
   "source": [
    "Refer to Annex E "
   ]
  },
  {
   "cell_type": "markdown",
   "metadata": {},
   "source": [
    "The effect of vortex shedding needs to be investigated when $V_{crit} < 1,25 . V_m$"
   ]
  },
  {
   "cell_type": "markdown",
   "metadata": {},
   "source": [
    "\n",
    "The critical wind velocity is $V_{crit} = \\dfrac{b . n_{i,y}}{St}$"
   ]
  },
  {
   "cell_type": "markdown",
   "metadata": {},
   "source": [
    "Refer to E1.3.1 for details "
   ]
  },
  {
   "cell_type": "code",
   "execution_count": 11,
   "metadata": {},
   "outputs": [
    {
     "name": "stdout",
     "output_type": "stream",
     "text": [
      "Strouhal St number [-]  0.12\n",
      "Critical wind velocity for vortex shedding [m/s]  38.333\n"
     ]
    }
   ],
   "source": [
    "strouhal_number = 0.12 # for rectangular cross section, refer to E1.3.2 for details \n",
    "print('Strouhal St number [-] ', np.around(strouhal_number,3))\n",
    "crosswind_freq = frequency_1 # this refers to the frequency corresponding to the 1st bending mode in crosswind direction\n",
    "velocity_crit = width * crosswind_freq / strouhal_number\n",
    "print('Critical wind velocity for vortex shedding [m/s] ', np.around(velocity_crit,3))"
   ]
  },
  {
   "cell_type": "code",
   "execution_count": 12,
   "metadata": {},
   "outputs": [
    {
     "name": "stdout",
     "output_type": "stream",
     "text": [
      "Vortex shedding frequency [Hz]  0.094\n"
     ]
    }
   ],
   "source": [
    "vortex_freq = strouhal_number * umean / width\n",
    "print('Vortex shedding frequency [Hz] ', np.around(vortex_freq,3))"
   ]
  },
  {
   "cell_type": "code",
   "execution_count": 13,
   "metadata": {},
   "outputs": [
    {
     "name": "stdout",
     "output_type": "stream",
     "text": [
      "Not OK, critical vortex shedding velocity below mean reference velocity\n",
      "Vortex shedding needs to be investigated as it will certainly manifest in a critical range\n"
     ]
    }
   ],
   "source": [
    "if (umean >= velocity_crit):\n",
    "    print('Not OK, critical vortex shedding velocity below mean reference velocity')\n",
    "    print('Vortex shedding needs to be investigated as it will certainly manifest in a critical range')\n",
    "elif (1.25 * umean >= velocity_crit): \n",
    "    print('Not OK, critical vortex shedding velocity too close to mean reference velocity')\n",
    "    print('The effect of vortex shedding needs to be investigated')\n",
    "else: \n",
    "    print('OK, the effect of vortex shedding does not have to be investigated')"
   ]
  },
  {
   "cell_type": "markdown",
   "metadata": {},
   "source": [
    "##### Calculation of acrosswind amplitude of displacements - Scruton number Sc"
   ]
  },
  {
   "cell_type": "markdown",
   "metadata": {},
   "source": [
    "The susceptibility of vibrations depends on the structural damping and the ratio of structural mass\n",
    "to fluid mass. This is expressed by the Scruton number Sc, which is given in Expression E.4 \n",
    "\n",
    " $Sc = \\dfrac{2.\\delta_{s}.m_{i,e}}{\\rho . b^2}$\n",
    "\n"
   ]
  },
  {
   "cell_type": "code",
   "execution_count": 14,
   "metadata": {},
   "outputs": [],
   "source": [
    "# Assumed structural properties \n",
    "equiv_density = 150 # kg/m**3\n",
    "area = width**2 # m**2\n",
    "rho_air= 1.2"
   ]
  },
  {
   "cell_type": "markdown",
   "metadata": {},
   "source": [
    "As an initial value one could use the total mass (the way it is used in the next block), for a more correct evaluation one should use the modal mass. For a cantilever-type structure refer to pre-calculated values for effective modal mass, such as equation D-70 in [Vibration Data (by Tom Irvine)](http://www.vibrationdata.com/tutorials2/beam.pdf)."
   ]
  },
  {
   "cell_type": "code",
   "execution_count": 15,
   "metadata": {},
   "outputs": [
    {
     "name": "stdout",
     "output_type": "stream",
     "text": [
      "Scrouton Sc number [-]  14.46\n"
     ]
    }
   ],
   "source": [
    "m_total = equiv_density * area * height\n",
    "m_e_1 = m_total * 0.6137 # 0.6137 being the factor \n",
    "# of the effective modal mass for the 1st mode\n",
    "\n",
    "# per unit length\n",
    "m_e_1_u =  m_e_1 / height\n",
    "\n",
    "scruton_number = 2 * log_decrement * m_e_1_u / rho_air / width **2\n",
    "print('Scrouton Sc number [-] ', np.around(scruton_number,3))"
   ]
  },
  {
   "cell_type": "markdown",
   "metadata": {},
   "source": [
    "##### Computation of lateral force coefficient $C_{lat,0}$"
   ]
  },
  {
   "cell_type": "markdown",
   "metadata": {},
   "source": [
    "From Table E.2 "
   ]
  },
  {
   "cell_type": "code",
   "execution_count": 16,
   "metadata": {},
   "outputs": [],
   "source": [
    "c_lat_0 = 1.1"
   ]
  },
  {
   "cell_type": "markdown",
   "metadata": {},
   "source": [
    "From Table E.3"
   ]
  },
  {
   "cell_type": "code",
   "execution_count": 17,
   "metadata": {},
   "outputs": [],
   "source": [
    "c_lat = c_lat_0"
   ]
  },
  {
   "cell_type": "markdown",
   "metadata": {},
   "source": [
    "correlation length factor $K_W$ and shape factor $K$ From Table E.5"
   ]
  },
  {
   "cell_type": "code",
   "execution_count": 18,
   "metadata": {
    "scrolled": false
   },
   "outputs": [
    {
     "name": "stdout",
     "output_type": "stream",
     "text": [
      "Correlation length factor K_w [-]  0.936\n"
     ]
    }
   ],
   "source": [
    "K = 0.13\n",
    "#From table E.4\n",
    "#L_j/b = 6\n",
    "K_w = (3*6/(height/width))*(1-(6/(height/width))+1/3*(6/(height/width))**2)\n",
    "print('Correlation length factor K_w [-] ', np.around(K_w,3))"
   ]
  },
  {
   "cell_type": "markdown",
   "metadata": {},
   "source": [
    "##### Calculation of acrosswind amplitude of displacements"
   ]
  },
  {
   "cell_type": "markdown",
   "metadata": {},
   "source": [
    "ref E.1.5.2.1 : the largest displacement $y_{F,max}$ can be calculated by the expression (E.7) as \n",
    "\n",
    "$\\dfrac{y_{F,max}}{b} = \\dfrac{1}{St^2}.\\dfrac{1}{Sc}.K.K_w.c_{lat}$\n",
    "\n",
    "where, $Sc$ is the Scruton number as in E.1.3.3. \n",
    "\n",
    "Refer to section E.1.5.2 for more details. \n",
    "\n",
    "Note that for this example the result of displacements and acclerations can be unreaslistic due to the limitations of the procedure for the structure at hand."
   ]
  },
  {
   "cell_type": "code",
   "execution_count": 19,
   "metadata": {},
   "outputs": [
    {
     "name": "stdout",
     "output_type": "stream",
     "text": [
      "Maximum y-displacement in across wind direction [m]  38.569\n"
     ]
    }
   ],
   "source": [
    "y_f_max = width/scruton_number /strouhal_number**2 * K * K_w * c_lat\n",
    "print('Maximum y-displacement in across wind direction [m] ', np.around(y_f_max,3))"
   ]
  },
  {
   "cell_type": "markdown",
   "metadata": {},
   "source": [
    "Assuming a SDoF-similarity (puerly harmonic oscillatory displacement lead to purely harmonic velocities and accelerations due to derivation with respect to time), maximum acceleration can be obtained as $-\\omega^2 * y_{F,max}$"
   ]
  },
  {
   "cell_type": "code",
   "execution_count": 20,
   "metadata": {},
   "outputs": [
    {
     "name": "stdout",
     "output_type": "stream",
     "text": [
      "Maximum y-acceleration in acrosswind direction [m/s²]  0.559\n"
     ]
    }
   ],
   "source": [
    "acc_f_max = frequency_1**2/4*np.pi**2  * y_f_max\n",
    "print('Maximum y-acceleration in acrosswind direction [m/s²] ', np.around(acc_f_max,3))"
   ]
  },
  {
   "cell_type": "markdown",
   "metadata": {},
   "source": [
    "## 3. Galloping"
   ]
  },
  {
   "cell_type": "markdown",
   "metadata": {},
   "source": [
    "Refer to Annex E.2"
   ]
  },
  {
   "cell_type": "markdown",
   "metadata": {},
   "source": [
    "The onset wind velocity of galloping is given by $$ V_{cg} = \\dfrac{2.Sc}{a_G} . n_{1y}.b$$"
   ]
  },
  {
   "cell_type": "code",
   "execution_count": 21,
   "metadata": {},
   "outputs": [
    {
     "name": "stdout",
     "output_type": "stream",
     "text": [
      "Onset velocity of galloping [m/s]  110.86\n",
      "OK, the effect of galloping does not have to be investigated\n"
     ]
    }
   ],
   "source": [
    "#from table E.7\n",
    "a_g = 1.2\n",
    "v_cg = 2 * scruton_number * frequency_1 * width / a_g \n",
    "print('Onset velocity of galloping [m/s] ',np.around(v_cg,3))\n",
    "   \n",
    "if (umean >= v_cg):\n",
    "    print('Not OK, galloping velocity below mean reference velocity')\n",
    "    print('Galloping needs to be investigated as it will certainly manifest in a critical range')\n",
    "elif (1.25 * umean >= v_cg): \n",
    "    print('Not OK, galloping velocity too close to mean reference velocity')\n",
    "    print('The effect of galloping needs to be investigated')\n",
    "elif (0.7 < v_cg/velocity_crit) and (v_cg/velocity_crit < 1.5):\n",
    "    print('Not OK, critical vortex shedding velocity too close to the onset of galloping')\n",
    "# an additional check for warning\n",
    "elif (v_cg < velocity_crit):\n",
    "    print('Onset of galloping seems to be under critical vortex shedding velocity, check calculations as this is unexpected')\n",
    "else: \n",
    "    print('OK, the effect of galloping does not have to be investigated')"
   ]
  },
  {
   "cell_type": "markdown",
   "metadata": {},
   "source": [
    "#### Discuss among groups the likelihood of different wind effects on the structure. "
   ]
  }
 ],
 "metadata": {
  "kernelspec": {
   "display_name": "Python 3",
   "language": "python",
   "name": "python3"
  },
  "language_info": {
   "codemirror_mode": {
    "name": "ipython",
    "version": 3
   },
   "file_extension": ".py",
   "mimetype": "text/x-python",
   "name": "python",
   "nbconvert_exporter": "python",
   "pygments_lexer": "ipython3",
   "version": "3.7.3"
  }
 },
 "nbformat": 4,
 "nbformat_minor": 2
}
