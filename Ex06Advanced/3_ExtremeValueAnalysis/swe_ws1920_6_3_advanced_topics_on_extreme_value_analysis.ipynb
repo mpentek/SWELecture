{
 "cells": [
  {
   "cell_type": "markdown",
   "metadata": {},
   "source": [
    "# Tutorial 6.2. Advanced Topics on Extreme Value Analysis"
   ]
  },
  {
   "cell_type": "markdown",
   "metadata": {},
   "source": [
    "### Description: Some advanced topics on Extreme Value Analysis are presented here. Some exercises are proposed. \n",
    "\n",
    "#### Students are advised to complete the exercises. "
   ]
  },
  {
   "cell_type": "markdown",
   "metadata": {},
   "source": [
    "Project: Structural Wind Engineering WS19-20 \n",
    "        Chair of Structural Analysis @ TUM - R. Wüchner, M. Péntek\n",
    "        \n",
    "Author: anoop.kodakkal@tum.de, mate.pentek@tum.de\n",
    "\n",
    "Created on:  24.12.2019\n",
    "\n",
    "Last update: 24.12.2019"
   ]
  },
  {
   "cell_type": "markdown",
   "metadata": {},
   "source": [
    "##### Contents:\n",
    "\n",
    " 1. Prediction of the extreme value of a time series - MaxMin Estimation \n",
    " 2. Lieblein's BLUE method\n",
    " 3. Cook & Mayne method"
   ]
  },
  {
   "cell_type": "code",
   "execution_count": 1,
   "metadata": {
    "scrolled": true
   },
   "outputs": [],
   "source": [
    "# import\n",
    "import matplotlib.pyplot as plt\n",
    "import numpy as np\n",
    "from ipywidgets import interactive\n",
    "#external files \n",
    "from peakpressure import maxminest\n",
    "import blue4pressure"
   ]
  },
  {
   "cell_type": "markdown",
   "metadata": {},
   "source": [
    "## 1. Prediction of the extreme value of a time series - MaxMin Estimation\n"
   ]
  },
  {
   "cell_type": "markdown",
   "metadata": {},
   "source": [
    "#### this method is based on the procedure by  Sadek, F. and Simiu, E. (2002). \"Peak non-gaussian wind effects for database-assisted low-rise building design.\" Journal of Engineering Mechanics, 128(5), 530-539.\n",
    "\n",
    "INPUT ARGUMENTS:\n",
    "\n",
    "Each row of \"record\" is a time series.\n",
    "The optional input argument \"dur_ratio\" allows peaks to be estimated for\n",
    "a duration that differs from the duration of the record itself:\n",
    "   dur_ratio = [duration for peak estimation]/[duration of record]\n",
    "   (If unspecified, a value of 1 is used.)\n",
    "\n",
    "OUTPUT ARGUMENTS:\n",
    "\n",
    "\"max_est\" gives the expected maximum values of each row of \"record\"\n",
    "\n",
    "\"min_est\" gives the expected minimum values of each row of \"record\"\n",
    "\n",
    "\"max_std\" gives the standard deviations of the maximum value for each row of \"record\"\n",
    "\n",
    "\"min_std\" gives the standard deviations of the minimum value for each row of \"record\"\n",
    "\n"
   ]
  },
  {
   "cell_type": "code",
   "execution_count": 2,
   "metadata": {},
   "outputs": [
    {
     "name": "stdout",
     "output_type": "stream",
     "text": [
      "(array([[2.36535988]]), array([[-0.71199031]]), array([[0.06569003]]), array([[0.00299395]]))\n"
     ]
    },
    {
     "data": {
      "image/png": "[encoded data removed]",
      "text/plain": [
       "<Figure size 432x288 with 1 Axes>"
      ]
     },
     "metadata": {
      "needs_background": "light"
     },
     "output_type": "display_data"
    }
   ],
   "source": [
    "given_series = np.loadtxt('test_data_gevrnd.dat', skiprows=0, usecols = (0,))\n",
    "\n",
    "# print results\n",
    "result = maxminest(given_series)\n",
    "print(result)\n",
    "maxv = result[0][0][0]\n",
    "minv = result[1][0][0]\n",
    "\n",
    "###########\n",
    "\n",
    "plt.figure()\n",
    "x_series = np.arange(0.0, len(given_series), 1.0)\n",
    "plt.plot(x_series, given_series)\n",
    "plt.ylabel('Amplitude')\n",
    "plt.xlabel('Time [s]')\n",
    "plt.hlines([maxv, minv], x_series[0], x_series[-1])\n",
    "plt.grid(True)\n",
    "plt.show()"
   ]
  },
  {
   "cell_type": "markdown",
   "metadata": {},
   "source": [
    "## 2. Lieblein's BLUE method"
   ]
  },
  {
   "cell_type": "markdown",
   "metadata": {},
   "source": [
    "From a time series of pressure coefficients, blue4pressure estimates\n",
    "extremes of positive and negative pressures based on Lieblein's BLUE \n",
    "(Best Linear Unbiased Estimate) method applied to n epochs. Extremes \n",
    "are estimated for 1 and dur epochs for probabilities of non-exceedance \n",
    "P1 and P2 of the Gumbel distribution fitted to the epochal peaks.\n",
    "n = integer, dur need not be an integer.\n",
    "Written by Dat Duthinh 8_25_2015, 2_2_2016, 2_6_2017\n",
    "Reference: 1) Julius Lieblein \"Efficient Methods of Extreme-Value\n",
    "Methodology\" NBSIR 74-602 OCT 1974 for n = 4:16\n",
    "2) Nicholas John Cook \"The designer's guide to wind loading of\n",
    "building structures\" part 1, British Research Establishment 1985 Table C3\n",
    "pp. 321-323 for n = 17:24. Extension to n=100 by Adam Pintar Feb 12 2016.\n",
    "3) INTERNATIONAL STANDARD, ISO 4354 (2009-06-01), 2nd edition, “Wind \n",
    "actions on structures,” Annex D (informative) “Aerodynamic pressure and \n",
    "force coefficients,” Geneva, Switzerland, p. 22\n",
    "\n",
    "INPUT \n",
    "\n",
    "    cp = vector of time history of pressure coefficients\n",
    "    n = number of epochs (integer)of cp data, 4 <= n <= 100\n",
    "    dur = number of epochs for estimation of extremes. Default dur = n\n",
    "    dur need not be an integer\n",
    "    P1, P2 = probabilities of non-exceedance of extremes in EV1 (Gumbel).  \n",
    "    P1 defaults to 0.80 (ISO)and P2 to 0.5704 (mean).\n",
    "    OUTPUT \n",
    "    suffix max for + peaks, min for - peaks of pressure coeff.\n",
    "    p1_max (p1_min)= extreme value of positive (negative) peaks with\n",
    "    probability of non-exceedance P1 for 1 epoch\n",
    "    p2_max (p2_min)= extreme value of positive (negative) peaks with\n",
    "    probability of exceedance P2 for 1 epoch\n",
    "    p1_rmax (p1_rmin)= extreme value of positive (negative) peaks with\n",
    "    probability of non-exceedance P1 for dur epochs\n",
    "    p2_rmax (p2_rmin)= extreme value of positive (negative) peaks with\n",
    "    probability of non-exceedance P2 for for dur epochs\n",
    "    cp_max (cp_min)= vector of n positive (negative) epochal peaks\n",
    "    u_max, b_max (u_min, b_min) = location and scale parameters of EV1\n",
    "    (Gumbel) for positive (negative) peaks\n",
    "\n",
    "    "
   ]
  },
  {
   "cell_type": "code",
   "execution_count": 3,
   "metadata": {},
   "outputs": [
    {
     "name": "stdout",
     "output_type": "stream",
     "text": [
      "[2.055273] [1.90774418] [2.055273] [1.90774418] [1.81543718] [0.15989694] [[1.87586206]\n",
      " [1.72402753]\n",
      " [2.18395094]\n",
      " [1.85755886]] [-0.58155003] [-0.54702214] [-0.58155003] [-0.54702214] [-0.52541846] [0.03742255] [[-0.56314757]\n",
      " [-0.54340338]\n",
      " [-0.57407024]\n",
      " [-0.4979849 ]]\n"
     ]
    },
    {
     "data": {
      "text/plain": [
       "(array([2.055273]),\n",
       " array([1.90774418]),\n",
       " array([2.055273]),\n",
       " array([1.90774418]),\n",
       " array([1.81543718]),\n",
       " array([0.15989694]),\n",
       " array([[1.87586206],\n",
       "        [1.72402753],\n",
       "        [2.18395094],\n",
       "        [1.85755886]]),\n",
       " array([-0.58155003]),\n",
       " array([-0.54702214]),\n",
       " array([-0.58155003]),\n",
       " array([-0.54702214]),\n",
       " array([-0.52541846]),\n",
       " array([0.03742255]),\n",
       " array([[-0.56314757],\n",
       "        [-0.54340338],\n",
       "        [-0.57407024],\n",
       "        [-0.4979849 ]]))"
      ]
     },
     "execution_count": 3,
     "metadata": {},
     "output_type": "execute_result"
    }
   ],
   "source": [
    "# n = number of epochs (integer)of cp data, 4 <= n <= 100\n",
    "n=4\n",
    "# P1, P2 = probabilities of non-exceedance of extremes in EV1 (Gumbel).\n",
    "P1=0\n",
    "P2=0\n",
    "# dur = number of epochs for estimation of extremes. Default dur = n\n",
    "# dur need not be an integer\n",
    "dur=1\n",
    "\n",
    "# Call function\n",
    "blue4pressure.blue4pressure(given_series, n, P1, P2, dur)"
   ]
  },
  {
   "cell_type": "markdown",
   "metadata": {},
   "source": [
    "## 2.  3. Cook & Mayne method "
   ]
  },
  {
   "cell_type": "markdown",
   "metadata": {},
   "source": [
    "#### Discuss among groups the advanced extreme value evaluation methods"
   ]
  }
 ],
 "metadata": {
  "kernelspec": {
   "display_name": "Python 3",
   "language": "python",
   "name": "python3"
  },
  "language_info": {
   "codemirror_mode": {
    "name": "ipython",
    "version": 3
   },
   "file_extension": ".py",
   "mimetype": "text/x-python",
   "name": "python",
   "nbconvert_exporter": "python",
   "pygments_lexer": "ipython3",
   "version": "3.7.5"
  }
 },
 "nbformat": 4,
 "nbformat_minor": 2
}
