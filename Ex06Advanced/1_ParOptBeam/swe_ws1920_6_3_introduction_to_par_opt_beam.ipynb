{
 "cells": [
  {
   "cell_type": "markdown",
   "metadata": {},
   "source": [
    "# Tutorial 6.3. Structural Modelling Using Parametric Optimizable Beam Model"
   ]
  },
  {
   "cell_type": "markdown",
   "metadata": {},
   "source": [
    "### Description: The structural modelling can be done by simplified MDoF system as seen in excercise 3. Here a robust and generic modelling of MDoF system is presented through a Parametric Optimizable beam. The beam model can be obtained from the github page [ParOptBeam](https://github.com/mpentek/ParOptBeam). This is a guide for settign up an example problem in the framework. The excercise demonstrates some of the capabilities and students are adviced to check the implementation and other capabilities. \n"
   ]
  },
  {
   "cell_type": "markdown",
   "metadata": {},
   "source": [
    "Project: Structural Wind Engineering WS19-20 \n",
    "        Chair of Structural Analysis @ TUM - R. Wüchner, M. Péntek\n",
    "        \n",
    "Author: anoop.kodakkal@tum.de, mate.pentek@tum.de\n",
    "\n",
    "Created on:  12.12.2019\n",
    "\n",
    "Last update: 12.12.2019"
   ]
  },
  {
   "cell_type": "markdown",
   "metadata": {},
   "source": [
    "##### Contents:\n",
    "\n",
    " 1. Input parameters\n",
    " 2. Available beam models - Timoshenko, Euler-Bernoulli etc\n",
    " 3. Available analysis type - Static, Dynamic, Eigen value analysis etc"
   ]
  },
  {
   "cell_type": "markdown",
   "metadata": {},
   "source": [
    "### Step 0 : Clone the repo\n",
    "either\n",
    "\n",
    "#### 1.  'git clone https://github.com/mpentek/ParOptBeam.git '\n",
    "\n",
    "#### 2.  download as zip file the contents of [ParOptBeam](https://github.com/mpentek/ParOptBeam/archive/master.zip)"
   ]
  },
  {
   "cell_type": "markdown",
   "metadata": {},
   "source": [
    "#### Important : Run this script from the directory ParOptBeam\n"
   ]
  },
  {
   "cell_type": "markdown",
   "metadata": {},
   "source": [
    "importing the required packages and files "
   ]
  },
  {
   "cell_type": "code",
   "execution_count": 2,
   "metadata": {
    "scrolled": true
   },
   "outputs": [],
   "source": [
    "# import\n",
    "from source.model.structure_model import StraightBeam\n",
    "from source.analysis.analysis_controller import AnalysisController\n"
   ]
  },
  {
   "cell_type": "markdown",
   "metadata": {},
   "source": [
    "The inputs are defined as a dictionaries with various options. The options are as listed below with some basic explanations. Most of the naming are self explanatory. "
   ]
  },
  {
   "cell_type": "markdown",
   "metadata": {},
   "source": [
    "__model_parameters__ : defines the details of the model\n",
    "domain_size can be 2D or 3D \n",
    "other options for boundary_conditions \n",
    "* fixed-fixed\n",
    "* pinned-pinned\n",
    "* fixed-pinned\n",
    "* pinned-fixed\n",
    "* fixed-free\n",
    "* free-fixed"
   ]
  },
  {
   "cell_type": "code",
   "execution_count": 3,
   "metadata": {
    "scrolled": true
   },
   "outputs": [],
   "source": [
    "# inputs \n",
    "parameters = {}\n",
    "\n",
    "parameters[\"model_parameters\"] = {\n",
    "        \"name\": \"GenericBuilding\",\n",
    "        \"domain_size\": \"3D\",\n",
    "        \"boundary_conditions\": \"fixed-free\"}\n"
   ]
  },
  {
   "cell_type": "markdown",
   "metadata": {},
   "source": [
    "__system_parameters__ : defines the beam formulation \n",
    "\n",
    "avaialble models are \n",
    "* Bernoulli beam\n",
    "* Timoshenko beam\n",
    "* Co-rotational beam\n",
    "\n",
    "available models \n",
    "* Linear \n",
    "* Non-linear\n"
   ]
  },
  {
   "cell_type": "code",
   "execution_count": 3,
   "metadata": {
    "scrolled": true
   },
   "outputs": [],
   "source": [
    "parameters[\"model_parameters\"][\"system_parameters\"]={\n",
    "            \"element_params\": {\n",
    "                \"type\": \"Timoshenko\",\n",
    "                \"is_nonlinear\": False\n",
    "            }}\n"
   ]
  },
  {
   "cell_type": "markdown",
   "metadata": {},
   "source": [
    "__material_parameters__ : defines the material properties of the beam \n",
    "\n",
    "you may define the material properties of the beam"
   ]
  },
  {
   "cell_type": "code",
   "execution_count": 5,
   "metadata": {
    "scrolled": true
   },
   "outputs": [
    {
     "ename": "KeyError",
     "evalue": "'system_parameters'",
     "output_type": "error",
     "traceback": [
      "\u001b[0;31m---------------------------------------------------------------------------\u001b[0m",
      "\u001b[0;31mKeyError\u001b[0m                                  Traceback (most recent call last)",
      "\u001b[0;32m<ipython-input-5-85d7ed04ed35>\u001b[0m in \u001b[0;36m<module>\u001b[0;34m\u001b[0m\n\u001b[1;32m      4\u001b[0m                 \u001b[0;34m\"youngs_modulus\"\u001b[0m\u001b[0;34m:\u001b[0m \u001b[0;36m2.861e8\u001b[0m\u001b[0;34m,\u001b[0m\u001b[0;34m\u001b[0m\u001b[0;34m\u001b[0m\u001b[0m\n\u001b[1;32m      5\u001b[0m                 \u001b[0;34m\"poisson_ratio\"\u001b[0m\u001b[0;34m:\u001b[0m \u001b[0;36m0.1\u001b[0m\u001b[0;34m,\u001b[0m\u001b[0;34m\u001b[0m\u001b[0;34m\u001b[0m\u001b[0m\n\u001b[0;32m----> 6\u001b[0;31m                 \u001b[0;34m\"damping_ratio\"\u001b[0m\u001b[0;34m:\u001b[0m \u001b[0;36m0.0\u001b[0m\u001b[0;34m\u001b[0m\u001b[0;34m\u001b[0m\u001b[0m\n\u001b[0m\u001b[1;32m      7\u001b[0m             }\n",
      "\u001b[0;31mKeyError\u001b[0m: 'system_parameters'"
     ]
    }
   ],
   "source": [
    "\n",
    "parameters[\"model_parameters\"][\"system_parameters\"][\"material\"] = {\n",
    "                \"is_nonlinear\": False,\n",
    "                \"density\": 160.0,\n",
    "                \"youngs_modulus\": 2.861e8,\n",
    "                \"poisson_ratio\": 0.1,\n",
    "                \"damping_ratio\": 0.0\n",
    "            }"
   ]
  },
  {
   "cell_type": "markdown",
   "metadata": {},
   "source": [
    "__gerometry_parameters__ : defines the geometry of the structure\n",
    "\n",
    "It is possible to define the various intervals of the structure with varying geometric parameters\n",
    "\n",
    "number of elements indicate to the toatal number of elements and not on each intervals \n",
    "__coordinate system__\n",
    "the following coordinate system may be ( not necessarily) followed for the project \n",
    "\n",
    "x - Axial \n",
    "\n",
    "y - along the wind \n",
    "\n",
    "z - across the wind"
   ]
  },
  {
   "cell_type": "code",
   "execution_count": 7,
   "metadata": {
    "scrolled": true
   },
   "outputs": [
    {
     "ename": "KeyError",
     "evalue": "'system_parameters'",
     "output_type": "error",
     "traceback": [
      "\u001b[0;31m---------------------------------------------------------------------------\u001b[0m",
      "\u001b[0;31mKeyError\u001b[0m                                  Traceback (most recent call last)",
      "\u001b[0;32m<ipython-input-7-2a863bf2b313>\u001b[0m in \u001b[0;36m<module>\u001b[0;34m\u001b[0m\n\u001b[1;32m     31\u001b[0m                     \u001b[0;34m\"moment_of_inertia_y\"\u001b[0m \u001b[0;34m:\u001b[0m \u001b[0;34m[\u001b[0m\u001b[0;36m45573.0\u001b[0m\u001b[0;34m]\u001b[0m\u001b[0;34m,\u001b[0m\u001b[0;34m\u001b[0m\u001b[0;34m\u001b[0m\u001b[0m\n\u001b[1;32m     32\u001b[0m                     \u001b[0;34m\"moment_of_inertia_z\"\u001b[0m \u001b[0;34m:\u001b[0m \u001b[0;34m[\u001b[0m\u001b[0;36m89323.0\u001b[0m\u001b[0;34m]\u001b[0m\u001b[0;34m,\u001b[0m\u001b[0;34m\u001b[0m\u001b[0;34m\u001b[0m\u001b[0m\n\u001b[0;32m---> 33\u001b[0;31m                     \"torsional_moment_of_inertia\" : [134896.0]}]\n\u001b[0m\u001b[1;32m     34\u001b[0m             }\n",
      "\u001b[0;31mKeyError\u001b[0m: 'system_parameters'"
     ]
    }
   ],
   "source": [
    "            \n",
    "parameters[\"model_parameters\"][\"system_parameters\"][\"geometry\"] = {\n",
    "                \"length_x\": 180,\n",
    "                \"number_of_elements\": 3,\n",
    "                \"defined_on_intervals\": [{\n",
    "                    \"interval_bounds\" : [0.0, 60.0],\n",
    "                    \"length_y\": [55.0],\n",
    "                    \"length_z\": [35.0],\n",
    "                    \"area\"    : [1925.0],\n",
    "                    \"shear_area_y\" : [1605.0],\n",
    "                    \"shear_area_z\" : [1605.0],\n",
    "                    \"moment_of_inertia_y\" : [196510.0],\n",
    "                    \"moment_of_inertia_z\" : [458260.0],\n",
    "                    \"torsional_moment_of_inertia\" : [691771.0]},\n",
    "                    {\n",
    "                    \"interval_bounds\" : [60.0, 120.0],\n",
    "                    \"length_y\": [45.0],\n",
    "                    \"length_z\": [30.0],\n",
    "                    \"area\"    : [1350],\n",
    "                    \"shear_area_y\" : [1125.0],\n",
    "                    \"shear_area_z\" : [1125.0],\n",
    "                    \"moment_of_inertia_y\" : [101250.0],\n",
    "                    \"moment_of_inertia_z\" : [227813.0],\n",
    "                    \"torsional_moment_of_inertia\" : [329063.0]},\n",
    "                    {\n",
    "                    \"interval_bounds\" : [120.0, \"End\"],\n",
    "                    \"length_y\": [35.0],\n",
    "                    \"length_z\": [25.0],\n",
    "                    \"area\"    : [875.0],\n",
    "                    \"shear_area_y\" : [729.0],\n",
    "                    \"shear_area_z\" : [729.0],\n",
    "                    \"moment_of_inertia_y\" : [45573.0],\n",
    "                    \"moment_of_inertia_z\" : [89323.0],\n",
    "                    \"torsional_moment_of_inertia\" : [134896.0]}]\n",
    "            }\n"
   ]
  },
  {
   "cell_type": "markdown",
   "metadata": {},
   "source": [
    "__optimization_parameters__ : defines the optimization parameters for fine tuning the structure. \n",
    "\n",
    "It is possible to do an optimization of various structural parameters to match to eigen frequency for various modes. \n",
    "The density can also be optimized to match the total weight of the building. "
   ]
  },
  {
   "cell_type": "code",
   "execution_count": 8,
   "metadata": {
    "scrolled": true
   },
   "outputs": [],
   "source": [
    "\n",
    "parameters[\"optimization_parameters\"] =  {\n",
    "        \"adapt_for_target_values\": {\n",
    "            \"density_for_total_mass\": 38880000.0,\n",
    "            \"geometric_properties_for\": {\n",
    "                \"help\": \"first entry: sway_y, second entry: sway_z, -1: shear, +1: bending\",\n",
    "                \"partition_shear_bending\": [-1, 1],\n",
    "                \"consider_decomposed_modes\": [\"sway_z\",\"sway_y\", \"torsional\"],\n",
    "                \"corresponding_mode_ids\" : [1, 1, 1],\n",
    "                \"corresponding_eigenfrequencies\": [0.23,0.20,0.40]}}\n",
    "    }\n"
   ]
  },
  {
   "cell_type": "markdown",
   "metadata": {},
   "source": [
    "__analysis_parameters__ : defines the analysis parameters options \n",
    "\n",
    "Report directory can be deined as relative/ absolute path\n",
    "\n",
    "a skin model is also available to visualize the structure\n"
   ]
  },
  {
   "cell_type": "code",
   "execution_count": 9,
   "metadata": {
    "scrolled": true
   },
   "outputs": [],
   "source": [
    "parameters[\"analyses_parameters\"] = {\n",
    "        \"global_output_folder\" : \"some/path\",\n",
    "        \"model_properties\": {\n",
    "            \"write\": True,\n",
    "            \"plot\":True\n",
    "        }}\n",
    "parameters[\"analyses_parameters\"][\"report_options\"] = {\n",
    "            \"combine_plots_into_pdf\" : True,\n",
    "            \"display_plots_on_screen\" : False,\n",
    "            \"use_skin_model\" : False\n",
    "        }"
   ]
  },
  {
   "cell_type": "markdown",
   "metadata": {},
   "source": [
    "__skin_model_parameters__ : defines the details of the skin model \n",
    "\n",
    "you may check out the other options avaialble\n"
   ]
  },
  {
   "cell_type": "code",
   "execution_count": 10,
   "metadata": {
    "scrolled": true
   },
   "outputs": [],
   "source": [
    "parameters[\"analyses_parameters\"][\"skin_model_parameters\"] = {\n",
    "            \"geometry\": [ [0, -22.5, -15.0], [0, -22.5, 15], [0, 22.5, 15],\n",
    "                          [0, 22.5, -15]\n",
    "            ],\n",
    "            \"contour_density\": 1,\n",
    "            \"record_animation\": True,\n",
    "            \"visualize_line_structure\": True,\n",
    "            \"beam_direction\": \"x\",\n",
    "            \"scaling_vector\": [1.0, 1.0 , 1.0, 1.0, 1.0, 1.0, 1.0],\n",
    "            \"eigenmode_scaling_factor\" : 1e5,\n",
    "            \"dynamic_scaling_factor\" : 1e3\n",
    "        }\n"
   ]
  },
  {
   "cell_type": "markdown",
   "metadata": {},
   "source": [
    "__Eigen Value analysis__ : defines the options for eigen value analysis \n",
    "\n",
    "\n",
    "you may check out the other options avaialble"
   ]
  },
  {
   "cell_type": "code",
   "execution_count": 11,
   "metadata": {
    "scrolled": true
   },
   "outputs": [],
   "source": [
    "\n",
    "parameters[\"analyses_parameters\"][\"runs\"] = [{\n",
    "                \"type\": \"eigenvalue_analysis\",\n",
    "                \"settings\": {\n",
    "                    \"normalization\": \"mass_normalized\"},\n",
    "                \"input\":{},\n",
    "                \"output\":{\n",
    "                    \"eigenmode_summary\": {\n",
    "                        \"write\" : True, \n",
    "                        \"plot\" : True},\n",
    "                    \"eigenmode_identification\": {\n",
    "                        \"write\" : True, \n",
    "                        \"plot\" : True},\n",
    "                    \"selected_eigenmode\": {\n",
    "                        \"plot_mode\": [1,2,3], \n",
    "                        \"write_mode\": [1,2,3],\n",
    "                        \"animate_mode\": [1],\n",
    "                        \"animate_skin_model\": []},\n",
    "                    \"selected_eigenmode_range\": {\n",
    "                        \"help\": \"maximum 4 modes per range at a time\",\n",
    "                        \"considered_ranges\": [[1,2]], \n",
    "                        \"plot_range\": [True, True], \n",
    "                        \"write_range\": [True, False]}\n",
    "                    }\n",
    "            }]\n"
   ]
  },
  {
   "cell_type": "markdown",
   "metadata": {},
   "source": [
    "__Dynamic analysis__ : defines the options for dynamic analysis \n",
    "\n",
    "\n",
    "you may check out the other options avaialble\n",
    "\n",
    "Note : the force file should match the number of nodes / elements\n",
    "\n",
    "__Tip: Take extra care on the time integratioon scheme and time step values__"
   ]
  },
  {
   "cell_type": "code",
   "execution_count": 3,
   "metadata": {
    "scrolled": true
   },
   "outputs": [],
   "source": [
    "\n",
    "parameters[\"analyses_parameters\"][\"runs\"].append(dict({\"type\" : \"dynamic_analysis\",\n",
    "                \"settings\": {\n",
    "                    \"solver_type\": \"Linear\",\n",
    "                    \"run_in_modal_coordinates\": False,\n",
    "                    \"time\":{\n",
    "                        \"integration_scheme\": \"GenAlpha\",\n",
    "                        \"start\": 0.0,\n",
    "                        \"end\": 600.0,\n",
    "                        \"step\" : 0.02},\n",
    "                    \"intial_conditions\": {\n",
    "                        \"displacement\": \"None\",\n",
    "                        \"velocity\": \"None\",\n",
    "                        \"acceleration\" : \"None\"\n",
    "                    }},\n",
    "                \"input\": {\n",
    "                    \"help\":\"provide load file in the required format\",\n",
    "                    \"file_path\": \"input/force/generic_building/dynamic_force_4_nodes.npy\"\n",
    "                },\n",
    "                \"output\":{\n",
    "                    \"selected_instance\": {\n",
    "                        \"plot_step\": [1500, 2361], \n",
    "                        \"write_step\": [3276],\n",
    "                        \"plot_time\": [30.5, 315.25], \n",
    "                        \"write_time\": [450.15]\n",
    "                    },\n",
    "                    \"animate_time_history\" : True,\n",
    "                    \"animate_skin_model_time_history\": True,\n",
    "                    \"skin_model_animation_parameters\":{\n",
    "                        \"start_record\": 160,\n",
    "                        \"end_record\": 200,\n",
    "                        \"record_step\": 10\n",
    "                    },\n",
    "                    \"selected_dof\": {\n",
    "                        \"dof_list\": [1, 2, 0, 4, 5, 3,\n",
    "                                    -5, \n",
    "                                    -4, \n",
    "                                    -2, \n",
    "                                    -1],\n",
    "                        \"help\": \"result type can be a list containing: reaction, ext_force, displacement, velocity, acceleration\",\n",
    "                        \"result_type\": [[\"reaction\"], [\"reaction\"], [\"reaction\"], [\"reaction\"], [\"reaction\"], [\"reaction\"],\n",
    "                                        [\"displacement\", \"velocity\", \"acceleration\"], \n",
    "                                        [\"displacement\", \"velocity\", \"acceleration\"], \n",
    "                                        [\"displacement\", \"velocity\", \"acceleration\"], \n",
    "                                        [\"displacement\", \"velocity\", \"acceleration\"]],\n",
    "                        \"plot_result\": [[True], [True], [True], [True], [True], [True],\n",
    "                                        [True, True, True], \n",
    "                                        [True, True, True], \n",
    "                                        [True, False, True], \n",
    "                                        [True, False, True]],\n",
    "                        \"write_result\": [[False],[False],[False],[True],[True],[True],\n",
    "                                            [True, False, True], \n",
    "                                            [True, False, True], \n",
    "                                            [True, False, True], \n",
    "                                            [True, False, True]]\n",
    "                    }\n",
    "                }\n",
    "            }))\n"
   ]
  },
  {
   "cell_type": "markdown",
   "metadata": {},
   "source": [
    "__Static analysis__ : defines the options for static analysis \n",
    "\n",
    "you may check out the other options avaialble\n",
    "\n",
    "Note : the force file should match the number of nodes / elements"
   ]
  },
  {
   "cell_type": "code",
   "execution_count": 12,
   "metadata": {
    "scrolled": true
   },
   "outputs": [],
   "source": [
    "\n",
    "parameters[\"analyses_parameters\"][\"runs\"].append(dict({\n",
    "                \"type\" : \"static_analysis\",\n",
    "                \"settings\": {}, \n",
    "                \"input\":{\n",
    "                    \"help\":\"provide load file in the required format - either some symbolic generated or time step from dynamic\",\n",
    "                    \"file_path\": \"input/force/generic_building/dynamic_force_4_nodes.npy\",\n",
    "                    \"is_time_history_file\" : True,\n",
    "                    \"selected_time_step\" : 15000\n",
    "                }, \n",
    "                \"output\":{\n",
    "                    \"plot\": [\"deformation\", \"forces\"],\n",
    "                    \"write\": [\"deformation\"]\n",
    "                }\n",
    "            }))\n"
   ]
  },
  {
   "cell_type": "markdown",
   "metadata": {},
   "source": [
    "__Creates the beam model and evaluate responses__ \n"
   ]
  },
  {
   "cell_type": "code",
   "execution_count": 13,
   "metadata": {
    "scrolled": true
   },
   "outputs": [
    {
     "ename": "KeyError",
     "evalue": "'material'",
     "output_type": "error",
     "traceback": [
      "\u001b[0;31m---------------------------------------------------------------------------\u001b[0m",
      "\u001b[0;31mKeyError\u001b[0m                                  Traceback (most recent call last)",
      "\u001b[0;32m<ipython-input-13-264996f69706>\u001b[0m in \u001b[0;36m<module>\u001b[0;34m\u001b[0m\n\u001b[1;32m      1\u001b[0m \u001b[0;31m# create initial model\u001b[0m\u001b[0;34m\u001b[0m\u001b[0;34m\u001b[0m\u001b[0;34m\u001b[0m\u001b[0m\n\u001b[0;32m----> 2\u001b[0;31m \u001b[0mbeam_model\u001b[0m \u001b[0;34m=\u001b[0m \u001b[0mStraightBeam\u001b[0m\u001b[0;34m(\u001b[0m\u001b[0mparameters\u001b[0m\u001b[0;34m[\u001b[0m\u001b[0;34m'model_parameters'\u001b[0m\u001b[0;34m]\u001b[0m\u001b[0;34m)\u001b[0m\u001b[0;34m\u001b[0m\u001b[0;34m\u001b[0m\u001b[0m\n\u001b[0m\u001b[1;32m      3\u001b[0m \u001b[0;34m\u001b[0m\u001b[0m\n\u001b[1;32m      4\u001b[0m \u001b[0;31m# additional changes due to optimization\u001b[0m\u001b[0;34m\u001b[0m\u001b[0;34m\u001b[0m\u001b[0;34m\u001b[0m\u001b[0m\n\u001b[1;32m      5\u001b[0m \u001b[0;32mif\u001b[0m \u001b[0;34m'optimization_parameters'\u001b[0m \u001b[0;32min\u001b[0m \u001b[0mparameters\u001b[0m\u001b[0;34m:\u001b[0m\u001b[0;34m\u001b[0m\u001b[0;34m\u001b[0m\u001b[0m\n",
      "\u001b[0;32m/mnt/473082113A63A83C/02_statik_work/StructuralWindEngineering/Ex06Advanced/1_ParOptBeam/source/model/structure_model.py\u001b[0m in \u001b[0;36m__init__\u001b[0;34m(self, parameters)\u001b[0m\n\u001b[1;32m     69\u001b[0m         \u001b[0;31m# TODO: validate and assign parameters\u001b[0m\u001b[0;34m\u001b[0m\u001b[0;34m\u001b[0m\u001b[0;34m\u001b[0m\u001b[0m\n\u001b[1;32m     70\u001b[0m         \u001b[0;31m# NOTE: for now using the assumption of the prismatic homogeneous isotropic beam\u001b[0m\u001b[0;34m\u001b[0m\u001b[0;34m\u001b[0m\u001b[0;34m\u001b[0m\u001b[0m\n\u001b[0;32m---> 71\u001b[0;31m         self.parameters = {'rho': parameters[\"system_parameters\"][\"material\"][\"density\"],\n\u001b[0m\u001b[1;32m     72\u001b[0m                            \u001b[0;34m'e'\u001b[0m\u001b[0;34m:\u001b[0m \u001b[0mparameters\u001b[0m\u001b[0;34m[\u001b[0m\u001b[0;34m\"system_parameters\"\u001b[0m\u001b[0;34m]\u001b[0m\u001b[0;34m[\u001b[0m\u001b[0;34m\"material\"\u001b[0m\u001b[0;34m]\u001b[0m\u001b[0;34m[\u001b[0m\u001b[0;34m\"youngs_modulus\"\u001b[0m\u001b[0;34m]\u001b[0m\u001b[0;34m,\u001b[0m\u001b[0;34m\u001b[0m\u001b[0;34m\u001b[0m\u001b[0m\n\u001b[1;32m     73\u001b[0m                            \u001b[0;34m'nu'\u001b[0m\u001b[0;34m:\u001b[0m \u001b[0mparameters\u001b[0m\u001b[0;34m[\u001b[0m\u001b[0;34m\"system_parameters\"\u001b[0m\u001b[0;34m]\u001b[0m\u001b[0;34m[\u001b[0m\u001b[0;34m\"material\"\u001b[0m\u001b[0;34m]\u001b[0m\u001b[0;34m[\u001b[0m\u001b[0;34m\"poisson_ratio\"\u001b[0m\u001b[0;34m]\u001b[0m\u001b[0;34m,\u001b[0m\u001b[0;34m\u001b[0m\u001b[0;34m\u001b[0m\u001b[0m\n",
      "\u001b[0;31mKeyError\u001b[0m: 'material'"
     ]
    }
   ],
   "source": [
    "\n",
    "# create initial model\n",
    "beam_model = StraightBeam(parameters['model_parameters'])\n",
    "\n",
    "# additional changes due to optimization\n",
    "if 'optimization_parameters' in parameters:\n",
    "    # return the model of the optimizable instance to preserve what is required by analyzis\n",
    "    from source.model.optimizable_structure_model import OptimizableStraightBeam\n",
    "    beam_model = OptimizableStraightBeam(\n",
    "        beam_model, parameters['optimization_parameters']['adapt_for_target_values']).model\n",
    "else:\n",
    "    print('No need found for adapting structure for target values')\n",
    "\n",
    "# ==============================================\n",
    "# Analysis wrapper\n",
    "\n",
    "analyses_controller = AnalysisController(\n",
    "    beam_model, parameters['analyses_parameters'])\n",
    "analyses_controller.solve()\n",
    "analyses_controller.postprocess()"
   ]
  },
  {
   "cell_type": "code",
   "execution_count": null,
   "metadata": {},
   "outputs": [],
   "source": []
  }
 ],
 "metadata": {
  "kernelspec": {
   "display_name": "Python 3",
   "language": "python",
   "name": "python3"
  },
  "language_info": {
   "codemirror_mode": {
    "name": "ipython",
    "version": 3
   },
   "file_extension": ".py",
   "mimetype": "text/x-python",
   "name": "python",
   "nbconvert_exporter": "python",
   "pygments_lexer": "ipython3",
   "version": "3.7.3"
  }
 },
 "nbformat": 4,
 "nbformat_minor": 2
}
