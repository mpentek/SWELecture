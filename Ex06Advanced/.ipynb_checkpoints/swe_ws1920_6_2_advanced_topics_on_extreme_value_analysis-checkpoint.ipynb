{
 "cells": [
  {
   "cell_type": "markdown",
   "metadata": {},
   "source": [
    "# Tutorial 6.2. Extreme value analysis - 2"
   ]
  },
  {
   "cell_type": "markdown",
   "metadata": {},
   "source": [
    "### Description: The wind effects on building structure according to EN 1991-1-4 is presented in this exercise. Along wind and across wind response of building structure according to EN 1991-1-4 and German national annexe is also presented. Some exercises are proposed. \n",
    "\n",
    "#### Students are advised to complete the exercises. "
   ]
  },
  {
   "cell_type": "markdown",
   "metadata": {},
   "source": [
    "Project: Structural Wind Engineering WS19-20 \n",
    "        Chair of Structural Analysis @ TUM - R. Wüchner, M. Péntek\n",
    "        \n",
    "Author: anoop.kodakkal@tum.de, mate.pentek@tum.de\n",
    "\n",
    "Created on:  30.11.2015\n",
    "\n",
    "Last update: 06.12.2019"
   ]
  },
  {
   "cell_type": "markdown",
   "metadata": {},
   "source": [
    "##### Contents:\n",
    "\n",
    " 1. Along wind response of structure\n",
    " 2. Vortex shedding checks \n",
    " 3. Instability - Galloping "
   ]
  },
  {
   "cell_type": "markdown",
   "metadata": {},
   "source": [
    "### Codes and standards :\n",
    "#### 1. EN 1991-1-4:2005 - Eurocode 1: Actions on structures - Part 1-4: General actions - Wind actions\n",
    "#### 2.  DIN EN 1991-1-4/NA:2010-12 : Nationaler Anhang  EN 1991-1-4\n",
    "\n",
    "Both can be downloaded from the links available in Moodle. It is advised to have them with you through out this exercise. "
   ]
  },
  {
   "cell_type": "code",
   "execution_count": 1,
   "metadata": {
    "scrolled": true
   },
   "outputs": [],
   "source": [
    "# import\n",
    "import matplotlib.pyplot as plt\n",
    "import numpy as np\n",
    "from ipywidgets import interactive"
   ]
  },
  {
   "cell_type": "markdown",
   "metadata": {},
   "source": [
    "## 1. Along wind response - computation of $c_s c_d$\n"
   ]
  },
  {
   "cell_type": "markdown",
   "metadata": {},
   "source": [
    "#### Gust wind speed computed from the previous example for the location of the Jeddah Airport considering a return period of 50 years is 40.12 m/s . The mean wind speed is computed as $$ u_{mean} = u_{gust}/1.4$$  \n",
    "The building is located at an urban area with height of adjacent building upto 15m: __Terrain category IV__\n",
    "\n",
    "Let us take the same building as in previous example  \n",
    "\n",
    "height : 600 m \n",
    "\n",
    "uniform cross section of given geometry and building width = 60.0 m\n",
    "\n",
    "Assume a structural damping of 5% \n",
    "Reference height be 200 m"
   ]
  },
  {
   "cell_type": "code",
   "execution_count": 2,
   "metadata": {},
   "outputs": [],
   "source": [
    "mean_windspeed = 40.12 / 1.4\n",
    "height_ref = 200\n",
    "height = 600\n",
    "width = 50\n",
    "damping = 0.005\n",
    "frequency_1 = 46 / height # refer to F.2"
   ]
  },
  {
   "cell_type": "markdown",
   "metadata": {},
   "source": [
    "According to DIN EN 1991-1-4/NA the wind profile for terrain category IV is   __ref: Tabelle NA.B.2__\n",
    "\n",
    "$$ u_{mean}(z) = 0,56 . v_b . (z/10)^{0.3}$$ \n",
    "\n",
    "$$ u_{gust}(z) = 1,05 . v_b . (z/10)^{0.2}$$ \n",
    "\n",
    "Turbulence intensity $$ I_{v}(z) = 0,43 . (z/10)^{-0.3}$$ "
   ]
  },
  {
   "cell_type": "code",
   "execution_count": 3,
   "metadata": {},
   "outputs": [],
   "source": [
    "terrain_category = \"II\"\n",
    "\n",
    "a_mean  = {'I':1.18,'II':1.0,'III':0.77,'IV':0.56 }\n",
    "alpha_mean = {'I':0.12,'II':0.16,'III':0.22,'IV':0.3 }\n",
    "a_gust = {'I':1.61,'II':1.45,'III':1.27,'IV':1.05 }\n",
    "alpha_gust = {'I':0.095,'II':0.12,'III':0.155,'IV':0.2 }\n",
    "a_turb = {'I':0.14,'II':0.19,'III':0.28,'IV':0.43 }\n",
    "alpha_turb = {'I':-0.12,'II':-0.16,'III':-0.22,'IV':-0.3 }"
   ]
  },
  {
   "cell_type": "code",
   "execution_count": 4,
   "metadata": {},
   "outputs": [
    {
     "name": "stdout",
     "output_type": "stream",
     "text": [
      "Turbulence Intensity 0.118\n"
     ]
    }
   ],
   "source": [
    "umean = a_mean[terrain_category] * mean_windspeed * (height_ref/10)**alpha_mean[terrain_category]\n",
    "ugust = a_gust[terrain_category] * mean_windspeed * (height_ref/10)**alpha_gust[terrain_category]\n",
    "Iv = a_turb[terrain_category]  * (height_ref/10)**alpha_turb[terrain_category]\n",
    "print('Turbulence Intensity', np.around(Iv,3))"
   ]
  },
  {
   "cell_type": "markdown",
   "metadata": {},
   "source": [
    "###### Computation of length scale L(z) __ref:  NA.C.1.2 & ref: Tabelle NA.C.1__ . "
   ]
  },
  {
   "cell_type": "markdown",
   "metadata": {},
   "source": [
    "Length scale for terrain category IV  $$ L(z) = 300 .(z/300)^{0,46}$$ "
   ]
  },
  {
   "cell_type": "code",
   "execution_count": 5,
   "metadata": {},
   "outputs": [
    {
     "name": "stdout",
     "output_type": "stream",
     "text": [
      "269.9836891311147\n"
     ]
    }
   ],
   "source": [
    "\n",
    "alpha_lengthscale = {'I':0.13,'II':0.26,'III':0.37,'IV':0.46}\n",
    "len_scale = 300 * (height_ref/300) ** alpha_lengthscale[terrain_category]\n",
    "print(len_scale)"
   ]
  },
  {
   "cell_type": "markdown",
   "metadata": {},
   "source": [
    "###### Computation of Non-dimensional power spectral density function SL(z,n) __ref:  NA.C.1.2 __ . "
   ]
  },
  {
   "cell_type": "markdown",
   "metadata": {},
   "source": [
    "Non-dimensional power spectral density function S_L(z,n) $$ S_L(z, n) = \\dfrac{6,8 . f_L (z,n)}{(1+10,2 . f_L(z,n))^{5/3}}$$\n",
    "\n",
    "where $f_L(z,n) = \\dfrac{n  L(z)}{u_{mean}(z)}$ is the non-dimensional frequency"
   ]
  },
  {
   "cell_type": "code",
   "execution_count": 6,
   "metadata": {},
   "outputs": [
    {
     "name": "stdout",
     "output_type": "stream",
     "text": [
      "0.17418693195975118\n"
     ]
    }
   ],
   "source": [
    "f_l = frequency_1 * len_scale / umean\n",
    "S_l = 6.8 * f_l / (1+10.2 * f_l)** (5/3)\n",
    "print(S_l)"
   ]
  },
  {
   "cell_type": "markdown",
   "metadata": {},
   "source": [
    "#### Determination of the Background factor B² __ref: B.2 __ . "
   ]
  },
  {
   "cell_type": "markdown",
   "metadata": {},
   "source": [
    "the background factor can be calculated as  $$ B^2 = \\dfrac{1}{1+0,9 . \\bigg( \\frac {b+h}{L(z)}\\bigg)^{0,63}}$$\n"
   ]
  },
  {
   "cell_type": "code",
   "execution_count": 7,
   "metadata": {},
   "outputs": [
    {
     "name": "stdout",
     "output_type": "stream",
     "text": [
      "0.3897973090370115\n"
     ]
    }
   ],
   "source": [
    "bg_factor = 1/(1+0.9*((width + height)/len_scale)**0.63)\n",
    "print(bg_factor)"
   ]
  },
  {
   "cell_type": "markdown",
   "metadata": {},
   "source": [
    "###### Determination of the Resonance factor R² __ref: B.2 __"
   ]
  },
  {
   "cell_type": "markdown",
   "metadata": {},
   "source": [
    "the Resonance factor can be calculated as  $$ R^2 = \\dfrac{\\pi^2}{2.\\delta} . S_L(z,n). R_h(\\eta_h). R_b(\\eta_b) $$\n",
    "\n",
    "please refer to equation B.7 B.8 and B.5 \n"
   ]
  },
  {
   "cell_type": "code",
   "execution_count": 8,
   "metadata": {},
   "outputs": [
    {
     "name": "stdout",
     "output_type": "stream",
     "text": [
      "4.199238753019387\n"
     ]
    }
   ],
   "source": [
    "eta_h = 4.6 * height / len_scale * f_l\n",
    "eta_b = 4.6 * width / len_scale * f_l \n",
    "R_h = 1/eta_h - 1/2/eta_h**2 * ( 1 - np.e ** (-2 * eta_h))\n",
    "R_b = 1/eta_b - 1/2/eta_b**2 * ( 1 - np.e ** (-2 * eta_b))\n",
    "log_decrement = damping * 2 * np.pi\n",
    "res_factor = np.pi**2 /2/log_decrement * S_l * R_h * R_b\n",
    "up_cross_freq = max(frequency_1 * np.sqrt( res_factor / (res_factor + bg_factor)),0.08)\n",
    "print(res_factor)"
   ]
  },
  {
   "cell_type": "markdown",
   "metadata": {},
   "source": [
    "###### Determination of the peak factor kp __ref: B.2 __"
   ]
  },
  {
   "cell_type": "markdown",
   "metadata": {},
   "source": [
    "please refer to equation B.4"
   ]
  },
  {
   "cell_type": "code",
   "execution_count": 9,
   "metadata": {},
   "outputs": [
    {
     "name": "stdout",
     "output_type": "stream",
     "text": [
      "3\n"
     ]
    }
   ],
   "source": [
    "peak_factor = max(3, np.sqrt(2 * np.log(up_cross_freq * 600 )) + 0.6 / (np.sqrt(2*np.log(up_cross_freq * 600))))\n",
    "print(peak_factor)"
   ]
  },
  {
   "cell_type": "markdown",
   "metadata": {},
   "source": [
    "###### Determination of structural factor $C_sC_d$"
   ]
  },
  {
   "cell_type": "markdown",
   "metadata": {},
   "source": [
    "please refer to equation NA.C.1 \n",
    " $$ c_s c_d = \\dfrac{1+2 . k_p . I_v(z) . \\sqrt{B^2 + R^2 } } {1+6. I_v(z)} $$"
   ]
  },
  {
   "cell_type": "code",
   "execution_count": 10,
   "metadata": {},
   "outputs": [
    {
     "name": "stdout",
     "output_type": "stream",
     "text": [
      "Structural factor c_s c_d is  1.473\n"
     ]
    }
   ],
   "source": [
    "structural_factor = (1 + 2*peak_factor*Iv*np.sqrt(bg_factor+res_factor))/(1+6 * Iv)\n",
    "print('Structural factor c_s c_d is ', np.around(structural_factor, 3))"
   ]
  },
  {
   "cell_type": "markdown",
   "metadata": {},
   "source": [
    "### Exercise: Where is the $c_sc_d$ is used ? "
   ]
  },
  {
   "cell_type": "markdown",
   "metadata": {},
   "source": [
    "Refer to equation 5.4 \n",
    "\n",
    "For the previous exercise 3_1 , recompute the bending moment and shear force considering this factor.\n",
    "Knowing the structural properties compute the static displacements for this case. "
   ]
  },
  {
   "cell_type": "markdown",
   "metadata": {},
   "source": [
    "## 2. Vortex shedding "
   ]
  },
  {
   "cell_type": "markdown",
   "metadata": {},
   "source": [
    "Please refer to Annex E "
   ]
  },
  {
   "cell_type": "markdown",
   "metadata": {},
   "source": [
    "The effects of Vortex shedding need to be investigated when $V_{crit} < 1,25 . V_m$"
   ]
  },
  {
   "cell_type": "markdown",
   "metadata": {},
   "source": [
    "\n",
    "The critical wind velocity is $V_{crit} = \\dfrac{b . n_{i,y}}{St}$"
   ]
  },
  {
   "cell_type": "markdown",
   "metadata": {},
   "source": [
    "Refer to E1.3.1 for details "
   ]
  },
  {
   "cell_type": "code",
   "execution_count": 11,
   "metadata": {},
   "outputs": [],
   "source": [
    "strouhal_number = 0.13 # for rectangular cross section # refer to E1.3.2 for details \n",
    "\n",
    "crosswind_freq = 0.26 # this refers to the frequency correspondign to th bending mode in crosswind direction\n",
    "velocity_crit = width * crosswind_freq / strouhal_number"
   ]
  },
  {
   "cell_type": "code",
   "execution_count": 12,
   "metadata": {},
   "outputs": [
    {
     "name": "stdout",
     "output_type": "stream",
     "text": [
      "Vortex shedding Frequency  0.12\n"
     ]
    }
   ],
   "source": [
    "vortex_freq = strouhal_number * umean / width\n",
    "print('Vortex shedding Frequency ', np.around(vortex_freq,3))"
   ]
  },
  {
   "cell_type": "code",
   "execution_count": 13,
   "metadata": {},
   "outputs": [
    {
     "name": "stdout",
     "output_type": "stream",
     "text": [
      "OK, The effect of vortex shedding need to be investigated\n"
     ]
    }
   ],
   "source": [
    "if (1.25 * umean > velocity_crit): \n",
    "    print('NOt OK, The effect of vortex shedding need to be investigated')\n",
    "else: \n",
    "        print('OK, The effect of vortex shedding need to be investigated')"
   ]
  },
  {
   "cell_type": "markdown",
   "metadata": {},
   "source": [
    "##### Calculation of cross wind amplitude of displacements"
   ]
  },
  {
   "cell_type": "markdown",
   "metadata": {},
   "source": [
    "ref E.1.5.2.1 : the largest displacement $y_{F,max}$ can be calculated by the expression (E.7) as \n",
    "\n",
    "$y_{F,max} = \\dfrac{1}{St^2}.\\dfrac{1}{S_C}.K.K_w.c_{lat}$\n",
    "\n",
    "where, $S_C$ is the Scruton number as in E.1.3.3. \n",
    "Please refer to section E.1.5.2 for more details"
   ]
  },
  {
   "cell_type": "markdown",
   "metadata": {},
   "source": [
    "## 3. Galloping"
   ]
  },
  {
   "cell_type": "markdown",
   "metadata": {},
   "source": [
    "Please refer to Annex E.2"
   ]
  },
  {
   "cell_type": "markdown",
   "metadata": {},
   "source": [
    "The onset wind velocity of galloping is given by $$ V_{cg} = \\dfrac{2.Sc}{a_G} . n_{1y}.b$$"
   ]
  },
  {
   "cell_type": "markdown",
   "metadata": {},
   "source": [
    "#### Discuss among groups the different wind effects on structure "
   ]
  }
 ],
 "metadata": {
  "kernelspec": {
   "display_name": "Python 3",
   "language": "python",
   "name": "python3"
  },
  "language_info": {
   "codemirror_mode": {
    "name": "ipython",
    "version": 3
   },
   "file_extension": ".py",
   "mimetype": "text/x-python",
   "name": "python",
   "nbconvert_exporter": "python",
   "pygments_lexer": "ipython3",
   "version": "3.7.5"
  }
 },
 "nbformat": 4,
 "nbformat_minor": 2
}
