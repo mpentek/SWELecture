{
 "cells": [
  {
   "cell_type": "markdown",
   "metadata": {},
   "source": [
    "# Tutorial 2. Flow Visualization "
   ]
  },
  {
   "cell_type": "markdown",
   "metadata": {},
   "source": [
    "### Description: Flow visualization is important when assessing a flow field and is helpful in better understanding the flow characteristics. Streamlines, pathlines and streaklines are introduced in this exercise. The first part deals with defining, setting up and visualizing a vector field. Here it represents a steady flow, more precisely a pure rotational field. In-built streamline plot has also underlying numerical approximation due to which the streamline is instead of a circle (analytical solution) a spiral. Isocontours are used to show the velocity magnitude. Numerical integration methods are implemented to show the differences for pathline calculation. This follows the Lagrangian view, i.e. particle tracking. While the flow domain is defined by a vector field independent of time, i.e. steady, the particles in the flow have a changing velocity as this depends by definition on the position. Some exercises are proposed. \n",
    "\n",
    "#### Students are advised to complete the exercises. "
   ]
  },
  {
   "cell_type": "markdown",
   "metadata": {},
   "source": [
    "Project: Structural Wind Engineering WS18-19 \n",
    "        Chair of Structural Analysis @ TUM - R. Wüchner, M. Péntek\n",
    "        \n",
    "Author: kodakkal.anoop@tum.de mate.pentek@tum.de\n",
    "\n",
    "Created on:  08.11.2015\n",
    "\n",
    "Last update: 17.10.2018"
   ]
  },
  {
   "cell_type": "markdown",
   "metadata": {},
   "source": [
    "##### Contents:\n",
    "\n",
    "1. Calculation of divergence and curl \n",
    "2. Vector field visualization\n",
    "3. Streamlines\n",
    "4. Pathlines with different numerical integration schemes\n"
   ]
  },
  {
   "cell_type": "code",
   "execution_count": 1,
   "metadata": {
    "scrolled": true
   },
   "outputs": [],
   "source": [
    "# import\n",
    "import time\n",
    "import matplotlib.pyplot as plt\n",
    "import numpy as np\n",
    "import sympy \n",
    "from matplotlib import pyplot as plt\n",
    "from sympy.utilities.autowrap import ufuncify"
   ]
  },
  {
   "cell_type": "markdown",
   "metadata": {},
   "source": [
    "#### Symbolic vector calculus"
   ]
  },
  {
   "cell_type": "markdown",
   "metadata": {},
   "source": [
    "using the symbolic toolbox (sympy) to define and display the velocity field u."
   ]
  },
  {
   "cell_type": "code",
   "execution_count": 2,
   "metadata": {},
   "outputs": [],
   "source": [
    "# declare symbolic variables\n",
    "x = sympy.Symbol('x')\n",
    "y = sympy.Symbol('y')\n",
    "z = sympy.Symbol('z')\n",
    "t = sympy.Symbol('t')"
   ]
  },
  {
   "cell_type": "markdown",
   "metadata": {},
   "source": [
    "Let us define each component of the velocity field. "
   ]
  },
  {
   "cell_type": "code",
   "execution_count": 3,
   "metadata": {},
   "outputs": [
    {
     "name": "stdout",
     "output_type": "stream",
     "text": [
      "u = [ -2*y   2*x   0 ]\n"
     ]
    }
   ],
   "source": [
    "##\n",
    "## modify here for a different velocity field\n",
    "## use here the format: symbolic_vel_component = f(t,x,y) = a + b*x + c*y + d*t\n",
    "##\n",
    "symbolic_velocity_x = 0 + 0 * x + (-2) * y + 0 * t\n",
    "symbolic_velocity_y = 0 + 2 * x + 0 * y + 0 * t\n",
    "symbolic_velocity_z = 0 + 0 * x + 0 * y + 0 * t\n",
    "print('u = [', symbolic_velocity_x,' ', symbolic_velocity_y,' ', symbolic_velocity_z,']')"
   ]
  },
  {
   "cell_type": "markdown",
   "metadata": {},
   "source": [
    "###### for exercise 1\n",
    "Try a different velocity field. "
   ]
  },
  {
   "cell_type": "code",
   "execution_count": 4,
   "metadata": {},
   "outputs": [],
   "source": [
    "# symbolic_velocity_x = 2\n",
    "# symbolic_velocity_y = 2\n",
    "# symbolic_velocity_z = 0\n",
    "# print('u = [', symbolic_velocity_x,' ', symbolic_velocity_y,' ', symbolic_velocity_z,']')"
   ]
  },
  {
   "cell_type": "markdown",
   "metadata": {},
   "source": [
    "### Calculation of  divergence and curl\n"
   ]
  },
  {
   "cell_type": "markdown",
   "metadata": {},
   "source": [
    "#### Two key operators in vector calculus are divergence and curl. Recall from lecture the definitions of these two quantities. What do these two quantities signify?  "
   ]
  },
  {
   "cell_type": "markdown",
   "metadata": {},
   "source": [
    "Divergence signifies how a vector field changes its magnitude in the neighborhood of a point and curl is an indicator of how its direction changes."
   ]
  },
  {
   "cell_type": "markdown",
   "metadata": {},
   "source": [
    "Divergence of a velocity field $u(x,y,z)$ is\n",
    "\n",
    "$$ div (u) = \\nabla \\cdot u =  \\frac{\\partial u_x}{\\partial x} + \\frac{\\partial u_y}{\\partial y} + \\frac{\\partial u_z}{\\partial z}  $$\n"
   ]
  },
  {
   "cell_type": "code",
   "execution_count": 5,
   "metadata": {},
   "outputs": [
    {
     "name": "stdout",
     "output_type": "stream",
     "text": [
      "div(u)=  0\n"
     ]
    }
   ],
   "source": [
    "symbolic_div = sympy.diff(symbolic_velocity_x, x) + sympy.diff(symbolic_velocity_y, y) + sympy.diff(symbolic_velocity_z, z);\n",
    "print('div(u)= ', symbolic_div)"
   ]
  },
  {
   "cell_type": "markdown",
   "metadata": {},
   "source": [
    "Curl of a velocity field $u(x,y,z)$ is\n",
    "\n",
    "$$ curl (u) = \\nabla \\times u =  \n",
    "\\begin{vmatrix}\n",
    "\\hat{i} & \\hat{j} & \\hat{k}  \\\\ \n",
    "\\frac{\\partial }{\\partial x } & \\frac{\\partial}{\\partial y} & \\frac{\\partial }{\\partial z} \\\\ \n",
    "u_x & u_y & u_z\n",
    "\\end{vmatrix} $$\n"
   ]
  },
  {
   "cell_type": "code",
   "execution_count": 6,
   "metadata": {},
   "outputs": [
    {
     "name": "stdout",
     "output_type": "stream",
     "text": [
      "curl(u) = [ 0   0   4 ]\n"
     ]
    }
   ],
   "source": [
    "symbolic_curl_x = sympy.diff(symbolic_velocity_z, y) - sympy.diff(symbolic_velocity_y, z)\n",
    "symbolic_curl_y = sympy.diff(symbolic_velocity_x, z) - sympy.diff(symbolic_velocity_z, x)\n",
    "symbolic_curl_z = sympy.diff(symbolic_velocity_y, x) - sympy.diff(symbolic_velocity_x, y)\n",
    "print('curl(u) = [', symbolic_curl_x,' ', symbolic_curl_y,' ', symbolic_curl_z,']')"
   ]
  },
  {
   "cell_type": "markdown",
   "metadata": {},
   "source": [
    "### Vector (velocity) field  visualization"
   ]
  },
  {
   "cell_type": "markdown",
   "metadata": {},
   "source": [
    "We need to generate a grid to visualize. "
   ]
  },
  {
   "cell_type": "code",
   "execution_count": 7,
   "metadata": {},
   "outputs": [
    {
     "ename": "CodeWrapError",
     "evalue": "Error while executing command: C:\\Users\\ga39med\\Anaconda3\\python.exe setup.py build_ext --inplace. Command output is:\nrunning build_ext\r\nrunning build_src\r\nbuild_src\r\nbuilding extension \"wrapper_module_0\" sources\r\nbuild_src: building npy-pkg config files\r\nNo module named 'numpy.distutils._msvccompiler' in numpy.distutils; trying from distutils\r\ncustomize MSVCCompiler\r\ncustomize MSVCCompiler using build_ext\r\nbuilding 'wrapper_module_0' extension\r\ncompiling C sources\r\nerror: Unable to find vcvarsall.bat\r\n",
     "output_type": "error",
     "traceback": [
      "\u001b[1;31m---------------------------------------------------------------------------\u001b[0m",
      "\u001b[1;31mCalledProcessError\u001b[0m                        Traceback (most recent call last)",
      "\u001b[1;32m~\\Anaconda3\\lib\\site-packages\\sympy\\utilities\\autowrap.py\u001b[0m in \u001b[0;36m_process_files\u001b[1;34m(self, routine)\u001b[0m\n\u001b[0;32m    167\u001b[0m         \u001b[1;32mtry\u001b[0m\u001b[1;33m:\u001b[0m\u001b[1;33m\u001b[0m\u001b[0m\n\u001b[1;32m--> 168\u001b[1;33m             \u001b[0mretoutput\u001b[0m \u001b[1;33m=\u001b[0m \u001b[0mcheck_output\u001b[0m\u001b[1;33m(\u001b[0m\u001b[0mcommand\u001b[0m\u001b[1;33m,\u001b[0m \u001b[0mstderr\u001b[0m\u001b[1;33m=\u001b[0m\u001b[0mSTDOUT\u001b[0m\u001b[1;33m)\u001b[0m\u001b[1;33m\u001b[0m\u001b[0m\n\u001b[0m\u001b[0;32m    169\u001b[0m         \u001b[1;32mexcept\u001b[0m \u001b[0mCalledProcessError\u001b[0m \u001b[1;32mas\u001b[0m \u001b[0me\u001b[0m\u001b[1;33m:\u001b[0m\u001b[1;33m\u001b[0m\u001b[0m\n",
      "\u001b[1;32m~\\Anaconda3\\lib\\subprocess.py\u001b[0m in \u001b[0;36mcheck_output\u001b[1;34m(timeout, *popenargs, **kwargs)\u001b[0m\n\u001b[0;32m    335\u001b[0m     return run(*popenargs, stdout=PIPE, timeout=timeout, check=True,\n\u001b[1;32m--> 336\u001b[1;33m                **kwargs).stdout\n\u001b[0m\u001b[0;32m    337\u001b[0m \u001b[1;33m\u001b[0m\u001b[0m\n",
      "\u001b[1;32m~\\Anaconda3\\lib\\subprocess.py\u001b[0m in \u001b[0;36mrun\u001b[1;34m(input, timeout, check, *popenargs, **kwargs)\u001b[0m\n\u001b[0;32m    417\u001b[0m             raise CalledProcessError(retcode, process.args,\n\u001b[1;32m--> 418\u001b[1;33m                                      output=stdout, stderr=stderr)\n\u001b[0m\u001b[0;32m    419\u001b[0m     \u001b[1;32mreturn\u001b[0m \u001b[0mCompletedProcess\u001b[0m\u001b[1;33m(\u001b[0m\u001b[0mprocess\u001b[0m\u001b[1;33m.\u001b[0m\u001b[0margs\u001b[0m\u001b[1;33m,\u001b[0m \u001b[0mretcode\u001b[0m\u001b[1;33m,\u001b[0m \u001b[0mstdout\u001b[0m\u001b[1;33m,\u001b[0m \u001b[0mstderr\u001b[0m\u001b[1;33m)\u001b[0m\u001b[1;33m\u001b[0m\u001b[0m\n",
      "\u001b[1;31mCalledProcessError\u001b[0m: Command '['C:\\\\Users\\\\ga39med\\\\Anaconda3\\\\python.exe', 'setup.py', 'build_ext', '--inplace']' returned non-zero exit status 1.",
      "\nDuring handling of the above exception, another exception occurred:\n",
      "\u001b[1;31mCodeWrapError\u001b[0m                             Traceback (most recent call last)",
      "\u001b[1;32m<ipython-input-7-212988e60c3d>\u001b[0m in \u001b[0;36m<module>\u001b[1;34m()\u001b[0m\n\u001b[0;32m     21\u001b[0m \u001b[1;31m#velocity_y_on_meshgrid  = 2 * meshgrid_x #meshgrid_x + meshgrid_y\u001b[0m\u001b[1;33m\u001b[0m\u001b[1;33m\u001b[0m\u001b[0m\n\u001b[0;32m     22\u001b[0m \u001b[1;33m\u001b[0m\u001b[0m\n\u001b[1;32m---> 23\u001b[1;33m \u001b[0mvelocity_x\u001b[0m \u001b[1;33m=\u001b[0m \u001b[0mufuncify\u001b[0m\u001b[1;33m(\u001b[0m\u001b[1;33m(\u001b[0m\u001b[0mx\u001b[0m\u001b[1;33m,\u001b[0m \u001b[0my\u001b[0m\u001b[1;33m)\u001b[0m\u001b[1;33m,\u001b[0m \u001b[0msymbolic_velocity_x\u001b[0m\u001b[1;33m)\u001b[0m\u001b[1;33m\u001b[0m\u001b[0m\n\u001b[0m\u001b[0;32m     24\u001b[0m \u001b[0mvelocity_y\u001b[0m  \u001b[1;33m=\u001b[0m \u001b[0mufuncify\u001b[0m\u001b[1;33m(\u001b[0m\u001b[1;33m(\u001b[0m\u001b[0mx\u001b[0m\u001b[1;33m,\u001b[0m \u001b[0my\u001b[0m\u001b[1;33m)\u001b[0m\u001b[1;33m,\u001b[0m \u001b[0msymbolic_velocity_y\u001b[0m\u001b[1;33m)\u001b[0m\u001b[1;33m\u001b[0m\u001b[0m\n",
      "\u001b[1;32m~\\Anaconda3\\lib\\site-packages\\sympy\\utilities\\autowrap.py\u001b[0m in \u001b[0;36mufuncify\u001b[1;34m(args, expr, language, backend, tempdir, flags, verbose, helpers, **kwargs)\u001b[0m\n\u001b[0;32m   1082\u001b[0m         routines = [make_routine('autofunc{}'.format(idx), exprx, args) for\n\u001b[0;32m   1083\u001b[0m                     idx, exprx in enumerate(expr)]\n\u001b[1;32m-> 1084\u001b[1;33m         \u001b[1;32mreturn\u001b[0m \u001b[0mcode_wrapper\u001b[0m\u001b[1;33m.\u001b[0m\u001b[0mwrap_code\u001b[0m\u001b[1;33m(\u001b[0m\u001b[0mroutines\u001b[0m\u001b[1;33m,\u001b[0m \u001b[0mhelpers\u001b[0m\u001b[1;33m=\u001b[0m\u001b[0mhelps\u001b[0m\u001b[1;33m)\u001b[0m\u001b[1;33m\u001b[0m\u001b[0m\n\u001b[0m\u001b[0;32m   1085\u001b[0m     \u001b[1;32melse\u001b[0m\u001b[1;33m:\u001b[0m\u001b[1;33m\u001b[0m\u001b[0m\n\u001b[0;32m   1086\u001b[0m         \u001b[1;31m# Dummies are used for all added expressions to prevent name clashes\u001b[0m\u001b[1;33m\u001b[0m\u001b[1;33m\u001b[0m\u001b[0m\n",
      "\u001b[1;32m~\\Anaconda3\\lib\\site-packages\\sympy\\utilities\\autowrap.py\u001b[0m in \u001b[0;36mwrap_code\u001b[1;34m(self, routines, helpers)\u001b[0m\n\u001b[0;32m    810\u001b[0m             \u001b[0mself\u001b[0m\u001b[1;33m.\u001b[0m\u001b[0m_generate_code\u001b[0m\u001b[1;33m(\u001b[0m\u001b[0mroutines\u001b[0m\u001b[1;33m,\u001b[0m \u001b[0mhelpers\u001b[0m\u001b[1;33m)\u001b[0m\u001b[1;33m\u001b[0m\u001b[0m\n\u001b[0;32m    811\u001b[0m             \u001b[0mself\u001b[0m\u001b[1;33m.\u001b[0m\u001b[0m_prepare_files\u001b[0m\u001b[1;33m(\u001b[0m\u001b[0mroutines\u001b[0m\u001b[1;33m,\u001b[0m \u001b[0mfuncname\u001b[0m\u001b[1;33m)\u001b[0m\u001b[1;33m\u001b[0m\u001b[0m\n\u001b[1;32m--> 812\u001b[1;33m             \u001b[0mself\u001b[0m\u001b[1;33m.\u001b[0m\u001b[0m_process_files\u001b[0m\u001b[1;33m(\u001b[0m\u001b[0mroutines\u001b[0m\u001b[1;33m)\u001b[0m\u001b[1;33m\u001b[0m\u001b[0m\n\u001b[0m\u001b[0;32m    813\u001b[0m             \u001b[0mmod\u001b[0m \u001b[1;33m=\u001b[0m \u001b[0m__import__\u001b[0m\u001b[1;33m(\u001b[0m\u001b[0mself\u001b[0m\u001b[1;33m.\u001b[0m\u001b[0mmodule_name\u001b[0m\u001b[1;33m)\u001b[0m\u001b[1;33m\u001b[0m\u001b[0m\n\u001b[0;32m    814\u001b[0m         \u001b[1;32mfinally\u001b[0m\u001b[1;33m:\u001b[0m\u001b[1;33m\u001b[0m\u001b[0m\n",
      "\u001b[1;32m~\\Anaconda3\\lib\\site-packages\\sympy\\utilities\\autowrap.py\u001b[0m in \u001b[0;36m_process_files\u001b[1;34m(self, routine)\u001b[0m\n\u001b[0;32m    170\u001b[0m             raise CodeWrapError(\n\u001b[0;32m    171\u001b[0m                 \"Error while executing command: %s. Command output is:\\n%s\" % (\n\u001b[1;32m--> 172\u001b[1;33m                     \" \".join(command), e.output.decode('utf-8')))\n\u001b[0m\u001b[0;32m    173\u001b[0m         \u001b[1;32mif\u001b[0m \u001b[1;32mnot\u001b[0m \u001b[0mself\u001b[0m\u001b[1;33m.\u001b[0m\u001b[0mquiet\u001b[0m\u001b[1;33m:\u001b[0m\u001b[1;33m\u001b[0m\u001b[0m\n\u001b[0;32m    174\u001b[0m             \u001b[0mprint\u001b[0m\u001b[1;33m(\u001b[0m\u001b[0mretoutput\u001b[0m\u001b[1;33m)\u001b[0m\u001b[1;33m\u001b[0m\u001b[0m\n",
      "\u001b[1;31mCodeWrapError\u001b[0m: Error while executing command: C:\\Users\\ga39med\\Anaconda3\\python.exe setup.py build_ext --inplace. Command output is:\nrunning build_ext\r\nrunning build_src\r\nbuild_src\r\nbuilding extension \"wrapper_module_0\" sources\r\nbuild_src: building npy-pkg config files\r\nNo module named 'numpy.distutils._msvccompiler' in numpy.distutils; trying from distutils\r\ncustomize MSVCCompiler\r\ncustomize MSVCCompiler using build_ext\r\nbuilding 'wrapper_module_0' extension\r\ncompiling C sources\r\nerror: Unable to find vcvarsall.bat\r\n"
     ]
    }
   ],
   "source": [
    "# give grid size parameters\n",
    "grid_spacing_start = -2\n",
    "grid_spacing_end = 2\n",
    "grid_spacing_size = 0.4\n",
    "\n",
    "# generate grid size vectors 1D\n",
    "grid_spacing_x = np.arange(grid_spacing_start, grid_spacing_end + grid_spacing_size, grid_spacing_size) \n",
    "grid_spacing_y = np.arange(grid_spacing_start, grid_spacing_end + grid_spacing_size, grid_spacing_size) \n",
    "\n",
    "meshgrid_x, meshgrid_y = np.meshgrid(grid_spacing_x, grid_spacing_y)\n",
    "\n",
    "# define components and generate vector field components for the 2D\n",
    "# meshgrid field\n",
    "##\n",
    "## modify here for a different velocity field\n",
    "##\n",
    "# Ux = -2 * y\n",
    "# Uy = 2 * x\n",
    "\n",
    "#velocity_x_on_meshgrid = -2 * meshgrid_y #meshgrid_x - meshgrid_y\n",
    "#velocity_y_on_meshgrid  = 2 * meshgrid_x #meshgrid_x + meshgrid_y\n",
    "\n",
    "velocity_x = ufuncify((x, y), symbolic_velocity_x)\n",
    "velocity_y  = ufuncify((x, y), symbolic_velocity_y)"
   ]
  },
  {
   "cell_type": "markdown",
   "metadata": {},
   "source": [
    "Refer to [meshgrid](https://docs.scipy.org/doc/numpy-1.14.0/reference/generated/numpy.meshgrid.html) for more details on mesh grid function on numpy "
   ]
  },
  {
   "cell_type": "markdown",
   "metadata": {},
   "source": [
    "##### Let us plot the vector field to visualize "
   ]
  },
  {
   "cell_type": "code",
   "execution_count": null,
   "metadata": {},
   "outputs": [],
   "source": [
    "plt.figure(num=1, figsize=(8, 8))\n",
    "plt.title('Vector field for Vx = ' + str(symbolic_velocity_x) + ' and Vy = ' + str(symbolic_velocity_y))\n",
    "plt.xlabel('x')\n",
    "plt.ylabel('y')\n",
    "plt.xlim(grid_spacing_start-1, grid_spacing_end+1)\n",
    "plt.ylim(grid_spacing_start-1, grid_spacing_end+1)\n",
    "\n",
    "#plt.quiver(meshgrid_x, meshgrid_y,\n",
    "#           velocity_x_on_meshgrid, velocity_y_on_meshgrid,\n",
    "#           angles='xy',scale_units='xy',scale=10)\n",
    "\n",
    "plt.quiver(meshgrid_x, meshgrid_y,\n",
    "           velocity_x(meshgrid_x,meshgrid_y), velocity_y(meshgrid_x,meshgrid_y),\n",
    "           angles='xy',scale_units='xy',scale=10)\n",
    "\n",
    "#plt.axis('equal')\n",
    "plt.grid()"
   ]
  },
  {
   "cell_type": "markdown",
   "metadata": {},
   "source": [
    "### Exercise 1: Visualizing different fields "
   ]
  },
  {
   "cell_type": "markdown",
   "metadata": {},
   "source": [
    "Try to visualize following vector fields and compute their divergence and curl. \n",
    "Is the relationship between these quantities and the vector fields? "
   ]
  },
  {
   "cell_type": "markdown",
   "metadata": {},
   "source": [
    "1. constant u = [ 2, 2, 0 ]\n",
    "2. constant u = [ 2, -2, 0 ]\n",
    "3. u = [ x, y, 0 ]\n",
    "4. u = [ 2y, -2x, 0 ]\n",
    "5. u = [ x-y, x+y, 0 ]"
   ]
  },
  {
   "cell_type": "markdown",
   "metadata": {},
   "source": [
    "### Streamline visualization \n"
   ]
  },
  {
   "cell_type": "markdown",
   "metadata": {},
   "source": [
    "using the inbuilt function of [streamline](https://matplotlib.org/api/_as_gen/matplotlib.pyplot.streamplot.html) to plot the streamlines "
   ]
  },
  {
   "cell_type": "code",
   "execution_count": null,
   "metadata": {},
   "outputs": [],
   "source": [
    "plt.figure(num=2, figsize=(8, 8))\n",
    "#plt.streamplot(meshgrid_x, meshgrid_y,\n",
    "#               velocity_x_on_meshgrid, velocity_y_on_meshgrid,\n",
    "#               density= 0.5)\n",
    "\n",
    "plt.streamplot(meshgrid_x, meshgrid_y,\n",
    "               velocity_x(meshgrid_x,meshgrid_y), velocity_y(meshgrid_x,meshgrid_y),\n",
    "               density= 0.5)\n",
    "\n",
    "plt.title('Streamlines for vector field')\n",
    "plt.xlabel('x')\n",
    "plt.ylabel('y')\n",
    "plt.xlim([grid_spacing_start-1, grid_spacing_end+1])\n",
    "plt.ylim([grid_spacing_start-1, grid_spacing_end+1])\n",
    "plt.grid(True)"
   ]
  },
  {
   "cell_type": "markdown",
   "metadata": {},
   "source": [
    "### Contour plot for velocity magnitude\n"
   ]
  },
  {
   "cell_type": "markdown",
   "metadata": {},
   "source": [
    "Velocity magnitude $ \\mid U\\mid= \\sqrt{U_x^2 + U_y^2}$"
   ]
  },
  {
   "cell_type": "code",
   "execution_count": null,
   "metadata": {},
   "outputs": [],
   "source": [
    "meshgrid_velocity_magnitude = np.sqrt((np.square(velocity_x_on_meshgrid) + np.square(velocity_y_on_meshgrid)))\n",
    "\n",
    "# plot separately a contour line for the magnitude of velocity for an initial point\n",
    "# x0 = 1, y0 = 1 -> looking for magnitude Ux(x0=1)= -2 and Uy(y0=1) = 2\n",
    "# magnitude is 2*sqrt(2) = 2.8284\n",
    "value_looked_for = np.sqrt((-2*1)**2 + (2*1)**2)\n",
    "\n",
    "# plot first plot line of interest \n",
    "# after plot contours lines dashed \n",
    "plt.figure(num=3, figsize=(8, 8))\n",
    "# plot a selected countour line\n",
    "CS = plt.contour(meshgrid_x, meshgrid_y, meshgrid_velocity_magnitude, levels = [value_looked_for], linewidths= 2.5)\n",
    "plt.clabel(CS, inline=1, fontsize=12)\n",
    "# plot multiple countour lines\n",
    "plt.contour(meshgrid_x, meshgrid_y, meshgrid_velocity_magnitude, linestyles='dashed',linewidths=1.5)\n",
    "\n",
    "plt.title('Vector magnitude contour plot')\n",
    "plt.xlabel('x')\n",
    "plt.ylabel('y')\n",
    "plt.xlim([grid_spacing_start-1, grid_spacing_end+1])\n",
    "plt.ylim([grid_spacing_start-1, grid_spacing_end+1])\n",
    "plt.grid(True)"
   ]
  },
  {
   "cell_type": "markdown",
   "metadata": {},
   "source": [
    "## Check Point 1: Discussion"
   ]
  },
  {
   "cell_type": "markdown",
   "metadata": {},
   "source": [
    "#### Discuss in groups the insights into vector (velocity) field visualization and other flow related quantities. Can you make some predictions of the flow fields from the the divergence and curl ?  "
   ]
  },
  {
   "cell_type": "markdown",
   "metadata": {},
   "source": [
    "### Pathline "
   ]
  },
  {
   "cell_type": "markdown",
   "metadata": {},
   "source": [
    "Pathlines are actual paths traveled by each particle.  \n",
    "$$ x = x_{start} + \\int_{t_{start}} ^{t}{u dt }$$"
   ]
  },
  {
   "cell_type": "markdown",
   "metadata": {},
   "source": [
    "###### Here, the particle is introduced into flow at time $ t = 0$ at position $x(t=0) = 1 $ and $ y(t=0) = 1$"
   ]
  },
  {
   "cell_type": "markdown",
   "metadata": {},
   "source": [
    "We follow this particle in time and evaluate the pathline. The determination of the pathline for this case is done numerically. This implies an approximation of position (distance) by numerically integrating the given (known) velocity.\n",
    "$$ U_x = \\frac {dx} {dt} \\rightarrow dx = U_x dt$$"
   ]
  },
  {
   "cell_type": "markdown",
   "metadata": {},
   "source": [
    "This can be solved using various (time) integration schemes."
   ]
  },
  {
   "cell_type": "markdown",
   "metadata": {},
   "source": [
    "##### 1. A forward Euler integration \n"
   ]
  },
  {
   "cell_type": "markdown",
   "metadata": {},
   "source": [
    "check out the (forward) [Euler integration](https://en.wikipedia.org/wiki/Euler_method) for details "
   ]
  },
  {
   "cell_type": "markdown",
   "metadata": {},
   "source": [
    "#### Creating the time instances as an array"
   ]
  },
  {
   "cell_type": "markdown",
   "metadata": {},
   "source": [
    "The start time, end time and the number of time steps are specified here for generating the time series. "
   ]
  },
  {
   "cell_type": "code",
   "execution_count": null,
   "metadata": {},
   "outputs": [],
   "source": [
    "# start time\n",
    "start_time = 0.0\n",
    "# end time\n",
    "end_time = np.pi\n",
    "#delta time\n",
    "delta_time = 0.1   \n",
    "# time step\n",
    "n_steps = round((end_time - start_time)/delta_time)\n",
    "# time series\n",
    "time_series = np.linspace(start_time, end_time, n_steps)"
   ]
  },
  {
   "cell_type": "markdown",
   "metadata": {},
   "source": [
    "end_time is chosen as $\\pi$ so that the particle will come back to its initial position. Recall the fact the pathlines and streamlines are same for a steady flow. "
   ]
  },
  {
   "cell_type": "markdown",
   "metadata": {},
   "source": [
    "The pathline is evaluated using the forward Euler scheme. The pathline length, x and y coordinates are stored for each time step. "
   ]
  },
  {
   "cell_type": "code",
   "execution_count": null,
   "metadata": {},
   "outputs": [],
   "source": [
    "# defining the velocity as a function\n",
    "# one can define with the lambda placeholder for variables\n",
    "# velocities defined generically as functions depending on x, y, t \n",
    "# so positions x and y (maybe z) and time t\n",
    "# sympy.lambdify creates a function from the symbolic definition of \n",
    "# symbolic_velocity_component with the variables x, y, t which can be \n",
    "# evaluated numerically\n",
    "\n",
    "# see the symbolic expressions in blocks 3-4 which are lambdified\n",
    "velocity_x = sympy.lambdify((t,x,y), symbolic_velocity_x)\n",
    "velocity_y = sympy.lambdify((t,x,y), symbolic_velocity_y)\n",
    "\n",
    "# initialize with zero values\n",
    "coord_x = np.zeros(len(time_series))\n",
    "coord_y = np.zeros(len(time_series))\n",
    "# initial position\n",
    "coord_x[0] = 1   \n",
    "coord_y[0] = 1\n",
    "\n",
    "# length set to zero\n",
    "pathline_length = 0\n",
    "\n",
    "# calculation loop for forward Euler\n",
    "# x(i) = x(i-1) + Vx(i-1) * delta_t\n",
    "# y(i) = y(i-1) + Vy(i-1) * delta_t\n",
    "for i in range(0, len(time_series)-1):\n",
    "    # calculate new position\n",
    "    coord_x[i+1] = coord_x[i] + velocity_x(time_series[i] + delta_time, \n",
    "                                           coord_x[i], \n",
    "                                           coord_y[i]) * delta_time\n",
    "    coord_y[i+1] = coord_y[i] + velocity_y(time_series[i] + delta_time, \n",
    "                                           coord_x[i], \n",
    "                                           coord_y[i]) * delta_time \n",
    "    \n",
    "    # increment pathline length\n",
    "    pathline_length += np.sqrt((coord_x[i+1] - coord_x[i])**2 + (coord_y[i+1] - coord_y[i])**2) \n",
    "\n",
    "# store results under new name to be more specific\n",
    "euler_coord_x = coord_x\n",
    "euler_coord_y = coord_y\n",
    "euler_pathline_length = pathline_length "
   ]
  },
  {
   "cell_type": "markdown",
   "metadata": {},
   "source": [
    "##### 2. 4th order Runga-Kutta (RK-4) integration \n"
   ]
  },
  {
   "cell_type": "markdown",
   "metadata": {},
   "source": [
    "check out the [ Runga-Kutta (RK-4)](https://en.wikipedia.org/wiki/Runge%E2%80%93Kutta_methods#Examples) for details "
   ]
  },
  {
   "cell_type": "code",
   "execution_count": null,
   "metadata": {},
   "outputs": [],
   "source": [
    "# initialize with zero values\n",
    "coord_x = np.zeros(len(time_series))\n",
    "coord_y = np.zeros(len(time_series))\n",
    "# initial position\n",
    "coord_x[0] = 1   \n",
    "coord_y[0] = 1\n",
    "\n",
    "# length set to zero\n",
    "pathline_length = 0\n",
    "\n",
    "# calculation loop for RK4\n",
    "for i in range(0, len(time_series)-1):\n",
    "    # calculate new position\n",
    "    k_1 = velocity_x(time_series[i],\n",
    "                    coord_x[i],\n",
    "                    coord_y[i])\n",
    "    k_2 = velocity_x(time_series[i] + 0.5 * delta_time,\n",
    "                    coord_x[i] + 0.5 * delta_time * k_1,\n",
    "                    coord_y[i] + 0.5 * delta_time * k_1)\n",
    "    k_3 = velocity_x(time_series[i] + 0.5 * delta_time,\n",
    "                    coord_x[i] + 0.5 * delta_time * k_2,\n",
    "                    coord_y[i] + 0.5 * delta_time * k_2)\n",
    "    k_4 = velocity_x(time_series[i] + delta_time,\n",
    "                    coord_x[i] + k_3 * delta_time,\n",
    "                    coord_y[i] + k_3 * delta_time)\n",
    "     \n",
    "    coord_x[i+1] = coord_x[i] + (1.0/6.0) * (k_1 + 2 * k_2 + 2 * k_3 + k_4) * delta_time  \n",
    "     \n",
    "    k_1 = velocity_y(time_series[i], \n",
    "                     coord_x[i], \n",
    "                     coord_y[i])\n",
    "    k_2 = velocity_y(time_series[i] + 0.5 * delta_time, \n",
    "                     coord_x[i] + 0.5 * delta_time * k_1, \n",
    "                     coord_y[i] + 0.5 * delta_time * k_1)\n",
    "    k_3 = velocity_y(time_series[i] + 0.5 * delta_time,\n",
    "                     coord_x[i] + 0.5 * delta_time * k_2, \n",
    "                     coord_y[i] + 0.5 * delta_time * k_2)\n",
    "    k_4 = velocity_y(time_series[i] + delta_time,\n",
    "                     coord_x[i] + k_3 * delta_time,\n",
    "                     coord_y[i] + k_3 * delta_time)\n",
    "    \n",
    "    coord_y[i+1] = coord_y[i] + (1.0/6.0) * (k_1 + 2 * k_2 + 2 * k_3 + k_4) * delta_time  \n",
    "    \n",
    "    # increment pathline length\n",
    "    pathline_length += np.sqrt((coord_x[i+1] - coord_x[i])**2 + (coord_y[i+1] - coord_y[i])**2) \n",
    "\n",
    "# store results under new name to be more specific\n",
    "rk4_coord_x = coord_x\n",
    "rk4_coord_y = coord_y\n",
    "rk4_pathline_length = pathline_length"
   ]
  },
  {
   "cell_type": "markdown",
   "metadata": {},
   "source": [
    "##### 3. Adams-Bashforth\n"
   ]
  },
  {
   "cell_type": "markdown",
   "metadata": {},
   "source": [
    "check out the [ Adams-Bashforth](https://en.wikipedia.org/wiki/Linear_multistep_method#Two-step_Adams%E2%80%93Bashforth) for details "
   ]
  },
  {
   "cell_type": "code",
   "execution_count": null,
   "metadata": {},
   "outputs": [],
   "source": [
    "# initialize with zero values\n",
    "coord_x = np.zeros(len(time_series))\n",
    "coord_y = np.zeros(len(time_series))\n",
    "# initial position\n",
    "coord_x[0] = 1   \n",
    "coord_y[0] = 1\n",
    "\n",
    "# length set to zero\n",
    "pathline_length = 0\n",
    "\n",
    "# predict first step with Euler as Adams-Bashforth needs more information to\n",
    "# start because the method depends on 2 previous values (positions) of x\n",
    "# and y\n",
    "# note that it introduces an inital error, one could substitute it with RK4\n",
    "# to predict instead and reduce the error\n",
    "coord_x[1] = coord_x[0] + velocity_x(time_series[0] + delta_time,\n",
    "                                    coord_x[0],\n",
    "                                    coord_y[0]) * delta_time\n",
    "coord_y[1] = coord_y[0] + velocity_y(time_series[0] + delta_time,\n",
    "                                    coord_x[0],\n",
    "                                    coord_y[0]) * delta_time\n",
    "\n",
    "pathline_length += (np.sqrt((coord_x[1] - coord_x[0])**2 + (coord_y[1] - coord_y[0])**2)) \n",
    "\n",
    "# calculation loop for Adams-Bashforth\n",
    "for i in range(0 + 1, len(time_series)-1):   \n",
    "    # calculate new position\n",
    "    coord_x[i+1] = coord_x[i] + 3.0/2.0 * velocity_x(time_series[i] + delta_time,\n",
    "                                                    coord_x[i],\n",
    "                                                    coord_y[i]) * delta_time \\\n",
    "                              - 1.0/2.0 * velocity_x(time_series[i-1] + delta_time,\n",
    "                                                    coord_x[i-1],\n",
    "                                                    coord_y[i-1]) * delta_time\n",
    "    coord_y[i+1] = coord_y[i] + 3.0/2.0 * velocity_y(time_series[i] + delta_time,\n",
    "                                                    coord_x[i],\n",
    "                                                    coord_y[i]) * delta_time \\\n",
    "                              - 1.0/2.0 * velocity_y(time_series[i-1] + delta_time,\n",
    "                                                    coord_x[i-1],\n",
    "                                                    coord_y[i-1]) * delta_time\n",
    "\n",
    "    # increment pathline length\n",
    "    pathline_length += np.sqrt((coord_x[i+1] - coord_x[i])**2 + (coord_y[i+1] - coord_y[i])**2)\n",
    "\n",
    "# store results under new name to be more specific\n",
    "ab_coord_x = coord_x\n",
    "ab_coord_y = coord_y\n",
    "ab_pathline_length = pathline_length"
   ]
  },
  {
   "cell_type": "markdown",
   "metadata": {},
   "source": [
    "##### 4. Analytic solution"
   ]
  },
  {
   "cell_type": "markdown",
   "metadata": {},
   "source": [
    "The (exact) analytic value for particles (for this specific case) is a circle as the corresponding pathline/streamline are the same (for a steady flow field)."
   ]
  },
  {
   "cell_type": "code",
   "execution_count": null,
   "metadata": {},
   "outputs": [],
   "source": [
    "# radius\n",
    "r = np.sqrt((1)**2 + (1)**2)\n",
    "# parametric time steps\n",
    "# taking a center angle theta\n",
    "theta = np.linspace(0, 2*np.pi, 1000)\n",
    "# center of circle a,b\n",
    "a = 0\n",
    "b = 0\n",
    "# point on the circle\n",
    "coord_x = r * np.cos(theta) + a\n",
    "coord_y = r * np.sin(theta) + b\n",
    "\n",
    "# store results under new name to be more specific\n",
    "exact_coord_x = coord_x\n",
    "exact_coord_y = coord_y\n",
    "exact_pathline_length = 2 * np.pi * r"
   ]
  },
  {
   "cell_type": "markdown",
   "metadata": {},
   "source": [
    "##### Let us plot the pathline "
   ]
  },
  {
   "cell_type": "code",
   "execution_count": null,
   "metadata": {},
   "outputs": [],
   "source": [
    "plt.figure(num=4, figsize=(8, 8))\n",
    "plt.title('Pathline for point x(t(0)) = y(t(0)) = 1, delta_time = ' + str(round(delta_time, 3)))\n",
    "# Euler\n",
    "plt.plot(euler_coord_x, euler_coord_y,'-r', label='Euler')\n",
    "# RK4\n",
    "plt.plot(rk4_coord_x, rk4_coord_y,'-.b', label='RK4')\n",
    "# AB\n",
    "plt.plot(ab_coord_x, ab_coord_y,'--k', label='AB')\n",
    "# exact analytic\n",
    "plt.plot(exact_coord_x, exact_coord_y,'-b', label='Exact')\n",
    "\n",
    "plt.xlabel('x')\n",
    "plt.ylabel('y')\n",
    "plt.xlim([grid_spacing_start-1, grid_spacing_end+1])\n",
    "plt.ylim([grid_spacing_start-1, grid_spacing_end+1])\n",
    "\n",
    "plt.legend(loc='upper right', shadow=True)\n",
    "plt.grid(True)"
   ]
  },
  {
   "cell_type": "markdown",
   "metadata": {},
   "source": [
    "Let's zoom to point [1,1] "
   ]
  },
  {
   "cell_type": "code",
   "execution_count": null,
   "metadata": {},
   "outputs": [],
   "source": [
    "plt.figure(num=5, figsize=(15, 6))\n",
    "\n",
    "plt.subplot(1,2,1)\n",
    "plt.title('Pathline for point x(t(0)) = y(t(0)) = 1, delta_time = ' + str(round(delta_time, 3)))\n",
    "# Euler\n",
    "plt.plot(euler_coord_x, euler_coord_y,'-r', label='Euler')\n",
    "# RK4\n",
    "plt.plot(rk4_coord_x, rk4_coord_y,'-.b', label='RK4')\n",
    "# AB\n",
    "plt.plot(ab_coord_x, ab_coord_y,'--k', label='AB')\n",
    "# exact analytic\n",
    "plt.plot(exact_coord_x, exact_coord_y,'-b', label='Exact')\n",
    "\n",
    "plt.xlabel('x')\n",
    "plt.ylabel('y')\n",
    "plt.xlim([0, 2])\n",
    "plt.ylim([0, 2])\n",
    "plt.legend(loc='upper right', shadow=True)\n",
    "plt.grid(True)\n",
    "\n",
    "plt.subplot(1,2,2)\n",
    "plt.title('Pathline for point x(t(0)) = y(t(0)) = 1, delta_time = ' + str(round(delta_time, 3)))\n",
    "# Euler\n",
    "plt.plot(euler_coord_x, euler_coord_y,'-r', label='Euler')\n",
    "# RK4\n",
    "plt.plot(rk4_coord_x, rk4_coord_y,'-.b', label='RK4')\n",
    "# AB\n",
    "plt.plot(ab_coord_x, ab_coord_y,'--k', label='AB')\n",
    "# exact analytic\n",
    "plt.plot(exact_coord_x, exact_coord_y,'-b', label='Exact')\n",
    "\n",
    "plt.xlabel('x')\n",
    "plt.ylabel('y')\n",
    "plt.xlim([0.95, 1.05])\n",
    "plt.ylim([0.95, 1.05])\n",
    "plt.legend(loc='upper right', shadow=True)\n",
    "plt.grid(True)\n",
    "\n",
    "plt.show()"
   ]
  },
  {
   "cell_type": "markdown",
   "metadata": {},
   "source": [
    "Let's compare the pathline length for different integration schemes "
   ]
  },
  {
   "cell_type": "code",
   "execution_count": null,
   "metadata": {},
   "outputs": [],
   "source": [
    "print('Pathline length comparison for dt = ', str(round(delta_time,3)))\n",
    "print('Euler: ', str(round(euler_pathline_length, 3)))\n",
    "print('RK4: ', str(round(rk4_pathline_length, 3)))\n",
    "print('AB: ', str(round(ab_pathline_length, 3)))\n",
    "print('Exact: ', str(round(exact_pathline_length, 3)))"
   ]
  },
  {
   "cell_type": "markdown",
   "metadata": {},
   "source": [
    "## Check Point 2: Discussion"
   ]
  },
  {
   "cell_type": "markdown",
   "metadata": {},
   "source": [
    "#### What do you observe with different integration schemes? Discuss in groups "
   ]
  },
  {
   "cell_type": "markdown",
   "metadata": {},
   "source": [
    "### Exercise 2: Effect of time step"
   ]
  },
  {
   "cell_type": "markdown",
   "metadata": {},
   "source": [
    "Reduce the time step to delta_time to 0.01. Observe the differences and comment. Modify to 0.001"
   ]
  },
  {
   "cell_type": "markdown",
   "metadata": {},
   "source": [
    "### Exercise 3: Modify the velocity field"
   ]
  },
  {
   "cell_type": "markdown",
   "metadata": {},
   "source": [
    "Redefine the velocity field as u = [1 x 0] and observe differences."
   ]
  },
  {
   "cell_type": "markdown",
   "metadata": {},
   "source": [
    "## Check Point 3: Discussion"
   ]
  },
  {
   "cell_type": "markdown",
   "metadata": {},
   "source": [
    "#### Discuss in groups results and impressions of exercise 2-3. "
   ]
  },
  {
   "cell_type": "markdown",
   "metadata": {},
   "source": [
    "### Assignment: Modify the velocity field to time varying one & Streaklines"
   ]
  },
  {
   "cell_type": "markdown",
   "metadata": {},
   "source": [
    "1. Redefine the velocity field as u = [-2yt 2xt 0] and observe differences.You should have an updating vector plot with time, also the streamlines will be time-dependent. For each time instance there will be new streamlines for the whole field. \n",
    "2. For the initial velocity field u = [-2y 2x 0] implement on your own the functionality for calculating streaklines.This is the family of pathlines defined before (connecting all the particles i which are released into the field at position x(t=i)=1 and y(t=i)=1) for a succsession of initial times ti0."
   ]
  }
 ],
 "metadata": {
  "kernelspec": {
   "display_name": "Python 3",
   "language": "python",
   "name": "python3"
  },
  "language_info": {
   "codemirror_mode": {
    "name": "ipython",
    "version": 3
   },
   "file_extension": ".py",
   "mimetype": "text/x-python",
   "name": "python",
   "nbconvert_exporter": "python",
   "pygments_lexer": "ipython3",
   "version": "3.6.6"
  }
 },
 "nbformat": 4,
 "nbformat_minor": 2
}
