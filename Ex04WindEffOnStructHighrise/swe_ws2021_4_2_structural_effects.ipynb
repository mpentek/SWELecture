{
 "cells": [
  {
   "cell_type": "markdown",
   "metadata": {},
   "source": [
    "# Tutorial 4.2. Structural Effects of Wind Loading According to EN 1991-1-4"
   ]
  },
  {
   "cell_type": "markdown",
   "metadata": {},
   "source": [
    "### Description: The wind effects on buildings (or generically any structure) according to EN 1991-1-4 is presented in this exercise. Along- and acrosswind responses according to EN 1991-1-4 and German national annex are addressed. Some exercises are proposed. \n",
    "\n",
    "#### Students are advised to complete the exercises. "
   ]
  },
  {
   "cell_type": "markdown",
   "metadata": {},
   "source": [
    "Project: Structural Wind Engineering WS20-21 \n",
    "        Chair of Structural Analysis @ TUM - R. Wüchner, M. Péntek, A. Kodakkal\n",
    "        \n",
    "Author: anoop.kodakkal@tum.de, mate.pentek@tum.de, guillermo.martinez-lopez@tum.de\n",
    "\n",
    "Created on:  30.11.2015\n",
    "\n",
    "Last update: 22.02.2021"
   ]
  },
  {
   "cell_type": "markdown",
   "metadata": {},
   "source": [
    "##### Contents:\n",
    "\n",
    " 1. Alongwind response of the structure\n",
    " 2. Vortex shedding\n",
    " 3. Instability - Galloping "
   ]
  },
  {
   "cell_type": "markdown",
   "metadata": {},
   "source": [
    "### Codes and standards:\n",
    "#### 1. EN 1991-1-4:2005 - Eurocode 1: Actions on structures - Part 1-4: General actions - Wind actions\n",
    "#### 2.  DIN EN 1991-1-4/NA:2010-12: Nationaler Anhang  EN 1991-1-4\n",
    "\n",
    "Both can be downloaded from the links available on Moodle. It is advised to have them with you throughout this exercise. "
   ]
  },
  {
   "cell_type": "code",
   "execution_count": 1,
   "metadata": {
    "scrolled": true
   },
   "outputs": [],
   "source": [
    "# import\n",
    "import matplotlib.pyplot as plt\n",
    "import numpy as np"
   ]
  },
  {
   "cell_type": "markdown",
   "metadata": {},
   "source": [
    "## 1. Alongwind response - computation of $c_s c_d$\n"
   ]
  },
  {
   "cell_type": "markdown",
   "metadata": {},
   "source": [
    "#### Gust wind speed computed from the previous example for the location of the Jeddah Airport considering a return period of 50 years is 40.12 m/s . The mean wind speed is computed as $$ u_{mean} = u_{gust}/1.4$$  \n",
    "The building is located at an urban area with height of adjacent building upto 15m: __Terrain category IV__\n",
    "\n",
    "Let us take the same building as in previous example  \n",
    "\n",
    "* height: 600 m (note that for this height codes are standards are generally not or only with strong restrictions applicable, here used as input value for a prototypical building)\n",
    "* uniform square cross section of given geometry and building breadth and depth = 60.0 m\n",
    "* assume structural damping ratio of 1.5%"
   ]
  },
  {
   "cell_type": "code",
   "execution_count": 2,
   "metadata": {},
   "outputs": [
    {
     "name": "stdout",
     "output_type": "stream",
     "text": [
      "Reference height [m]:  360.0\n",
      "Estimated frequency [Hz]:  0.077\n"
     ]
    }
   ],
   "source": [
    "mean_windspeed = 40.12 / 1.4\n",
    "height = 600.0\n",
    "\n",
    "height_ref = 0.6 * height # for vertical/cantilever-type structures (Fig. 6.1)\n",
    "print('Reference height [m]: ', np.around(height_ref,3))\n",
    "\n",
    "breadth = 60.0\n",
    "depth = 60.0\n",
    "damping_ratio = 0.015\n",
    "frequency_1 =  46.0 / height # refer to F.2\n",
    "print('Estimated frequency [Hz]: ', np.around(frequency_1,3))"
   ]
  },
  {
   "cell_type": "markdown",
   "metadata": {},
   "source": [
    "According to DIN EN 1991-1-4/NA the wind profile for terrain category IV is (ref: Tabelle NA.B.2)\n",
    "\n",
    "$$ u_{mean}(z) = 0.56 \\cdot v_b \\cdot (z/10)^{0.3}$$ \n",
    "\n",
    "$$ u_{gust}(z) = 1.05 \\cdot v_b \\cdot (z/10)^{0.2}$$ \n",
    "\n",
    "Turbulence intensity $$ I_{v}(z) = 0.43 \\cdot (z/10)^{-0.3}$$ "
   ]
  },
  {
   "cell_type": "code",
   "execution_count": 3,
   "metadata": {},
   "outputs": [],
   "source": [
    "terrain_category = \"IV\"\n",
    "\n",
    "a_mean  = {'I':1.18,'II':1.0,'III':0.77,'IV':0.56 }\n",
    "alpha_mean = {'I':0.12,'II':0.16,'III':0.22,'IV':0.3 }\n",
    "a_gust = {'I':1.61,'II':1.45,'III':1.27,'IV':1.05 }\n",
    "alpha_gust = {'I':0.095,'II':0.12,'III':0.155,'IV':0.2 }\n",
    "a_turb = {'I':0.14,'II':0.19,'III':0.28,'IV':0.43 }\n",
    "alpha_turb = {'I':-0.12,'II':-0.16,'III':-0.22,'IV':-0.3 }"
   ]
  },
  {
   "cell_type": "code",
   "execution_count": 4,
   "metadata": {},
   "outputs": [
    {
     "name": "stdout",
     "output_type": "stream",
     "text": [
      "Mean (reference) velocity [m/s]:  47.023\n",
      "Turbulence intensity [-]:  0.147\n"
     ]
    }
   ],
   "source": [
    "umean = a_mean[terrain_category] * mean_windspeed * (height_ref/10)**alpha_mean[terrain_category]\n",
    "print('Mean (reference) velocity [m/s]: ', np.around(umean,3))\n",
    "\n",
    "ugust = a_gust[terrain_category] * mean_windspeed * (height_ref/10)**alpha_gust[terrain_category]\n",
    "Iv = a_turb[terrain_category]  * (height_ref/10)**alpha_turb[terrain_category]\n",
    "print('Turbulence intensity [-]: ', np.around(Iv,3))"
   ]
  },
  {
   "cell_type": "markdown",
   "metadata": {},
   "source": [
    "###### Computation of length scale L(z) (ref:  NA.C.1.2 & ref: Tabelle NA.C.1) "
   ]
  },
  {
   "cell_type": "markdown",
   "metadata": {},
   "source": [
    "Length scale for terrain category IV  $$ L(z) = 300 \\cdot (z/300)^{0.46}$$ "
   ]
  },
  {
   "cell_type": "code",
   "execution_count": 5,
   "metadata": {},
   "outputs": [
    {
     "name": "stdout",
     "output_type": "stream",
     "text": [
      "Length scale [m]: : 326.246\n"
     ]
    }
   ],
   "source": [
    "alpha_lengthscale = {'I':0.13,'II':0.26,'III':0.37,'IV':0.46}\n",
    "len_scale = 300 * (height_ref/300) ** alpha_lengthscale[terrain_category]\n",
    "print('Length scale [m]: :',np.around(len_scale,3))"
   ]
  },
  {
   "cell_type": "markdown",
   "metadata": {},
   "source": [
    "###### Computation of the dimensionless power spectral density function SL(z,n) (ref:  NA.C.1.2). "
   ]
  },
  {
   "cell_type": "markdown",
   "metadata": {},
   "source": [
    "Dimensionless power spectral density function S_L(z,n) $$ S_L(z, n) = \\dfrac{6.8 f_L (z,n)}{(1+10.2 f_L(z,n))^{5/3}}$$\n",
    "\n",
    "where $f_L(z,n) = \\dfrac{n \\cdot L(z)}{u_{mean}(z)}$ is the dimensionless frequency"
   ]
  },
  {
   "cell_type": "code",
   "execution_count": 6,
   "metadata": {
    "scrolled": true
   },
   "outputs": [
    {
     "name": "stdout",
     "output_type": "stream",
     "text": [
      "Evaluation of the spectrum (related to the evaluation of the gust energy in the ferquency domain):  0.163\n"
     ]
    }
   ],
   "source": [
    "f_l = frequency_1 * len_scale / umean\n",
    "S_l = 6.8 * f_l / (1+10.2 * f_l)** (5/3)\n",
    "print('Evaluation of the spectrum (related to the evaluation of the gust energy in the ferquency domain): ', np.around(S_l,3))"
   ]
  },
  {
   "cell_type": "markdown",
   "metadata": {},
   "source": [
    "#### Determination of the background factor B² (ref: B.2) . "
   ]
  },
  {
   "cell_type": "markdown",
   "metadata": {},
   "source": [
    "the background factor can be calculated as  $$ B^2 = \\dfrac{1}{1+0.9 \\bigg( \\frac {b+h}{L(z)}\\bigg)^{0.63}}$$\n"
   ]
  },
  {
   "cell_type": "code",
   "execution_count": 7,
   "metadata": {},
   "outputs": [
    {
     "name": "stdout",
     "output_type": "stream",
     "text": [
      "Background factor B² [-]:  0.416\n"
     ]
    }
   ],
   "source": [
    "bg_factor = 1/(1+0.9*((breadth + height)/len_scale)**0.63)\n",
    "print('Background factor B² [-]: ', np.around(bg_factor,3))"
   ]
  },
  {
   "cell_type": "markdown",
   "metadata": {},
   "source": [
    "###### Determination of the Resonance factor R² (ref: B.2)"
   ]
  },
  {
   "cell_type": "markdown",
   "metadata": {},
   "source": [
    "the resonance factor can be calculated as  $$ R^2 = \\dfrac{\\pi^2}{2 \\delta} S_L(z,n) \\cdot R_h(\\eta_h) \\cdot R_b(\\eta_b) $$\n",
    "\n",
    "refer to equations B5, B.7 and B.8 "
   ]
  },
  {
   "cell_type": "code",
   "execution_count": 8,
   "metadata": {},
   "outputs": [
    {
     "name": "stdout",
     "output_type": "stream",
     "text": [
      "Resonance factor R² [-]: 1.275\n"
     ]
    }
   ],
   "source": [
    "eta_h = 4.6 * height / len_scale * f_l\n",
    "eta_b = 4.6 * breadth / len_scale * f_l\n",
    "\n",
    "R_h = 1/eta_h - 1/2/eta_h**2 * ( 1 - np.e ** (-2 * eta_h))\n",
    "R_b = 1/eta_b - 1/2/eta_b**2 * ( 1 - np.e ** (-2 * eta_b))\n",
    "\n",
    "log_decrement = damping_ratio * 2 * np.pi\n",
    "res_factor = np.pi**2 /2/log_decrement * S_l * R_h * R_b\n",
    "up_cross_freq = max(frequency_1 * np.sqrt( res_factor / (res_factor + bg_factor)),0.08)\n",
    "print('Resonance factor R² [-]:', np.around(res_factor,3))"
   ]
  },
  {
   "cell_type": "markdown",
   "metadata": {},
   "source": [
    "###### Determination of the peak factor kp  (ref: B.2)"
   ]
  },
  {
   "cell_type": "markdown",
   "metadata": {},
   "source": [
    "refer to equation B.4"
   ]
  },
  {
   "cell_type": "code",
   "execution_count": 9,
   "metadata": {},
   "outputs": [
    {
     "name": "stdout",
     "output_type": "stream",
     "text": [
      "Peak factor [-]:  3\n"
     ]
    }
   ],
   "source": [
    "peak_factor = max(3, np.sqrt(2 * np.log(up_cross_freq * 600 )) + 0.6 / (np.sqrt(2*np.log(up_cross_freq * 600))))\n",
    "print('Peak factor [-]: ', np.around(peak_factor,3))"
   ]
  },
  {
   "cell_type": "markdown",
   "metadata": {},
   "source": [
    "###### Determination of structural factor $C_sC_d$"
   ]
  },
  {
   "cell_type": "markdown",
   "metadata": {},
   "source": [
    "refer to equation NA.C.1 \n",
    " $$ c_s c_d = \\dfrac{1+2 k_p \\cdot I_v(z) \\cdot \\sqrt{B^2 + R^2 } } {1+6 I_v(z)} $$"
   ]
  },
  {
   "cell_type": "code",
   "execution_count": 10,
   "metadata": {},
   "outputs": [
    {
     "name": "stdout",
     "output_type": "stream",
     "text": [
      "Structural factor c_s c_d [-]:  1.141\n"
     ]
    }
   ],
   "source": [
    "structural_factor = (1 + 2*peak_factor*Iv*np.sqrt(bg_factor+res_factor))/(1+6 * Iv)\n",
    "print('Structural factor c_s c_d [-]: ', np.around(structural_factor, 3))"
   ]
  },
  {
   "cell_type": "markdown",
   "metadata": {},
   "source": [
    "### Exercise: Where is the $c_sc_d$ is used ? "
   ]
  },
  {
   "cell_type": "markdown",
   "metadata": {},
   "source": [
    "Refer to equation 5.4 in DIN EN 1991-1-4\n",
    "\n",
    "For the exercise *3_1_wind_load*, recompute the bending moment and shear force considering this factor. Knowing the structural properties, compute the static displacements for this case. "
   ]
  },
  {
   "cell_type": "markdown",
   "metadata": {},
   "source": [
    "## 2. Vortex shedding "
   ]
  },
  {
   "cell_type": "markdown",
   "metadata": {},
   "source": [
    "Refer to Annex E in DIN EN 1991-1-4"
   ]
  },
  {
   "cell_type": "markdown",
   "metadata": {},
   "source": [
    "The effect of vortex shedding needs to be investigated when $V_{crit} < 1.25 \\cdot V_m$"
   ]
  },
  {
   "cell_type": "markdown",
   "metadata": {},
   "source": [
    "\n",
    "The critical wind velocity is $V_{crit} = \\dfrac{b \\cdot n_{i,y}}{St}$"
   ]
  },
  {
   "cell_type": "markdown",
   "metadata": {},
   "source": [
    "Refer to E1.3.1 for details "
   ]
  },
  {
   "cell_type": "code",
   "execution_count": 11,
   "metadata": {},
   "outputs": [
    {
     "name": "stdout",
     "output_type": "stream",
     "text": [
      "Strouhal St number [-]:  0.12\n",
      "Critical wind velocity for vortex shedding [m/s]:  38.333\n"
     ]
    }
   ],
   "source": [
    "strouhal_number = 0.12 # for rectangular cross section, refer to E1.3.2 for details \n",
    "print('Strouhal St number [-]: ', np.around(strouhal_number,3))\n",
    "\n",
    "crosswind_freq = frequency_1 # this refers to the frequency corresponding to the 1st bending mode in crosswind direction\n",
    "velocity_crit = depth * crosswind_freq / strouhal_number\n",
    "print('Critical wind velocity for vortex shedding [m/s]: ', np.around(velocity_crit,3))"
   ]
  },
  {
   "cell_type": "code",
   "execution_count": 12,
   "metadata": {},
   "outputs": [
    {
     "name": "stdout",
     "output_type": "stream",
     "text": [
      "Vortex shedding frequency [Hz]:  0.094\n"
     ]
    }
   ],
   "source": [
    "vortex_freq = strouhal_number * umean / depth\n",
    "print('Vortex shedding frequency [Hz]: ', np.around(vortex_freq,3))"
   ]
  },
  {
   "cell_type": "code",
   "execution_count": 13,
   "metadata": {},
   "outputs": [
    {
     "name": "stdout",
     "output_type": "stream",
     "text": [
      "Not OK, critical vortex shedding velocity below mean reference velocity\n",
      "Vortex shedding needs to be investigated as it will certainly manifest in a critical range\n"
     ]
    }
   ],
   "source": [
    "if (umean >= velocity_crit):\n",
    "    print('Not OK, critical vortex shedding velocity below mean reference velocity')\n",
    "    print('Vortex shedding needs to be investigated as it will certainly manifest in a critical range')\n",
    "elif (1.25 * umean >= velocity_crit): \n",
    "    print('Not OK, critical vortex shedding velocity too close to mean reference velocity')\n",
    "    print('The effect of vortex shedding needs to be investigated')\n",
    "else: \n",
    "    print('OK, the effect of vortex shedding does not have to be investigated')"
   ]
  },
  {
   "cell_type": "markdown",
   "metadata": {},
   "source": [
    "##### Calculation of acrosswind amplitude of displacements - Scruton number Sc"
   ]
  },
  {
   "cell_type": "markdown",
   "metadata": {},
   "source": [
    "The susceptibility of vibrations depends on the structural damping and the ratio of structural mass\n",
    "to fluid mass. This is expressed by the Scruton number Sc, which is given in Expression E.4 \n",
    "\n",
    " $Sc = \\dfrac{2 \\delta_{s} \\cdot m_{i,e}}{\\rho \\cdot b^2}$\n",
    "\n"
   ]
  },
  {
   "cell_type": "code",
   "execution_count": 14,
   "metadata": {},
   "outputs": [],
   "source": [
    "# Assumed structural properties \n",
    "equiv_density = 150 # kg/m**3\n",
    "area = breadth * depth # m**2\n",
    "rho_air= 1.2"
   ]
  },
  {
   "cell_type": "markdown",
   "metadata": {},
   "source": [
    "Eurocode defines the equivalent mass in Expression F.14. According to the formula, for a constant mass per unit height, the equivalent mass is equal to this same mass per unit height."
   ]
  },
  {
   "cell_type": "code",
   "execution_count": 15,
   "metadata": {},
   "outputs": [
    {
     "name": "stdout",
     "output_type": "stream",
     "text": [
      "Scrouton Sc number [-]:  23.562\n"
     ]
    }
   ],
   "source": [
    "m_total = equiv_density * area * height\n",
    "\n",
    "# The equivalent mass is equal to the mass per unit height (since mass distribution is constant)\n",
    "m_e_1_u =  m_total / height\n",
    "\n",
    "scruton_number = 2 * log_decrement * m_e_1_u / rho_air / depth **2\n",
    "print('Scrouton Sc number [-]: ', np.around(scruton_number,3))"
   ]
  },
  {
   "cell_type": "markdown",
   "metadata": {},
   "source": [
    "##### Computation of lateral force coefficient $c_{lat,0}$"
   ]
  },
  {
   "cell_type": "markdown",
   "metadata": {},
   "source": [
    "From Table E.2 "
   ]
  },
  {
   "cell_type": "code",
   "execution_count": 16,
   "metadata": {},
   "outputs": [],
   "source": [
    "c_lat_0 = 1.1"
   ]
  },
  {
   "cell_type": "markdown",
   "metadata": {},
   "source": [
    "From Table E.3"
   ]
  },
  {
   "cell_type": "code",
   "execution_count": 17,
   "metadata": {},
   "outputs": [
    {
     "name": "stdout",
     "output_type": "stream",
     "text": [
      "c_lat [-]: 1.1\n"
     ]
    }
   ],
   "source": [
    "# According to Eurocode\n",
    "if velocity_crit/umean <= 0.83:\n",
    "    c_lat = c_lat_0\n",
    "elif velocity_crit/umean >= 1.25:\n",
    "    c_lat = 0\n",
    "else:\n",
    "    c_lat = (3 - 2.4*velocity_crit/umean) * c_lat_0\n",
    "    \n",
    "print('c_lat [-]: ' + str(np.around(c_lat,3)))"
   ]
  },
  {
   "cell_type": "markdown",
   "metadata": {},
   "source": [
    "Since \"c_lat = 0\" has no physical meaning (because the RMS-value for the across-wind force coefficient will not be zero), we can \"correct\" it so we always have a c_lat of at least a 20% of c_lat_0. This is not stated in Eurocode 1-4, but based on an engineering assumption and will be on the safe side. Depending on the exact case, the proper value of this percentige will differ. "
   ]
  },
  {
   "cell_type": "code",
   "execution_count": 18,
   "metadata": {},
   "outputs": [
    {
     "name": "stdout",
     "output_type": "stream",
     "text": [
      "c_lat (final) [-]: 1.1\n"
     ]
    }
   ],
   "source": [
    "c_lat = max([c_lat, c_lat_0*0.2])\n",
    "\n",
    "print('c_lat (final) [-]: ' + str(np.around(c_lat,3)))"
   ]
  },
  {
   "cell_type": "markdown",
   "metadata": {},
   "source": [
    "correlation length factor $K_W$ and shape factor $K$ From Table E.5"
   ]
  },
  {
   "cell_type": "code",
   "execution_count": 19,
   "metadata": {
    "scrolled": false
   },
   "outputs": [
    {
     "name": "stdout",
     "output_type": "stream",
     "text": [
      "K_1 [-]:  0.13\n",
      "K_2 [-]:  0.121\n",
      "Mode shape factor (final) K_w [-]:  0.121\n",
      "Correlation length (based upon EC) L_j [m]:  360.0\n",
      "Correlation length (final) L_j [m]:  360.0\n",
      "U mean (for correlation) [m/s]:  49.249\n",
      "The critical velocity (for vortex shedding-induced resonance) [m/s]:  38.333\n",
      "The factor relating these two [-]:  0.778\n",
      "K_w_1 [-]:  0.936\n",
      "K_w_2 [-]:  0.924\n",
      "Correlation length factor (final) K_w [-]:  0.6\n"
     ]
    }
   ],
   "source": [
    "from math import sin, cos, sinh, cosh, pi\n",
    "# For cantilever -> Table 9.1 - page 600(628) Petersen (2018)\n",
    "# Analytical definition of the eigenform - for the 1st mode, usable for bending of a cantilever-type structure\n",
    "def eigf1_cantilever(x,l):\n",
    "    # j=1 -> first eigenmod\n",
    "    lambda_j = 1.875104\n",
    "    A_j = 1.362220\n",
    "    xi = x/l\n",
    "    fctr = lambda_j*xi\n",
    "    return sin(fctr) - sinh(fctr) + A_j*(cosh(fctr)-cos(fctr))\n",
    "\n",
    "import numpy as np\n",
    "x_coords_all = np.linspace(0.0, height, num=25, endpoint=True) \n",
    "dx = x_coords_all[1] - x_coords_all[0]\n",
    "y_coords_all = [eigf1_cantilever(x,height) for x in x_coords_all]\n",
    "\n",
    "# According to Eurocode 1-4, F.3, the input modes are normalized\n",
    "# so the maximum displacement is 1.\n",
    "y_coords_all = [y/max(y_coords_all) for y in y_coords_all]\n",
    "\n",
    "K_1 = 0.13\n",
    "print('K_1 [-]: ', np.around(K_1,3))\n",
    "\n",
    "# EC detailed - according to equation E.9\n",
    "K_2_numerator = sum([np.abs(dx*y) for y in y_coords_all])\n",
    "K_2_denominator = 4*pi*sum([dx*y**2 for y in y_coords_all])\n",
    "K_2 = K_2_numerator/K_2_denominator\n",
    "print('K_2 [-]: ', np.around(K_2,3))\n",
    "\n",
    "K = min(K_1, K_2)\n",
    "print('Mode shape factor (final) K_w [-]: ', np.around(K,3))\n",
    "\n",
    "#From table E.4\n",
    "L_j_by_b = 6 # Initial value (assuming y/b < 0.1)\n",
    "L_j = L_j_by_b * depth\n",
    "print('Correlation length (based upon EC) L_j [m]: ', np.around(L_j,3))\n",
    "# Practically at most 75% of the height \n",
    "# This is again an engineering assumption for a cantilever beam and 1st bending mode shape\n",
    "# a correlation length larger than this does not really make sense, as it implies the force is correlated\n",
    "# over more than 75% of the height of the building\n",
    "L_j = min([0.75*height, L_j])\n",
    "L_j_by_b = L_j / depth\n",
    "print('Correlation length (final) L_j [m]: ', np.around(L_j,3))\n",
    "\n",
    "umean_correl = a_mean[terrain_category] * mean_windspeed * ((height-L_j/2)/10)**alpha_mean[terrain_category]\n",
    "fctr = velocity_crit /umean_correl\n",
    "print('U mean (for correlation) [m/s]: ', np.around(umean_correl,3))\n",
    "print('The critical velocity (for vortex shedding-induced resonance) [m/s]: ', np.around(velocity_crit,3))\n",
    "print('The factor relating these two [-]: ', np.around(fctr,3))\n",
    "\n",
    "# EC simplified - according to Table E.5\n",
    "K_w_1 = (3*L_j_by_b/(height/depth))*(1-(L_j_by_b/(height/depth))+1/3*(L_j_by_b/(height/depth))**2)\n",
    "print('K_w_1 [-]: ', np.around(K_w_1,3))\n",
    "\n",
    "x_coords_correl = x_coords_all[np.where(x_coords_all> (height-L_j))]\n",
    "y_coords_correl = [eigf1_cantilever(x,height) for x in x_coords_correl]\n",
    "# Normalisation - with the maximum value to be in-line with EC which takes the eigenmode in this manner\n",
    "y_coords_correl = [y/max(y_coords_correl) for y in y_coords_correl]\n",
    "\n",
    "# EC detailed - according to equation E.8\n",
    "K_w_numerator = sum([dx*y for y in y_coords_correl])\n",
    "K_w_denominator = sum([dx*y for y in y_coords_all])\n",
    "K_w_2 = K_w_numerator/K_w_denominator\n",
    "print('K_w_2 [-]: ', np.around(K_w_2,3))\n",
    "\n",
    "# A possibility to plot the eigenmode\n",
    "#import matplotlib.pyplot as plt\n",
    "#plt.plot(x_coords_all, y_coords_all, 'k-')\n",
    "#plt.plot(x_coords_correl, y_coords_correl, 'r--')\n",
    "#plt.show()\n",
    "\n",
    "# EC upper limit\n",
    "K_w_max = 0.6\n",
    "\n",
    "K_w = min(K_w_1, K_w_2, K_w_max)\n",
    "print('Correlation length factor (final) K_w [-]: ', np.around(K_w,3))"
   ]
  },
  {
   "cell_type": "markdown",
   "metadata": {},
   "source": [
    "##### Calculation of acrosswind amplitude of displacements"
   ]
  },
  {
   "cell_type": "markdown",
   "metadata": {},
   "source": [
    "ref E.1.5.2.1 : the largest displacement $y_{F,max}$ can be calculated by the expression (E.7) as \n",
    "\n",
    "$\\dfrac{y_{F,max}}{b} = \\dfrac{1}{St^2} \\dfrac{1}{Sc} K \\cdot K_w \\cdot c_{lat}$\n",
    "\n",
    "where, $Sc$ is the Scruton number as in E.1.3.3. \n",
    "\n",
    "Refer to section E.1.5.2 for more details. \n",
    "\n",
    "Note, that for this example the result of displacements and acclerations can be unreaslistic due to the limitations of the procedure for the structure at hand."
   ]
  },
  {
   "cell_type": "code",
   "execution_count": 20,
   "metadata": {},
   "outputs": [
    {
     "name": "stdout",
     "output_type": "stream",
     "text": [
      "Maximum y-displacement in across wind direction [m]:  14.126\n"
     ]
    }
   ],
   "source": [
    "y_f_max = depth/scruton_number /strouhal_number**2 * K * K_w * c_lat\n",
    "print('Maximum y-displacement in across wind direction [m]: ', np.around(y_f_max,3))"
   ]
  },
  {
   "cell_type": "markdown",
   "metadata": {},
   "source": [
    "However, Table E.4 states that the correlation length depends on the maximum displacement, so it is necessary to check that the new correlation length did not change with respect to the assumed one."
   ]
  },
  {
   "cell_type": "code",
   "execution_count": 21,
   "metadata": {},
   "outputs": [
    {
     "name": "stdout",
     "output_type": "stream",
     "text": [
      "Correlation length L_j [m] (initial assumption):  360.0\n",
      "Correlation length L_j [m] (re-calculated):  450.0\n"
     ]
    }
   ],
   "source": [
    "if y_f_max/depth < 0.1:   \n",
    "    new_L_j_by_b = 6\n",
    "elif y_f_max/depth > 0.6:\n",
    "    new_L_j_by_b = 12\n",
    "else:\n",
    "    new_L_j_by_b = 4.8 + 12*y_f_max/depth\n",
    "    \n",
    "new_L_j = new_L_j_by_b * depth\n",
    "\n",
    "# Again, corrected so the correlation legth has physical meaning\n",
    "new_L_j = min([0.75*height, new_L_j])\n",
    "new_L_j_by_b = new_L_j / depth\n",
    "\n",
    "print('Correlation length L_j [m] (initial assumption): ', np.around(L_j,3))\n",
    "print('Correlation length L_j [m] (re-calculated): ', np.around(new_L_j,3))"
   ]
  },
  {
   "cell_type": "markdown",
   "metadata": {},
   "source": [
    "Since we are forcing the correlation length to be less than 75% of the building's height, in most of the cases it will not change when re-calculated. However, with very slender buildings or chimneys (where the correlation length does not hit this limit), this step is important. If it is not fullfilled, one needs to calculate y_max again iteratively, until L_j converges (see Dyrbye and Hansen (1997), \"Wind Loads in Structures\", section 7.5)."
   ]
  },
  {
   "cell_type": "code",
   "execution_count": 22,
   "metadata": {},
   "outputs": [
    {
     "name": "stdout",
     "output_type": "stream",
     "text": [
      "Iteration 1:\n",
      "  - Correlation length L_j [m]: 450.0\n",
      "  - Correlation length factor K_w [-]: 0.984\n",
      "  - Maximum y-displacement in across wind direction [m]: 23.176\n",
      "\n",
      "Final y_f_max [m]: 23.176\n",
      "Iterations: 1\n",
      "y_f_max : height = 1:26\n"
     ]
    }
   ],
   "source": [
    "iteration = 0\n",
    "\n",
    "while new_L_j/L_j > 1.01 or new_L_j/L_j < 0.99:\n",
    "    \n",
    "    # Counter\n",
    "    iteration+=1\n",
    "    print('Iteration 1:')\n",
    "    \n",
    "    # Re-calculate correlation length\n",
    "    L_j = new_L_j\n",
    "    L_j_by_b = new_L_j_by_b\n",
    "    print('  - Correlation length L_j [m]: ' + str(np.around(L_j,3)))\n",
    "    \n",
    "    # Re-calculate K_w\n",
    "    K_w = (3*L_j_by_b/(height/depth))*(1-(L_j_by_b/(height/depth))+1/3*(L_j_by_b/(height/depth))**2)\n",
    "    print('  - Correlation length factor K_w [-]: ' + str(np.around(K_w,3)))\n",
    "    \n",
    "    # Re-calculate y_f_max\n",
    "    y_f_max = depth/scruton_number /strouhal_number**2 * K * K_w * c_lat\n",
    "    print('  - Maximum y-displacement in across wind direction [m]: ' + str(np.around(y_f_max,3)))\n",
    "    \n",
    "    # Check if the correlation length changes again\n",
    "    if y_f_max/depth < 0.1:   \n",
    "        new_L_j_by_b = 6\n",
    "    elif y_f_max/depth > 0.6:\n",
    "        new_L_j_by_b = 12\n",
    "    else:\n",
    "        new_L_j_by_b = 4.8 + 12*y_f_max/depth\n",
    "\n",
    "    new_L_j = new_L_j_by_b * depth\n",
    "\n",
    "    # Again, corrected so the correlation legth has physical meaning\n",
    "    new_L_j = min([0.75*height, new_L_j])\n",
    "    new_L_j_by_b = new_L_j / depth\n",
    "\n",
    "print('\\nFinal y_f_max [m]: ' + str(np.around(y_f_max,3)))\n",
    "print('Iterations: ' + str(iteration))\n",
    "print('y_f_max : height = 1:' + str(int(np.around(height/y_f_max,0))))"
   ]
  },
  {
   "cell_type": "markdown",
   "metadata": {},
   "source": [
    "Assuming a SDoF-similarity (purely harmonic oscillatory displacement lead to purely harmonic velocities and accelerations due to derivation with respect to time), maximum acceleration can be obtained as $\\omega^2 \\cdot y_{F,max}$"
   ]
  },
  {
   "cell_type": "code",
   "execution_count": 23,
   "metadata": {},
   "outputs": [
    {
     "name": "stdout",
     "output_type": "stream",
     "text": [
      "Maximum y-acceleration in acrosswind direction [m/s²]:  0.336\n"
     ]
    }
   ],
   "source": [
    "acc_f_max = frequency_1**2/4*np.pi**2 * y_f_max\n",
    "print('Maximum y-acceleration in acrosswind direction [m/s²]: ', np.around(acc_f_max,3))"
   ]
  },
  {
   "cell_type": "markdown",
   "metadata": {},
   "source": [
    "## 3. Galloping"
   ]
  },
  {
   "cell_type": "markdown",
   "metadata": {},
   "source": [
    "Refer to Annex E.2"
   ]
  },
  {
   "cell_type": "markdown",
   "metadata": {},
   "source": [
    "The onset wind velocity of galloping is given by $$ V_{cg} = \\dfrac{2 Sc}{a_G} n_{1y} \\cdot b$$"
   ]
  },
  {
   "cell_type": "code",
   "execution_count": 24,
   "metadata": {},
   "outputs": [
    {
     "name": "stdout",
     "output_type": "stream",
     "text": [
      "Onset velocity of galloping [m/s]:  180.642\n",
      "OK, the effect of galloping does not have to be investigated\n"
     ]
    }
   ],
   "source": [
    "#from table E.7\n",
    "a_g = 1.2\n",
    "v_cg = 2 * scruton_number * frequency_1 * depth / a_g \n",
    "print('Onset velocity of galloping [m/s]: ',np.around(v_cg,3))\n",
    "   \n",
    "if (umean >= v_cg):\n",
    "    print('Not OK, galloping velocity below mean reference velocity')\n",
    "    print('Galloping needs to be investigated as it will certainly manifest in a critical range')\n",
    "elif (1.25 * umean >= v_cg): \n",
    "    print('Not OK, galloping velocity too close to mean reference velocity')\n",
    "    print('The effect of galloping needs to be investigated')\n",
    "elif (0.7 < v_cg/velocity_crit) and (v_cg/velocity_crit < 1.5):\n",
    "    print('Not OK, critical vortex shedding velocity too close to the onset of galloping')\n",
    "# an additional check for warning\n",
    "elif (v_cg < velocity_crit):\n",
    "    print('Onset of galloping seems to be under critical vortex shedding velocity, check calculations as this is unexpected')\n",
    "else: \n",
    "    print('OK, the effect of galloping does not have to be investigated')"
   ]
  },
  {
   "cell_type": "markdown",
   "metadata": {},
   "source": [
    "#### Discuss among groups the likelihood of different wind effects on the structure. "
   ]
  }
 ],
 "metadata": {
  "kernelspec": {
   "display_name": "'Python Interactive'",
   "language": "python",
   "name": "56dfb0e1-2136-4cb9-8c3f-6964af6bfa31"
  },
  "language_info": {
   "codemirror_mode": {
    "name": "ipython",
    "version": 3
   },
   "file_extension": ".py",
   "mimetype": "text/x-python",
   "name": "python",
   "nbconvert_exporter": "python",
   "pygments_lexer": "ipython3",
   "version": "3.7.7"
  }
 },
 "nbformat": 4,
 "nbformat_minor": 2
}
