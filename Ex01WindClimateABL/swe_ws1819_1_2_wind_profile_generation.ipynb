{
 "cells": [
  {
   "cell_type": "markdown",
   "metadata": {},
   "source": [
    "# Tutorial 1.2. Wind Profile Generation Along the Height of a Structure"
   ]
  },
  {
   "cell_type": "markdown",
   "metadata": {},
   "source": [
    "### Description: The design wind speed computed from example 1.1 is at the reference location. The variation of the wind load along the height of the structure is explained in this tutorial. The wind profile depends on the terrain at which it is located. Norm-based formulas are introduced. A distinction should be made between (10 min) mean and (3 s) gust wind profiles.  Some exercises are proposed. \n",
    "\n",
    "#### Students are advised to complete the exercises. "
   ]
  },
  {
   "cell_type": "markdown",
   "metadata": {},
   "source": [
    "#### Project: Structural Wind Engineering WS18-19 Chair of Structural Analysis @ TUM - R. Wüchner, M. Péntek\n",
    "        \n",
    "Author: kodakkal.anoop@tum.de, mate.pentek@tum.de\n",
    "\n",
    "Created on:  30.11.2015\n",
    "\n",
    "Last update: 24.10.2018"
   ]
  },
  {
   "cell_type": "markdown",
   "metadata": {},
   "source": [
    "##### Contents:\n",
    "\n",
    " Wind profile - the variation of (a certain) wind speed (component) along the height of the structure - for the building in Terrain category I and IV\n"
   ]
  },
  {
   "cell_type": "code",
   "execution_count": 1,
   "metadata": {
    "scrolled": true
   },
   "outputs": [],
   "source": [
    "# import\n",
    "import matplotlib.pyplot as plt\n",
    "import numpy as np\n",
    "from ipywidgets import interactive"
   ]
  },
  {
   "cell_type": "markdown",
   "metadata": {},
   "source": [
    "#### Gust wind speed computed from the previous example for the location of the Jeddah Airport considering a return period of 50 years is 40.12 m/s. The mean wind speed is computed as"
   ]
  },
  {
   "cell_type": "code",
   "execution_count": 2,
   "metadata": {},
   "outputs": [],
   "source": [
    "gust_windspeed = 38.19\n",
    "# 1.4 is the approximate factor to convert from gust to mean wind speed \n",
    "mean_windspeed = gust_windspeed/1.4 "
   ]
  },
  {
   "cell_type": "markdown",
   "metadata": {},
   "source": [
    "According to [EN 1991-1-4: Eurocode: Actions on structures - Part 1-4: General actions - Wind actions](https://archive.org/details/en.1991.1.4.2005/page/n17)\n",
    "            \n",
    "1. (1.6.1) fundamental basic wind velocity $v_{b,0}$: the 10 minute mean wind velocity with an annual risk of being exceeded of 0.02, irrespective of wind direction, at a height of 10 m above flat open country terrain and accounting for altitude effects (if required) \n",
    "            \n",
    "2. (1.6.2) basic wind velocity $v_b$: the fundamental basic wind velocity modified to account for the direction of the wind being considered and the season (if required) \n",
    "            \n",
    "3. (1.6.3) mean wind velocity $v_m$: the basic wind velocity modified to account for the effect of terrain roughness and orography \n",
    "\n",
    "Note that the various coefficients are provided in the national annexes. Sometimes these are all 1.0 leading to identical values for the above distinct quantitites."
   ]
  },
  {
   "cell_type": "markdown",
   "metadata": {},
   "source": [
    "Two terrain categories are assumed in this exercise.\n",
    "1. The building is located at the seaside: __Terrain category I__\n",
    "2. The building is located at an urban area with height of adjacent building upto 15m: __Terrain category IV__"
   ]
  },
  {
   "cell_type": "markdown",
   "metadata": {},
   "source": [
    "Let us calculate the design wind and pressure values for 200 m tall building having a uniform square cross section of 30 m * 30 m. \n"
   ]
  },
  {
   "cell_type": "code",
   "execution_count": 3,
   "metadata": {},
   "outputs": [],
   "source": [
    "height_total = 200\n",
    "storey_height = 4 # height of each floor \n",
    "air_density = 1.2 # airdensity in kg/m3\n",
    "height = np.arange(0, height_total, storey_height)"
   ]
  },
  {
   "cell_type": "markdown",
   "metadata": {},
   "source": [
    "###### Let us compute for terrain category I"
   ]
  },
  {
   "cell_type": "markdown",
   "metadata": {},
   "source": [
    "According to EN 1991-1-4 the wind profile for terrain category I is \n",
    "\n",
    "$$ u_{mean}(z) = 1.18 \\times v_b \\times (z/10)^{0.12}$$ \n",
    "\n",
    "$$ u_{gust}(z) = 1.61 \\times v_b \\times (z/10)^{0.095}$$ \n",
    "\n",
    "The gust wind pressure along the height can be determined as\n",
    "\n",
    "$$ q_{gust}(z) = 1/2 * \\rho_{air} \\times u_{gust}^2(z)$$ "
   ]
  },
  {
   "cell_type": "code",
   "execution_count": 4,
   "metadata": {},
   "outputs": [],
   "source": [
    "a_mean_1  = 1.18\n",
    "alpha_mean_1 = 0.12\n",
    "a_gust_1 = 1.61\n",
    "alpha_gust_1 = 0.095\n",
    "\n",
    "umean_1 = a_mean_1 * mean_windspeed * (height/10)** alpha_mean_1\n",
    "ugust_1 = a_gust_1 * mean_windspeed * (height/10)** alpha_gust_1\n",
    "qgust_1 = 0.5 * air_density * ugust_1**2"
   ]
  },
  {
   "cell_type": "markdown",
   "metadata": {},
   "source": [
    "###### Let us plot"
   ]
  },
  {
   "cell_type": "code",
   "execution_count": 5,
   "metadata": {},
   "outputs": [
    {
     "data": {
      "image/png": "[encoded data removed]",
      "text/plain": [
       "<matplotlib.figure.Figure at 0x7faec3da6390>"
      ]
     },
     "metadata": {},
     "output_type": "display_data"
    }
   ],
   "source": [
    "plt.figure(num=1, figsize=(8, 6))\n",
    "plt.plot(umean_1, height, label = 'Mean velocity profile')\n",
    "plt.plot(ugust_1, height, label = 'Gust velocity profile')\n",
    "plt.ylabel('Height')\n",
    "plt.xlabel('wind speed m/s')\n",
    "plt.title('Wind Speed along height - Terrain category I')\n",
    "plt.legend()\n",
    "plt.grid(True)"
   ]
  },
  {
   "cell_type": "markdown",
   "metadata": {},
   "source": [
    "###### Let us compute for other terrain category"
   ]
  },
  {
   "cell_type": "markdown",
   "metadata": {},
   "source": [
    "According to EN 1991-1-4 the wind profile for terrain category IV is \n",
    "\n",
    "$$ u_{mean}(z) = 0.56 \\times v_b \\times (z/10)^{0.3}$$ \n",
    "\n",
    "$$ u_{gust}(z) = 1.05 \\times v_b \\times (z/10)^{0.2}$$ "
   ]
  },
  {
   "cell_type": "code",
   "execution_count": 6,
   "metadata": {},
   "outputs": [],
   "source": [
    "def plot_windspeed(mean_windspeed, Terrain_category):\n",
    "    \n",
    "    a_mean  = {'I':1.18,'II':1.0,'III':0.77,'IV':0.56 }\n",
    "    alpha_mean = {'I':0.12,'II':0.16,'III':0.22,'IV':0.3 }\n",
    "    a_gust = {'I':1.61,'II':1.45,'III':1.27,'IV':1.05 }\n",
    "    alpha_gust = {'I':0.095,'II':0.12,'III':0.155,'IV':0.2 }\n",
    "    \n",
    "    umean = a_mean[Terrain_category] * mean_windspeed * (height/10)**alpha_mean[Terrain_category]\n",
    "    ugust = a_gust[Terrain_category] * mean_windspeed * (height/10)**alpha_gust[Terrain_category]\n",
    "    fig = plt.figure(num=2, figsize=(8, 6))\n",
    "    ax = plt.axes()\n",
    "    ax.plot(umean, height, label = 'Mean velocity profile')\n",
    "    ax.plot(ugust, height, label = 'Gust velocity profile')\n",
    "    ax.set_ylabel('Height')\n",
    "    ax.set_xlabel('Wind speed m/s')\n",
    "    ax.set_xlim([0,120])\n",
    "    ax.set_title('Wind Speed along height - Terrain category  ' + Terrain_category)  \n",
    "    ax.legend()\n",
    "    ax.grid(True)\n",
    "    plt.show()\n"
   ]
  },
  {
   "cell_type": "markdown",
   "metadata": {},
   "source": [
    "###### Let us plot"
   ]
  },
  {
   "cell_type": "markdown",
   "metadata": {},
   "source": [
    "Try different terrain category and mean wind speed values and observe the changes in the wind speed along height  "
   ]
  },
  {
   "cell_type": "code",
   "execution_count": 9,
   "metadata": {},
   "outputs": [
    {
     "data": {
      "application/vnd.jupyter.widget-view+json": {
       "model_id": "c4c703655b1c44d2b811f7315a296e34",
       "version_major": 2,
       "version_minor": 0
      },
      "text/html": [
       "<p>Failed to display Jupyter Widget of type <code>interactive</code>.</p>\n",
       "<p>\n",
       "  If you're reading this message in the Jupyter Notebook or JupyterLab Notebook, it may mean\n",
       "  that the widgets JavaScript is still loading. If this message persists, it\n",
       "  likely means that the widgets JavaScript library is either not installed or\n",
       "  not enabled. See the <a href=\"https://ipywidgets.readthedocs.io/en/stable/user_install.html\">Jupyter\n",
       "  Widgets Documentation</a> for setup instructions.\n",
       "</p>\n",
       "<p>\n",
       "  If you're reading this message in another frontend (for example, a static\n",
       "  rendering on GitHub or <a href=\"https://nbviewer.jupyter.org/\">NBViewer</a>),\n",
       "  it may mean that your frontend doesn't currently support widgets.\n",
       "</p>\n"
      ],
      "text/plain": [
       "interactive(children=(FloatSlider(value=50.0, description='mean_windspeed'), Dropdown(description='Terrain_category', options=('I', 'II', 'III', 'IV'), value='I'), Output()), _dom_classes=('widget-interact',))"
      ]
     },
     "metadata": {},
     "output_type": "display_data"
    }
   ],
   "source": [
    "mean_plot=interactive(plot_windspeed,mean_windspeed = (0.0,100.0), Terrain_category = ['I','II','III','IV'])\n",
    "mean_plot"
   ]
  },
  {
   "cell_type": "markdown",
   "metadata": {},
   "source": [
    "### Exercise: Wind profile generation for Jeddah Airport"
   ]
  },
  {
   "cell_type": "markdown",
   "metadata": {},
   "source": [
    "For the given data of Jeddah airport compute the mean and guest wind speed profiles for two terrrain categories. Make necessary changes in block 2. Evaluate and plot the gust wind pressure $q_{gust}(z)$ using the formulas in the slides provided."
   ]
  },
  {
   "cell_type": "markdown",
   "metadata": {},
   "source": [
    "## Check Point: Discussion"
   ]
  },
  {
   "cell_type": "markdown",
   "metadata": {},
   "source": [
    "#### Discuss amoung groups the observations regarding the generation of wind profiles."
   ]
  }
 ],
 "metadata": {
  "kernelspec": {
   "display_name": "Python 3",
   "language": "python",
   "name": "python3"
  },
  "language_info": {
   "codemirror_mode": {
    "name": "ipython",
    "version": 3
   },
   "file_extension": ".py",
   "mimetype": "text/x-python",
   "name": "python",
   "nbconvert_exporter": "python",
   "pygments_lexer": "ipython3",
   "version": "3.6.4"
  }
 },
 "nbformat": 4,
 "nbformat_minor": 2
}
